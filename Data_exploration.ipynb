{
 "cells": [
  {
   "cell_type": "code",
   "execution_count": 1,
   "outputs": [],
   "source": [
    "from camcos.simulations.settings import DATA_PATH\n",
    "import pandas as pd\n",
    "import numpy as np\n",
    "df = pd.read_csv(str(DATA_PATH / \"transactionData.csv\"))"
   ],
   "metadata": {
    "collapsed": false
   }
  },
  {
   "cell_type": "code",
   "execution_count": 4,
   "outputs": [
    {
     "name": "stdout",
     "output_type": "stream",
     "text": [
      "      executionGas  Count  logExecutionGas  Percentage\n",
      "0            21000   3015         9.952278   20.091963\n",
      "1           179912    776        12.100223    5.171265\n",
      "2           138524    497        11.838799    3.312009\n",
      "3           250000    160        12.429216    1.066240\n",
      "4           207128    147        12.241092    0.979608\n",
      "...            ...    ...              ...         ...\n",
      "1050         33627      2        10.423085    0.013328\n",
      "1051        579970      2        13.270732    0.013328\n",
      "1052         69548      2        11.149772    0.013328\n",
      "1053        597964      2        13.301286    0.013328\n",
      "1054        199784      2        12.204992    0.013328\n",
      "\n",
      "[1055 rows x 4 columns]\n"
     ]
    }
   ],
   "source": [
    "# Add a new column for log of executionGas\n",
    "df['logExecutionGas'] = np.log(df['executionGas'])\n",
    "\n",
    "# Filter the dataframe\n",
    "filtered_df = df[(df['logExecutionGas'] > 0) & (df['logExecutionGas'] < 17)]\n",
    "\n",
    "# Find the executionGas values that occur multiple times in the filtered data\n",
    "common_execution_gas = filtered_df['executionGas'].value_counts()\n",
    "\n",
    "# Filter only the executionGas that repeats\n",
    "repeated_execution_gas = common_execution_gas[common_execution_gas > 1]\n",
    "\n",
    "# Convert the series into a dataframe\n",
    "repeated_execution_gas_df = repeated_execution_gas.reset_index()\n",
    "\n",
    "# Rename the columns\n",
    "repeated_execution_gas_df.columns = ['executionGas', 'Count']\n",
    "repeated_execution_gas_df['logExecutionGas'] = np.log(repeated_execution_gas_df['executionGas'])\n",
    "# Calculate the percentage of each executionGas with respect to the total number of transactions in the filtered dataset\n",
    "repeated_execution_gas_df['Percentage'] = (repeated_execution_gas_df['Count'] / df.shape[0]) * 100\n",
    "print(repeated_execution_gas_df)"
   ],
   "metadata": {
    "collapsed": false
   }
  },
  {
   "cell_type": "code",
   "execution_count": 6,
   "outputs": [],
   "source": [
    "# Show all the transactions with executionGas = 179912 in a csv file\n",
    "df[df['executionGas'] == 179912].to_csv(str(DATA_PATH / \"executionGas179912.csv\"), index=False)"
   ],
   "metadata": {
    "collapsed": false
   }
  },
  {
   "cell_type": "code",
   "execution_count": 8,
   "outputs": [],
   "source": [
    "#Show all the transactions with calldataUsage = 204 in a csv file\n",
    "df[df['callDataUsage'] == 204].to_csv(str(DATA_PATH / \"calldataUsage204.csv\"), index=False)"
   ],
   "metadata": {
    "collapsed": false
   }
  },
  {
   "cell_type": "code",
   "execution_count": null,
   "outputs": [],
   "source": [],
   "metadata": {
    "collapsed": false
   }
  }
 ],
 "metadata": {
  "kernelspec": {
   "display_name": "Python 3",
   "language": "python",
   "name": "python3"
  },
  "language_info": {
   "codemirror_mode": {
    "name": "ipython",
    "version": 2
   },
   "file_extension": ".py",
   "mimetype": "text/x-python",
   "name": "python",
   "nbconvert_exporter": "python",
   "pygments_lexer": "ipython2",
   "version": "2.7.6"
  }
 },
 "nbformat": 4,
 "nbformat_minor": 0
}
