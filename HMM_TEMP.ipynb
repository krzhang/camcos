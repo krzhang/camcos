{
 "cells": [
  {
   "cell_type": "code",
   "execution_count": 1,
   "metadata": {},
   "outputs": [],
   "source": [
    "# Import needed module\n",
    "import pandas as pd\n",
    "import numpy as np\n",
    "import matplotlib.pyplot as plt\n",
    "import os"
   ]
  },
  {
   "cell_type": "code",
   "execution_count": 2,
   "metadata": {},
   "outputs": [],
   "source": [
    "def e_step(bit_win,rest,alpha,beta):\n",
    "    if rest == 1:\n",
    "        E_phi = rest*beta**rest*np.log(min(bit_win)/beta)\n",
    "    else:\n",
    "        E_phi = rest*beta**rest*((min(bit_win)**(-rest+1)-beta**(-rest+1))/\n",
    "                                 (1-rest))\n",
    "    return E_phi"
   ]
  },
  {
   "cell_type": "code",
   "execution_count": null,
   "metadata": {},
   "outputs": [],
   "source": [
    "# Can ignore\n",
    "# Assume x list as the whole data.\n",
    "n = 20 # The number of data\n",
    "x = np.sort(np.random.random(n))[::-1] # Create and sort from large to small\n",
    "\n",
    "r = 10\n",
    "x_win = x[:r]\n",
    "alpha_list = []\n",
    "beta_list = []\n",
    "# Expected value\n",
    "alpha = np.random.random()\n",
    "beta = min(x_win)\n",
    "while beta >= min(x_win):\n",
    "    beta = np.random.random()\n",
    "epsilon = 0.000001\n",
    "alpha_list.append(alpha)\n",
    "beta_list.append(beta)\n",
    "\n",
    "#Loop until difference less than epsilon\n",
    "#while loop \n",
    "# Setting restriction\n",
    "rest = alpha*(n-r)\n",
    "# E-step\n",
    "#beta = e_step(x_win,rest,alpha,beta)\n",
    "if rest == 1:\n",
    "    E_phi0 = rest*beta**(rest)*np.log(min(x_win)/beta)\n",
    "else:\n",
    "    E_phi0 = rest*beta**(rest)*((min(x_win)**(-rest+1)-beta**(-rest+1))/\n",
    "                                  (1-rest))\n",
    "n = len(x_win)+1\n",
    "beta = E_phi0\n",
    "alpha = n/(sum(np.log(x_win))-n*np.log(beta))\n",
    "alpha_list.append(alpha)\n",
    "beta_list.append(beta)\n",
    "\n",
    "E_phi0 = sum(np.log(x))"
   ]
  },
  {
   "cell_type": "code",
   "execution_count": 131,
   "metadata": {
    "scrolled": true
   },
   "outputs": [
    {
     "name": "stdout",
     "output_type": "stream",
     "text": [
      "[7.29398374e+01 6.49086461e+01 5.31477001e+01 4.63115675e+01\n",
      " 4.59285609e+01 4.39530808e+01 2.18146470e+01 1.91322391e+01\n",
      " 1.85126449e+01 1.52446275e+01 1.28610825e+01 1.27917892e+01\n",
      " 1.26218731e+01 1.23758593e+01 1.16407561e+01 1.12563870e+01\n",
      " 1.04913466e+01 8.86916516e+00 7.97672874e+00 7.97157457e+00\n",
      " 7.13412216e+00 6.10531838e+00 5.92468497e+00 5.73439719e+00\n",
      " 5.68602453e+00 5.39612983e+00 5.27328696e+00 5.14639406e+00\n",
      " 5.10060150e+00 5.02600189e+00 4.85987339e+00 4.73432484e+00\n",
      " 4.67305311e+00 4.43140735e+00 4.30389034e+00 4.25629712e+00\n",
      " 4.12147721e+00 4.08748450e+00 3.94771247e+00 3.54162766e+00\n",
      " 3.43629062e+00 3.43525833e+00 3.35161661e+00 3.19409716e+00\n",
      " 3.09463138e+00 3.09279528e+00 3.03312859e+00 3.00207565e+00\n",
      " 2.97317330e+00 2.96825365e+00 2.92894531e+00 2.89542852e+00\n",
      " 2.88807270e+00 2.88165621e+00 2.87253147e+00 2.87163790e+00\n",
      " 2.86770239e+00 2.85465985e+00 2.81953337e+00 2.75982942e+00\n",
      " 2.74680911e+00 2.71337557e+00 2.69175173e+00 2.69086348e+00\n",
      " 2.68506491e+00 2.60373254e+00 2.60112027e+00 2.57211807e+00\n",
      " 2.55896472e+00 2.55647978e+00 2.46403729e+00 2.41136574e+00\n",
      " 2.40924201e+00 2.33790280e+00 2.23246276e+00 2.17542272e+00\n",
      " 2.09741636e+00 2.08104295e+00 2.06520492e+00 1.97773009e+00\n",
      " 1.96130749e+00 1.86968641e+00 1.82699585e+00 1.73321432e+00\n",
      " 1.73191693e+00 1.60105205e+00 1.59620308e+00 1.59056599e+00\n",
      " 1.56646464e+00 1.55548089e+00 1.51940821e+00 1.36245139e+00\n",
      " 1.34474315e+00 1.33552509e+00 1.30613954e+00 1.29831268e+00\n",
      " 1.26149293e+00 1.23868427e+00 1.19110139e+00 1.17301630e+00\n",
      " 1.16173655e+00 1.15621418e+00 1.15164928e+00 1.13473591e+00\n",
      " 1.10256014e+00 1.08496800e+00 1.08276178e+00 1.00529578e+00\n",
      " 9.42045263e-01 9.32340904e-01 9.23820289e-01 9.18491619e-01\n",
      " 9.03194376e-01 8.95939475e-01 8.78558848e-01 8.74402388e-01\n",
      " 8.59343782e-01 7.98767804e-01 7.98418854e-01 7.89087809e-01\n",
      " 7.78637790e-01 7.71287693e-01 7.38900110e-01 7.29675935e-01\n",
      " 7.25690535e-01 7.20029032e-01 7.16698365e-01 7.04762359e-01\n",
      " 7.01048977e-01 6.97657561e-01 6.62880261e-01 5.86501039e-01\n",
      " 5.68432893e-01 5.58452851e-01 5.43244972e-01 5.34247504e-01\n",
      " 5.31368662e-01 5.19823649e-01 5.14462814e-01 4.84736810e-01\n",
      " 4.79433243e-01 4.78473811e-01 4.43267324e-01 4.30473704e-01\n",
      " 4.13578392e-01 4.09860968e-01 4.04446405e-01 3.96690835e-01\n",
      " 3.67022958e-01 3.65006045e-01 3.62598054e-01 3.57094636e-01\n",
      " 3.31537986e-01 3.29647720e-01 3.21762083e-01 3.11203225e-01\n",
      " 3.07061650e-01 2.97509955e-01 2.79828148e-01 2.68513989e-01\n",
      " 2.45953784e-01 2.39853707e-01 2.37181520e-01 2.27950757e-01\n",
      " 2.25422511e-01 2.09736844e-01 2.07507007e-01 1.98337079e-01\n",
      " 1.97890307e-01 1.92848220e-01 1.92484447e-01 1.87861355e-01\n",
      " 1.84319946e-01 1.78644806e-01 1.77344666e-01 1.74589949e-01\n",
      " 1.63300580e-01 1.50851873e-01 1.49222959e-01 1.33820699e-01\n",
      " 1.31603792e-01 1.26843460e-01 1.19374649e-01 1.01855575e-01\n",
      " 9.91912968e-02 9.62926444e-02 9.45956974e-02 9.17016585e-02\n",
      " 8.71747342e-02 8.67455183e-02 8.53754827e-02 8.48542237e-02\n",
      " 8.18045479e-02 6.75489903e-02 6.17448731e-02 5.27668153e-02\n",
      " 4.38119981e-02 2.37611371e-02 2.19697129e-02 1.81244762e-02]\n"
     ]
    }
   ],
   "source": [
    "n = 200 # The number of data\n",
    "x = np.sort(np.random.pareto(1,n))[::-1] # Create and sort from large to small\n",
    "\n",
    "r = 199\n",
    "x_win = x[:r]\n",
    "alpha_list = []\n",
    "beta_list = []\n",
    "ll = [-np.Inf]\n",
    "'''\n",
    "Beta_0 can't be the min(x_win) since in the initial steps will get 0\n",
    "  for both restriction.\n",
    "'''\n",
    "beta = min(x_win)\n",
    "while beta >= min(x_win):\n",
    "    beta = np.random.pareto(3)\n",
    "alpha = n/(sum(np.log(x_win))-n*np.log(beta))\n",
    "epsilon = 0.000001\n",
    "alpha_list.append(alpha)\n",
    "beta_list.append(beta)\n",
    "print(x)"
   ]
  },
  {
   "cell_type": "code",
   "execution_count": 138,
   "metadata": {},
   "outputs": [
    {
     "name": "stdout",
     "output_type": "stream",
     "text": [
      "old alpha =  0.1638203466812349\n",
      "old beta  =  0.0025250711025776936\n",
      "new alpha =  0.16382042456848225\n",
      "new beta  =  0.0025250785932570585\n",
      "epsilon =  1e-06 \n",
      "distance=  7.824662022418656e-08 True\n"
     ]
    }
   ],
   "source": [
    "#Loop until difference less than epsilon\n",
    "#while loop \n",
    "# Setting restriction\n",
    "#while True:\n",
    "rest = alpha*(n-r)\n",
    "# E-step\n",
    "#beta = e_step(x_win,rest,alpha,beta)\n",
    "if rest == 1:\n",
    "    E_phi0 = rest*beta**(rest)*np.log(min(x_win)/beta)\n",
    "else:\n",
    "    E_phi0 = rest*beta**(rest)*((min(x_win)**(-rest+1)-beta**(-rest+1))/\n",
    "                                  (1-rest))\n",
    "\n",
    "E_phi0log = sum(np.log(x_win))+(n-r)*(-(beta**alpha*np.log(min(x_win)))/(min(x_win)**alpha)\n",
    "                                     +np.log(beta)-(beta**alpha)/(alpha*min(x_win)**alpha)\n",
    "                                     +1/alpha)\n",
    "print('old alpha = ',alpha)\n",
    "print('old beta  = ',beta)\n",
    "beta = E_phi0\n",
    "alpha = n/(E_phi0log-n*np.log(beta))\n",
    "print('new alpha = ',alpha)\n",
    "print('new beta  = ',beta)\n",
    "# adding new alpha and beta to lists\n",
    "alpha_list.append(alpha)\n",
    "beta_list.append(beta)\n",
    "distance = ((alpha_list[-1]-alpha_list[-2])**2+(beta_list[-1]-beta_list[-2])**2)**0.5\n",
    "print('epsilon = ',epsilon,'\\ndistance= ',distance, distance<epsilon)\n",
    "ll.append(n*np.log(alpha)+n*np.log(beta)-(alpha+1)*np.sum(np.log(x)))\n",
    "#if ll[-1]-ll[-2]<0:\n",
    "#   break"
   ]
  },
  {
   "cell_type": "code",
   "execution_count": 112,
   "metadata": {},
   "outputs": [
    {
     "name": "stdout",
     "output_type": "stream",
     "text": [
      "testing\n"
     ]
    }
   ],
   "source": [
    "while True:\n",
    "    print('testing')\n",
    "    break"
   ]
  },
  {
   "cell_type": "code",
   "execution_count": null,
   "metadata": {},
   "outputs": [],
   "source": []
  }
 ],
 "metadata": {
  "kernelspec": {
   "display_name": "Python 3",
   "language": "python",
   "name": "python3"
  },
  "language_info": {
   "codemirror_mode": {
    "name": "ipython",
    "version": 3
   },
   "file_extension": ".py",
   "mimetype": "text/x-python",
   "name": "python",
   "nbconvert_exporter": "python",
   "pygments_lexer": "ipython3",
   "version": "3.8.5"
  }
 },
 "nbformat": 4,
 "nbformat_minor": 4
}
