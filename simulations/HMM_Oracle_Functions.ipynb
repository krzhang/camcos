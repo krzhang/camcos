{
 "cells": [
  {
   "cell_type": "code",
   "execution_count": 1,
   "metadata": {},
   "outputs": [],
   "source": [
    "import numpy as np\n",
    "import pandas as pd\n",
    "import os\n",
    "import time\n",
    "import numpy as np\n",
    "import matplotlib.pyplot as plt\n",
    "os.getcwd()\n",
    "os.chdir('C:\\\\Users\\\\Wetauzer\\\\Desktop\\\\Data')"
   ]
  },
  {
   "cell_type": "code",
   "execution_count": 2,
   "metadata": {},
   "outputs": [],
   "source": [
    "tx_df = pd.read_csv('Z:03_22_03_26.csv')\n",
    "tx_df = tx_df.sort_values('block_number')"
   ]
  },
  {
   "cell_type": "code",
   "execution_count": 3,
   "metadata": {},
   "outputs": [],
   "source": [
    "# This is just for selecting subset of blocks. Comment out if you want the whole dataset\n",
    "num_blocks = 2000\n",
    "tx_df = tx_df[tx_df.block_number.isin(range(tx_df.block_number.min(), tx_df.block_number.unique()[num_blocks]))]"
   ]
  },
  {
   "cell_type": "code",
   "execution_count": 4,
   "metadata": {},
   "outputs": [],
   "source": [
    "tx_df.reset_index(inplace=True)\n",
    "tx_df = tx_df.loc[:, tx_df.columns.intersection(['block_number', 'hash', 'gas_price', 'receipt_gas_used'])]\n",
    "tx_df.gas_price = tx_df.gas_price/1e9 # convert the prices to gwei"
   ]
  },
  {
   "cell_type": "markdown",
   "metadata": {},
   "source": [
    "Geth price oracle offers a single price recommendation that is calculated based from the 60th percentile of the minimum accepted bid price from the previous 100 blocks."
   ]
  },
  {
   "cell_type": "code",
   "execution_count": 5,
   "metadata": {},
   "outputs": [],
   "source": [
    "def geth_price(tx_df, window = 100):\n",
    "    \"\"\" Function that provides a price recommendation based on the Geth price oracle\"\"\"\n",
    "    blx_in = pd.Series(tx_df[\"block_number\"].unique()) # blocks from our dataset\n",
    "    blx_out = blx_in[range(window, len(blx_in))] # blocks that will have values\n",
    "    blk_mins = tx_df.groupby(tx_df.block_number).gas_price.min()\n",
    "    price_rec = []\n",
    "    win_min = 0\n",
    "    win_max = window\n",
    "    for blk in blx_out:\n",
    "        blk_win = blk_mins[win_min:win_max]\n",
    "        price_rec.append(blk_win.quantile(.6))\n",
    "        win_min += 1\n",
    "        win_max += 1\n",
    "    blk_oracle_df = pd.DataFrame({'block_number':blx_out, 'price_rec': price_rec})\n",
    "    tx_oracle_df = pd.merge(tx_df, blk_oracle_df, how=\"right\", on=[\"block_number\"])\n",
    "    return tx_oracle_df"
   ]
  },
  {
   "cell_type": "code",
   "execution_count": 6,
   "metadata": {},
   "outputs": [],
   "source": [
    "# A lot of zero/low gas price txs need to be removed \n",
    "tx_exc_low = tx_df[tx_df.gas_price>50]\n",
    "# tx_df with geth price recommendations\n",
    "geth_df = geth_price(tx_exc_low)\n",
    "# Normalize bids based on the Geth price recommendation to get value\n",
    "geth_df['value'] = geth_df.gas_price / geth_df.price_rec"
   ]
  },
  {
   "cell_type": "code",
   "execution_count": 7,
   "metadata": {},
   "outputs": [
    {
     "data": {
      "text/plain": [
       "<AxesSubplot:ylabel='Frequency'>"
      ]
     },
     "execution_count": 7,
     "metadata": {},
     "output_type": "execute_result"
    },
    {
     "data": {
      "image/png": "[encoded data removed]",
      "text/plain": [
       "<Figure size 432x288 with 1 Axes>"
      ]
     },
     "metadata": {
      "needs_background": "light"
     },
     "output_type": "display_data"
    }
   ],
   "source": [
    "# Distribution of values based on Geth oracle\n",
    "geth_df.value.plot.hist(xlim = [0, 3], bins = 2000)"
   ]
  },
  {
   "cell_type": "code",
   "execution_count": 8,
   "metadata": {},
   "outputs": [
    {
     "data": {
      "text/plain": [
       "<AxesSubplot:ylabel='Frequency'>"
      ]
     },
     "execution_count": 8,
     "metadata": {},
     "output_type": "execute_result"
    },
    {
     "data": {
      "image/png": "[encoded data removed]",
      "text/plain": [
       "<Figure size 432x288 with 1 Axes>"
      ]
     },
     "metadata": {
      "needs_background": "light"
     },
     "output_type": "display_data"
    }
   ],
   "source": [
    "# Distribution of Gas limits\n",
    "geth_df.receipt_gas_used.plot.hist(xlim = [0, 200000], bins = 2000)"
   ]
  },
  {
   "cell_type": "markdown",
   "metadata": {},
   "source": [
    "Below is the alternative price oracle which produced quartiles for each block based on all transactions from the past N blocks"
   ]
  },
  {
   "cell_type": "code",
   "execution_count": 9,
   "metadata": {},
   "outputs": [],
   "source": [
    "def percentile_prices_tx(tx_df, q_1 = 25, q_2 = 50, q_3 = 75, window = 25):\n",
    "    blx_in = pd.Series(tx_df[\"block_number\"].unique()) # blocks from our dataset\n",
    "    blx_out = blx_in[range(window, len(blx_in))] # blocks that will have values\n",
    "    win_min = 0\n",
    "    win_max = window\n",
    "    p1 = []\n",
    "    p2 = []\n",
    "    p3 = []\n",
    "    p4 = []\n",
    "    p5 = []\n",
    "    for blk in blx_out:\n",
    "        blk_win = blx_in[win_min:win_max]\n",
    "        p1.append(tx_df[tx_df.block_number.isin(blk_win)].gas_price.min())\n",
    "        p2.append(tx_df[tx_df.block_number.isin(blk_win)].gas_price.quantile(q_1/100))\n",
    "        p3.append(tx_df[tx_df.block_number.isin(blk_win)].gas_price.quantile(q_2/100))\n",
    "        p4.append(tx_df[tx_df.block_number.isin(blk_win)].gas_price.quantile(q_3/100))\n",
    "        p5.append(tx_df[tx_df.block_number.isin(blk_win)].gas_price.max())\n",
    "        win_min += 1\n",
    "        win_max += 1\n",
    "    blk_oracle_df = pd.DataFrame({'block_number':blx_out, 'minimum':p1, 'q_1':p2, 'q_2':p3, 'q_3':p4, 'maximum':p5})\n",
    "    tx_oracle_df = pd.merge(tx_df, blk_oracle_df, how=\"right\", on=[\"block_number\"])\n",
    "    return tx_oracle_df"
   ]
  },
  {
   "cell_type": "code",
   "execution_count": 10,
   "metadata": {
    "scrolled": false
   },
   "outputs": [],
   "source": [
    "percentile_df = percentile_prices_tx(tx_exc_low)"
   ]
  },
  {
   "cell_type": "code",
   "execution_count": 11,
   "metadata": {},
   "outputs": [],
   "source": [
    "# Function to rescale values to values between 0 and 1\n",
    "def bids_std(tx):\n",
    "    gp = tx[3]\n",
    "    min_p = tx[4]\n",
    "    max_p = tx[8]\n",
    "    value = (gp - min_p)/(max_p - min_p)\n",
    "    return value"
   ]
  },
  {
   "cell_type": "code",
   "execution_count": 12,
   "metadata": {},
   "outputs": [],
   "source": [
    "# Applying function to df\n",
    "percentile_df['value'] = percentile_df.apply(bids_std, axis=1)"
   ]
  },
  {
   "cell_type": "code",
   "execution_count": 19,
   "metadata": {},
   "outputs": [
    {
     "data": {
      "text/plain": [
       "<AxesSubplot:ylabel='Frequency'>"
      ]
     },
     "execution_count": 19,
     "metadata": {},
     "output_type": "execute_result"
    },
    {
     "data": {
      "image/png": "[encoded data removed]",
      "text/plain": [
       "<Figure size 432x288 with 1 Axes>"
      ]
     },
     "metadata": {
      "needs_background": "light"
     },
     "output_type": "display_data"
    }
   ],
   "source": [
    "# Distribution of scaled values \n",
    "percentile_df.value.plot.hist(xlim = [0,1], bins = 750)"
   ]
  }
 ],
 "metadata": {
  "kernelspec": {
   "display_name": "Python 3",
   "language": "python",
   "name": "python3"
  },
  "language_info": {
   "codemirror_mode": {
    "name": "ipython",
    "version": 3
   },
   "file_extension": ".py",
   "mimetype": "text/x-python",
   "name": "python",
   "nbconvert_exporter": "python",
   "pygments_lexer": "ipython3",
   "version": "3.8.5"
  }
 },
 "nbformat": 4,
 "nbformat_minor": 2
}
