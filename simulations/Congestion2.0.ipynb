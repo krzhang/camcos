{
 "cells": [
  {
   "cell_type": "markdown",
   "metadata": {},
   "source": [
    "# Congestion Simulation\n",
    "\n",
    "We simulate the ethereum market in both the status quo and under EIP-1559. Both simulations draw from the same distribution of \"values\", which quantify the amount that users inherently value their transaction. Both simulations also draw from the same \"gas used\" distributions.\n",
    "\n",
    "We first import the necessary libraries:"
   ]
  },
  {
   "cell_type": "code",
   "execution_count": 1,
   "metadata": {},
   "outputs": [],
   "source": [
    "import numpy as np\n",
    "import pandas as pd\n",
    "import math\n",
    "from collections import deque\n",
    "import matplotlib.pyplot as plt\n",
    "import cProfile\n",
    "import random"
   ]
  },
  {
   "cell_type": "markdown",
   "metadata": {},
   "source": [
    "Throughout the simulation, we keep track of blocks filled and oracle prediction values generated. "
   ]
  },
  {
   "cell_type": "code",
   "execution_count": 2,
   "metadata": {},
   "outputs": [],
   "source": [
    "sq_current_oracle = 0\n",
    "eip_current_oracle = 0 \n",
    "\n",
    "sq_blocks = []\n",
    "eip_blocks = []\n",
    "\n",
    "sq_block_mins =  deque([])\n",
    "eip_block_mins = deque([])\n",
    "\n",
    "sq_gas_price_batches = []\n",
    "eip_gas_price_batches = []\n",
    "\n",
    "sq_wait_times =[]\n",
    "eip_wait_times=[]"
   ]
  },
  {
   "cell_type": "markdown",
   "metadata": {},
   "source": [
    "At every iteration of the simulation, a block is filled with the most lucrative transactions in the mempool, and the mempool is filled again with 2000 transactions. In the function defined below, 2000 samples are taken from the \"values\" and \"gas used\" distributions, price mapped to Status Quo and EIP-1559 simulations, and added to the existing mempool. "
   ]
  },
  {
   "cell_type": "code",
   "execution_count": 3,
   "metadata": {},
   "outputs": [],
   "source": [
    "def create_mempool(txn_number, sq_df, eip_df, basefee, t=0):\n",
    "  \n",
    "    global sq_current_oracle, eip_current_oracle, sq_gas_price_batches, eip_gas_price_batches\n",
    "\n",
    "    values = np.random.gamma(20.72054, 1/17.49951, txn_number)\n",
    "    gas_limit = (np.random.pareto(1.42150, txn_number)+1)*21000  # pareto distribution with alpha 1.42150, beta 21000\n",
    "    \n",
    "    sq_gas_prices = [sq_current_oracle * v for v in values] \n",
    "    eip_gas_prices = [min(basefee + (eip_current_oracle * v), sq_current_oracle * v) for v in values]   \n",
    "    \n",
    "    eip_gas_price_batches += [eip_gas_prices]\n",
    "    sq_gas_price_batches += [sq_gas_prices]\n",
    "    \n",
    "    # store each updated mempool as a DataFrame\n",
    "\n",
    "    sq_df = sq_df.append(pd.DataFrame({\n",
    "        'gas price': sq_gas_prices,\n",
    "        'gas limit': gas_limit,\n",
    "        'time' : t,\n",
    "        'amount paid': [x * y for x,y in zip(sq_gas_prices,gas_limit)]\n",
    "        }), ignore_index=True)\n",
    "    \n",
    "\n",
    "    eip_df = eip_df.append(pd.DataFrame({\n",
    "        'gas price': eip_gas_prices,\n",
    "        'gas limit': gas_limit,\n",
    "        'time': t,\n",
    "        'amount paid' : [x * y for x,y in zip(eip_gas_prices,gas_limit)]\n",
    "        }), ignore_index=True)\n",
    "    \n",
    "    # sort transactions in each mempool by gas price\n",
    "    \n",
    "    sq_df = sq_df.sort_values(by=['gas price'], ascending=False).reset_index(drop=True)\n",
    "    eip_df = eip_df.sort_values(by=['gas price'], ascending=False).reset_index(drop=True)\n",
    "    \n",
    "    return sq_df, eip_df"
   ]
  },
  {
   "cell_type": "markdown",
   "metadata": {},
   "source": [
    "We define some helper functions. First, a function to calculate a new basefee. Second, a function to update the oracle values for each transaction. We create a sorted list of the smallest (lowest gas-price) transactions from the previous hundred blocks. The oracle value is defined as the 60th item in that list. Finally, we need functions to fill blocks for both simulations. Because the protocols have different rules on this, we pass a basefee of 0 in the Status Quo simulation and pass in the actual basefee in the EIP-1559 simulation. "
   ]
  },
  {
   "cell_type": "code",
   "execution_count": 4,
   "metadata": {},
   "outputs": [],
   "source": [
    "def get_basefee(b, g): \n",
    "    \n",
    "    return b*(1+(1/8)*((g-15000000)/15000000))\n",
    "\n",
    "def get_oracle():\n",
    "    \n",
    "    global sq_current_oracle, sq_block_mins, sq_blocks, eip_block_mins, eip_current_oracle, eip_blocks\n",
    "    \n",
    "    update_oracle(sq_current_oracle, sq_block_mins, sq_blocks)\n",
    "    update_oracle(eip_current_oracle, eip_block_mins, eip_blocks)\n",
    "\n",
    "def update_oracle(current_oracle, block_minimums, blocks):\n",
    "    recent_gp = blocks[-1][-1][1]\n",
    "    block_minimums.popleft()\n",
    "    block_minimums.append(recent_gp)\n",
    "\n",
    "    sorted_block_minimums = sorted(block_minimums)\n",
    "  \n",
    "    current_oracle = sorted_block_minimums[59]\n",
    "\n",
    "def fill_block(mempool, basefee, time):\n",
    "    global eip_wait_times, sq_wait_times\n",
    "    \n",
    "    block = []\n",
    "    block_size = 0\n",
    "    block_limit = 30000000 if basefee > 0 else 15000000\n",
    "    \n",
    "    for i in range(len(mempool)):\n",
    "        txn = mempool.iloc[i, :].tolist()\n",
    "        if block_size + txn[1] > block_limit or txn[0] < basefee:\n",
    "            break\n",
    "        else:\n",
    "            block.append(txn)\n",
    "            block_size += txn[1]\n",
    "    \n",
    "    block_wait_times = [time - txn[2] for txn in block]\n",
    "    if basefee:\n",
    "        eip_wait_times.append(block_wait_times)\n",
    "    else:\n",
    "        sq_wait_times.append(block_wait_times)\n",
    "    \n",
    "    #remove verified txns from mempool\n",
    "    mempool = mempool.iloc[i+1:,:]    \n",
    "    return block, mempool, block_size"
   ]
  },
  {
   "cell_type": "markdown",
   "metadata": {},
   "source": [
    "The simulation is ran in the following function, storing data on each iteration. "
   ]
  },
  {
   "cell_type": "code",
   "execution_count": 5,
   "metadata": {},
   "outputs": [],
   "source": [
    "def simulate(n):\n",
    "    \n",
    "    #initialize empty dataframes\n",
    "    df1 = pd.DataFrame() \n",
    "    df2 = pd.DataFrame() \n",
    "    \n",
    "    sq_block_data = pd.DataFrame()\n",
    "    eip_block_data = pd.DataFrame()\n",
    "   \n",
    "    sq_mempool_data = pd.DataFrame()\n",
    "    eip_mempool_data = pd.DataFrame()\n",
    "    \n",
    "  \n",
    "    sq_mempools = []\n",
    "    eip_mempools = []\n",
    "    eip_mempools_bf = []\n",
    "    demands = []\n",
    "    \n",
    "    global sq_block_mins, eip_block_mins, sq_blocks, sq_current_oracle, eip_current_oracle, eip_blocks, eip_wait_times, sq_wait_times\n",
    "    \n",
    "    #read in data to initialize oracle\n",
    "    data = pd.read_csv('block_data.csv')\n",
    "    minGasdf = data[['gasLimit','minGasPrice']].values \n",
    "    for d in minGasdf:\n",
    "        if len(eip_block_mins) == 100:\n",
    "            break\n",
    "        if d[1] == 'None':\n",
    "            continue\n",
    "        sq_block_mins.append(int(d[1]) / 10**9)\n",
    "        eip_block_mins.append(int(d[1]) / 10**9)\n",
    "    \n",
    "    basefee = eip_block_mins[-1]\n",
    "    basefees = [basefee]\n",
    "    \n",
    "    sorted_sq_block_mins = sorted(sq_block_mins)\n",
    "    sorted_eip_block_mins = sorted([x - basefee if x >= basefee else 0 for x in eip_block_mins])\n",
    "    \n",
    "    #set initial oracles\n",
    "    sq_current_oracle = sorted_sq_block_mins[59]\n",
    "    eip_current_oracle = sorted_eip_block_mins[59]\n",
    "    \n",
    "    #initialize mempools with 700 txns\n",
    "    sq_mempool, eip_mempool = create_mempool(1200, df1, df2, basefee)\n",
    "    \n",
    "    #iterate over n blocks\n",
    "    for i in range(n):\n",
    "        \n",
    "        #fill blocks from mempools\n",
    "        new_sq_block, new_sq_mempool, sq_blocksize = fill_block(sq_mempool, 0, i)\n",
    "        new_eip_block, new_eip_mempool, eip_blocksize = fill_block(sq_mempool, basefee, i)\n",
    "        \n",
    "        sq_blocks += [new_sq_block]\n",
    "        eip_blocks += [new_eip_block]\n",
    "        \n",
    "        get_oracle()\n",
    "        \n",
    "        #update mempools\n",
    "        sq_mempool = new_sq_mempool\n",
    "        eip_mempool = new_eip_mempool\n",
    "        \n",
    "        basefee = get_basefee(basefee, eip_blocksize)\n",
    "        basefees += [basefee]\n",
    "        \n",
    "        sq_mempools += [sq_mempool]\n",
    "        eip_mempools += [eip_mempool]\n",
    "        eip_mempools_bf += [eip_mempool[eip_mempool['gas price'] >= basefee]]\n",
    "        \n",
    "        #add 200 new txns before next iteration\n",
    "        new_demand = random.randint(100, 400)\n",
    "        sq_mempool, eip_mempool = create_mempool(new_demand, sq_mempool, eip_mempool, basefee, i+1) #randomly select from 50 to 400\n",
    "        \n",
    "        demands += [new_demand]\n",
    "        \n",
    "        print(\"progress: \", i+1, end = '\\r')\n",
    "    return basefees, eip_blocks, sq_blocks, eip_mempools, sq_mempools, eip_mempools_bf, demands, eip_wait_times, sq_wait_times"
   ]
  },
  {
   "cell_type": "markdown",
   "metadata": {},
   "source": [
    "We run the simulation and save the summary data."
   ]
  },
  {
   "cell_type": "code",
   "execution_count": null,
   "metadata": {},
   "outputs": [
    {
     "name": "stdout",
     "output_type": "stream",
     "text": [
      "progress:  768\r"
     ]
    }
   ],
   "source": [
    "s = simulate(1000)\n",
    "basefees_data = s[0]\n",
    "eip_blocks_data = s[1]\n",
    "sq_blocks_data = s[2]\n",
    "eip_mempools_data = s[3]\n",
    "sq_mempools_data = s[4]\n",
    "eip_mempools_bf_data = s[5]\n",
    "demands = s[6]\n",
    "eip_wait_times = s[7]\n",
    "sq_wait_times = s[8]\n",
    "\n",
    "# cProfile.run(\"simulate(100)\")"
   ]
  },
  {
   "cell_type": "code",
   "execution_count": null,
   "metadata": {},
   "outputs": [],
   "source": [
    "(print(True in [len(x) == 0 for x in eip_mempools_data]))"
   ]
  },
  {
   "cell_type": "markdown",
   "metadata": {},
   "source": [
    "# Basefee Over Time:"
   ]
  },
  {
   "cell_type": "code",
   "execution_count": null,
   "metadata": {},
   "outputs": [],
   "source": [
    "plt.rcParams[\"figure.figsize\"] = (15,10)\n",
    "plt.title(\"Basefee over Time\")\n",
    "plt.xlabel(\"Block Number\")\n",
    "plt.ylabel(\"Basefee in Gwei\")\n",
    "plt.plot(basefees_data)"
   ]
  },
  {
   "cell_type": "markdown",
   "metadata": {},
   "source": [
    "# Mempool Analysis\n",
    "We examine some statistics on the mempools throughout the simulation to quantify congestion."
   ]
  },
  {
   "cell_type": "markdown",
   "metadata": {},
   "source": [
    "### Mempool Size Over Time\n",
    "We show mempool sizes in both total gas and in total number of transactions"
   ]
  },
  {
   "cell_type": "code",
   "execution_count": null,
   "metadata": {},
   "outputs": [],
   "source": [
    "sq_mempool_sizes_gl = [sum(x[\"gas limit\"]) for x in sq_mempools_data]\n",
    "eip_mempool_sizes_bf_gl = [sum(x[\"gas limit\"]) for x in eip_mempools_bf_data]\n",
    "\n",
    "plt.title(\"Mempool Sizes (Total Gas in Mempool)\")\n",
    "plt.xlabel(\"Block Number\")\n",
    "plt.ylabel(\"Total Gas\")\n",
    "plt.plot(eip_mempool_sizes_bf_gl, label=\"eip-1559)\")\n",
    "plt.plot(sq_mempool_sizes_gl, label=\"status quo\")\n",
    "plt.legend(loc=\"upper left\")"
   ]
  },
  {
   "cell_type": "code",
   "execution_count": null,
   "metadata": {},
   "outputs": [],
   "source": [
    "sq_mempool_sizes = [len(x) for x in sq_mempools_data]\n",
    "eip_mempool_sizes_bf = [len(x) for x in eip_mempools_bf_data]\n",
    "\n",
    "plt.title(\"Mempool Sizes (Total Txns in Mempool)\")\n",
    "plt.xlabel(\"Block Number\")\n",
    "plt.ylabel(\"# of Txns\")\n",
    "plt.plot(eip_mempool_sizes_bf, label=\"eip-1559\")\n",
    "plt.plot(sq_mempool_sizes, label=\"status quo\")\n",
    "plt.legend(loc=\"upper left\")"
   ]
  },
  {
   "cell_type": "markdown",
   "metadata": {},
   "source": [
    "### Lost Revenue Over Time\n",
    "Show the total unpaid monetary value in the mempools. "
   ]
  },
  {
   "cell_type": "code",
   "execution_count": null,
   "metadata": {},
   "outputs": [],
   "source": [
    "eip_mempool_lrevs = [sum(i[\"amount paid\"]) for i in eip_mempools_bf_data]\n",
    "sq_mempool_lrevs = [sum(i[\"amount paid\"]) for i in sq_mempools_data]\n",
    "\n",
    "plt.title(\"Lost Revenue Over Time\")\n",
    "plt.xlabel(\"Block Number\")\n",
    "plt.ylabel(\"Total Fee in Gwei\")\n",
    "plt.plot(eip_mempool_lrevs, label=\"eip-1559\")\n",
    "plt.plot(sq_mempool_lrevs, label=\"status quo\")\n",
    "plt.legend(loc=\"upper left\")"
   ]
  },
  {
   "cell_type": "markdown",
   "metadata": {},
   "source": [
    "### Ratio of Wait Times\n",
    "After every 100 blocks, we calculate the average wait time of transactions included in blocks, denoted as $\\mu$. We then calculate $X/Y$ for $X$ := the number of transactions with wait times $\\leq \\mu$ and $Y$ := all other transactions. The following is a plot of those ratios. "
   ]
  },
  {
   "cell_type": "code",
   "execution_count": null,
   "metadata": {},
   "outputs": [],
   "source": [
    "eip_ratios = []\n",
    "sq_ratios = []\n",
    "\n",
    "for i in range(len(sq_blocks_data) // 100):\n",
    "    eip_section = eip_wait_times[i*100:(i+1)*100]\n",
    "    sq_section = sq_wait_times[i*100:(i+1)*100]\n",
    "    \n",
    "    eip_average = sum([sum(x) for x in eip_section]) / 100\n",
    "    sq_average = sum([sum(x) for x in sq_section]) / 100\n",
    "    \n",
    "    X_sq = sum([sum([x for x in y if x <= sq_average ]) for y in sq_section])\n",
    "    X_eip = sum([sum([x for x in y if x <= eip_average]) for y in eip_section])\n",
    "    \n",
    "    sq_waiting = len(sq_mempools_data[100*(i+1) - 1])\n",
    "    eip_waiting = len(eip_mempools_data[100*(i+1) - 1])\n",
    "    \n",
    "    Y_sq = sum([sum([x for x in y if x > sq_average ]) for y in sq_section]) + sq_waiting\n",
    "    Y_eip = sum([sum([x for x in y if x > eip_average]) for y in eip_section]) + eip_waiting\n",
    "    \n",
    "    eip_ratios.append(X_eip / Y_eip)\n",
    "    sq_ratios.append(X_sq / Y_sq)\n",
    "\n",
    "plt.title(\"Time Waiting Ratios\")\n",
    "plt.xlabel(\"Block\")\n",
    "plt.ylabel(\"Ratio\")\n",
    "plt.plot([100, 200, 300, 400, 500, 600, 700, 800, 900, 1000], eip_ratios, label=\"eip-1559\")\n",
    "plt.plot([100, 200, 300, 400, 500, 600, 700, 800, 900, 1000], sq_ratios, label=\"status quo\")\n",
    "plt.legend(loc=\"upper left\")"
   ]
  },
  {
   "cell_type": "markdown",
   "metadata": {},
   "source": [
    "# Other Metrics"
   ]
  },
  {
   "cell_type": "markdown",
   "metadata": {},
   "source": [
    "### Total Eth Spent in Both Systems"
   ]
  },
  {
   "cell_type": "code",
   "execution_count": null,
   "metadata": {},
   "outputs": [],
   "source": [
    "#compare total amount spent in both simulations\n",
    "eip_mempool_sums = [sum(x[\"amount paid\"]) for x in eip_mempools_data]\n",
    "sq_mempool_sums = [sum(x[\"amount paid\"]) for x in sq_mempools_data]\n",
    "print(\"total eth spent in eip-1559: \", sum(eip_mempool_sums) / 10**9)\n",
    "print(\"total eth spent in status quo: \", sum(sq_mempool_sums) / 10**9)\n",
    "print(\"total eth status quo - total eth eip-1559: \", (sum(sq_mempool_sums) / 10**9) - (sum(eip_mempool_sums) / 10**9))"
   ]
  }
 ],
 "metadata": {
  "kernelspec": {
   "display_name": "Python 3",
   "language": "python",
   "name": "python3"
  },
  "language_info": {
   "codemirror_mode": {
    "name": "ipython",
    "version": 3
   },
   "file_extension": ".py",
   "mimetype": "text/x-python",
   "name": "python",
   "nbconvert_exporter": "python",
   "pygments_lexer": "ipython3",
   "version": "3.8.5"
  }
 },
 "nbformat": 4,
 "nbformat_minor": 4
}
