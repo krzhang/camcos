{
 "cells": [
  {
   "cell_type": "markdown",
   "id": "e7684a81",
   "metadata": {},
   "source": [
    "<font size=\"6.5\">**Joint Distribution Fitting for Two Resources**\n",
    "\n",
    "<font size=\"3\">This file takes raw transaction data as an input. We fit each resource separately to various distributions and evaluate goodness-of-fit.\n",
    "\n"
   ]
  },
  {
   "cell_type": "markdown",
   "id": "04b6fe7f",
   "metadata": {},
   "source": [
    "For Below Code (improved Tx generation using joint densities):\n",
    "\n",
    "Ex. For gasVal=90000 , gasValCount=32, the ratio is >2% so add to commonGas list that goes into plot vert line then loop thru the call data values for 90k. 136, 200, 0, 72, and 8 (CallDataLen values in loop 2). need to isolate any CallDataLen that have count (CallDataLenCount) ratios > limit and include them in a model that generates them. For example, if gas 90k has lots of callData at len 200, then generate those at the % they appear in the dataset. then remove from set check if the other callData lengths at same gas value are over limit.\n",
    "\n",
    "If the count of gas values divided by the total values is over ratioLimitGas (or ratioLimitCallData in separately considered CD values), we will create special conditions to generate points from another joint distribution. This is first used to see if any gas val occurs at least this often in the set. Then if any corresponding cd len value occurs at that gas value over this ratio, we will later generate this exact gas and cd value at the proportion we see it in the set. If the there are other cd values corresponding to the current gas value being evaluated, we check if they all make up a total of over this ratio and generate from a distribution later (using parameters derived from cd lengths at this gas value). Note a limitation of this methodology is that it's possible for a gas value to have a specific CD length over this ratio and the rest of the cd values not summing to over this ratio. Therefore, the current code will not incorporate these points when generating the joint distribution. We repeat this block for CD to find the distributions across various gas values.\n",
    "\n",
    "Remaining df is filtered by how many different CD values are associated with each gas value (minNumGasValsForDistr variable defines this). the commonDFRemainingGas df is made to define at which gas values we will generate points from using a distribution, while commonDf will generate gas and CD values if that specific combo of gas and CD is common (more than ratioLimitGas)\n",
    "\n",
    "Point generation means we generate using a specific CD length and gas value. The leftover CD values can be modeled using a distribution if they don't individually contribute to a large proportion of the dataset."
   ]
  },
  {
   "cell_type": "code",
   "execution_count": null,
   "id": "0e916ac8",
   "metadata": {},
   "outputs": [],
   "source": []
  },
  {
   "cell_type": "code",
   "execution_count": null,
   "id": "adaf440b",
   "metadata": {},
   "outputs": [],
   "source": []
  },
  {
   "cell_type": "code",
   "execution_count": null,
   "id": "02fd314d",
   "metadata": {},
   "outputs": [],
   "source": []
  },
  {
   "cell_type": "code",
   "execution_count": null,
   "id": "3e670c08",
   "metadata": {},
   "outputs": [],
   "source": []
  },
  {
   "cell_type": "code",
   "execution_count": null,
   "id": "5a607417",
   "metadata": {},
   "outputs": [],
   "source": []
  },
  {
   "cell_type": "code",
   "execution_count": null,
   "id": "a7cf98ff",
   "metadata": {},
   "outputs": [],
   "source": []
  }
 ],
 "metadata": {
  "kernelspec": {
   "display_name": "Python 3 (ipykernel)",
   "language": "python",
   "name": "python3"
  },
  "language_info": {
   "codemirror_mode": {
    "name": "ipython",
    "version": 3
   },
   "file_extension": ".py",
   "mimetype": "text/x-python",
   "name": "python",
   "nbconvert_exporter": "python",
   "pygments_lexer": "ipython3",
   "version": "3.9.7"
  }
 },
 "nbformat": 4,
 "nbformat_minor": 5
}
