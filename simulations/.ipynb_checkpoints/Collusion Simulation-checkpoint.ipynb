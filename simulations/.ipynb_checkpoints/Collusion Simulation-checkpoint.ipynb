{
 "cells": [
  {
   "cell_type": "code",
   "execution_count": 3,
   "metadata": {},
   "outputs": [],
   "source": [
    "import matplotlib.pyplot as plt\n",
    "import random\n",
    "from numpy import cumsum"
   ]
  },
  {
   "cell_type": "code",
   "execution_count": 4,
   "metadata": {},
   "outputs": [
    {
     "ename": "SyntaxError",
     "evalue": "invalid syntax (<ipython-input-4-212743fab822>, line 27)",
     "output_type": "error",
     "traceback": [
      "\u001b[0;36m  File \u001b[0;32m\"<ipython-input-4-212743fab822>\"\u001b[0;36m, line \u001b[0;32m27\u001b[0m\n\u001b[0;31m    revenue.append(block_revenue)\u001b[0m\n\u001b[0m    ^\u001b[0m\n\u001b[0;31mSyntaxError\u001b[0m\u001b[0;31m:\u001b[0m invalid syntax\n"
     ]
    }
   ],
   "source": [
    "def collusion_scenario(p, epsilon, n=1000, gas_target=15000000, init_bf=100, txn_fee=101, d=8):\n",
    "    \n",
    "    block_sizes = [gas_target]\n",
    "    mempool = gas_target\n",
    "    revenue = [0]\n",
    "    mem_overfilled = mempool > 2 * gas_target\n",
    "    base_fee = [init_bf]\n",
    "    colluding_num = 1 if p == 0.0 else 0\n",
    "    colluder_revenue = [0]\n",
    "    myopic_revenue = [0]\n",
    "    \n",
    "    \n",
    "    for i in range(n - 1):\n",
    "        colluding = random.random() < p\n",
    "        if colluding:\n",
    "            mined_amount = gas_target - epsilon\n",
    "            colluding_num += 1\n",
    "        else:\n",
    "            mined_amount = (2 * gas_target) if mem_overfilled else mempool\n",
    "        \n",
    "        mempool -= mined_amount\n",
    "        new_basefee = basefee(base_fee[i], mined_amount, gas_target, d)\n",
    "        base_fee.append(new_basefee)\n",
    "        block_sizes.append(mined_amount)\n",
    "        block_revenue = (txn_fee - new_basefee) * mined_amount\n",
    "        \n",
    "        revenue.append(block_revenue) \n",
    "        \n",
    "        if colluding:\n",
    "            colluder_revenue.append(block_revenue)\n",
    "        else:\n",
    "            myopic_revenue.append(block_revenue)\n",
    "            \n",
    "        mempool += gas_target\n",
    "    \n",
    "    data = {\n",
    "        \"Basefee\" : base_fee,\n",
    "        \"Block Sizes\" : block_sizes,\n",
    "        \"Overall Revenues\" : revenue,\n",
    "        \"Myopic Revenues\" : myopic_revenue,\n",
    "        \"Colluder Revenues\" : colluder_revenue,\n",
    "        \"Avg Revenue per Colluder\": sum(colluder_revenue) / colluding_num,\n",
    "        \"Avg Revenue per Myopic\": sum(myopic_revenue) / (n - colluding_num),\n",
    "    }\n",
    "    \n",
    "    return data\n",
    "\n",
    "def basefee(previous, mined_amount, gas_target, d): \n",
    "    \n",
    "    return previous*(1+1/d*((mined_amount-gas_target)/gas_target))\n",
    "    "
   ]
  },
  {
   "cell_type": "code",
   "execution_count": null,
   "metadata": {},
   "outputs": [],
   "source": [
    "sim = collusion_scenario(.3, 1500000, 500)\n",
    "controll_sim = collusion_scenario(0, 1500000, 500)\n",
    "\n",
    "print(\"Total Revenue Under No Collusion:\", sum(controll_sim[\"Overall Revenues\"]))\n",
    "print(\"Total Myopic Revenue:\", sum(sim[\"Myopic Revenues\"]))\n",
    "print(\"Total Colluder Revenues:\", sum(sim[\"Colluder Revenues\"]))\n",
    "print(\"Average Colluder Revenue:\", sim[\"Avg Revenue per Colluder\"])\n",
    "print(\"Average Myopic Revenue:\", sim[\"Avg Revenue per Myopic\"])\n",
    "print(\"Average Revenue Under No Collusion:\", controll_sim[\"Avg Revenue per Myopic\"])"
   ]
  },
  {
   "cell_type": "code",
   "execution_count": null,
   "metadata": {},
   "outputs": [],
   "source": [
    "plt.title(\"Basefee Over Time\")\n",
    "plt.xlabel(\"Block Number\")\n",
    "plt.ylabel(\"Basefee in Gwei\")\n",
    "plt.plot(sim[\"Basefee\"])"
   ]
  },
  {
   "cell_type": "code",
   "execution_count": null,
   "metadata": {
    "scrolled": true
   },
   "outputs": [],
   "source": [
    "plt.title(\"Revenue per Block\")\n",
    "plt.xlabel(\"Block Number\")\n",
    "plt.ylabel(\"Revenue in Gwei\")\n",
    "plt.plot(cumsum(sim[\"Overall Revenues\"]), label=\"Collusion\")\n",
    "plt.plot(cumsum(controll_sim[\"Overall Revenues\"]), label=\"No Collusion\")\n",
    "plt.legend(loc=\"upper left\")"
   ]
  },
  {
   "cell_type": "code",
   "execution_count": null,
   "metadata": {},
   "outputs": [],
   "source": [
    "plt.title(\"Myopic Revenue\")\n",
    "plt.xlabel(\"Block Number\")\n",
    "plt.ylabel(\"Revenue in Gwei\")\n",
    "plt.plot(sim[\"Myopic Revenues\"])"
   ]
  },
  {
   "cell_type": "code",
   "execution_count": null,
   "metadata": {},
   "outputs": [],
   "source": [
    "plt.title(\"Colluder Revenue\")\n",
    "plt.xlabel(\"Block Number\")\n",
    "plt.ylabel(\"Revenue in Gwei\")\n",
    "plt.plot(sim[\"Colluder Revenues\"])"
   ]
  }
 ],
 "metadata": {
  "kernelspec": {
   "display_name": "Python 3",
   "language": "python",
   "name": "python3"
  },
  "language_info": {
   "codemirror_mode": {
    "name": "ipython",
    "version": 3
   },
   "file_extension": ".py",
   "mimetype": "text/x-python",
   "name": "python",
   "nbconvert_exporter": "python",
   "pygments_lexer": "ipython3",
   "version": "3.8.5"
  }
 },
 "nbformat": 4,
 "nbformat_minor": 4
}
