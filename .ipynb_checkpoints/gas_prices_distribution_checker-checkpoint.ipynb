{
 "cells": [
  {
   "cell_type": "markdown",
   "id": "4eb08477",
   "metadata": {},
   "source": [
    "Read in the data and import the packages"
   ]
  },
  {
   "cell_type": "code",
   "execution_count": 10,
   "id": "035a56b1",
   "metadata": {},
   "outputs": [],
   "source": [
    "import numpy as np\n",
    "import pandas as pd\n",
    "import matplotlib as mpl\n",
    "import matplotlib.pyplot as plt\n",
    "from data_personal_example import transaction_data_file, large_pre_gas_prices_file, \\\n",
    "suite_spot_txn\n",
    "\n",
    "pre_eip=pd.read_csv(large_pre_gas_prices_file)"
   ]
  },
  {
   "cell_type": "markdown",
   "id": "3917189f",
   "metadata": {},
   "source": [
    "First we will try to ascertain the distribution of the pre-EIP data."
   ]
  },
  {
   "cell_type": "code",
   "execution_count": 25,
   "id": "232ea39e",
   "metadata": {},
   "outputs": [
    {
     "data": {
      "text/html": [
       "<div>\n",
       "<style scoped>\n",
       "    .dataframe tbody tr th:only-of-type {\n",
       "        vertical-align: middle;\n",
       "    }\n",
       "\n",
       "    .dataframe tbody tr th {\n",
       "        vertical-align: top;\n",
       "    }\n",
       "\n",
       "    .dataframe thead th {\n",
       "        text-align: right;\n",
       "    }\n",
       "</style>\n",
       "<table border=\"1\" class=\"dataframe\">\n",
       "  <thead>\n",
       "    <tr style=\"text-align: right;\">\n",
       "      <th></th>\n",
       "      <th>hash</th>\n",
       "      <th>block_number</th>\n",
       "      <th>block_timestamp</th>\n",
       "      <th>receipt_gas_used</th>\n",
       "      <th>gas_price</th>\n",
       "    </tr>\n",
       "  </thead>\n",
       "  <tbody>\n",
       "    <tr>\n",
       "      <th>0</th>\n",
       "      <td>0xc9d37faf9270c0aa1a553d4e53777cf1617a606d8a26...</td>\n",
       "      <td>12111333</td>\n",
       "      <td>2021-03-26 00:16:51 UTC</td>\n",
       "      <td>45764</td>\n",
       "      <td>129000000000</td>\n",
       "    </tr>\n",
       "    <tr>\n",
       "      <th>1</th>\n",
       "      <td>0xceeee703a7638bfa1eaa0c3d97f31fe211dfb77915e6...</td>\n",
       "      <td>12111413</td>\n",
       "      <td>2021-03-26 00:33:17 UTC</td>\n",
       "      <td>36601</td>\n",
       "      <td>168000000000</td>\n",
       "    </tr>\n",
       "    <tr>\n",
       "      <th>2</th>\n",
       "      <td>0x87007e41f34e2c1ea51fe9ff5bde4a039c70f2a218fe...</td>\n",
       "      <td>12111458</td>\n",
       "      <td>2021-03-26 00:42:19 UTC</td>\n",
       "      <td>21000</td>\n",
       "      <td>174000000000</td>\n",
       "    </tr>\n",
       "    <tr>\n",
       "      <th>3</th>\n",
       "      <td>0x497a2de3a8a8a2799ead2bb558ba072cbb50c1f2ab8a...</td>\n",
       "      <td>12111280</td>\n",
       "      <td>2021-03-26 00:06:07 UTC</td>\n",
       "      <td>154315</td>\n",
       "      <td>168211840178</td>\n",
       "    </tr>\n",
       "    <tr>\n",
       "      <th>4</th>\n",
       "      <td>0x548aa6b360f2b81f0ed437b35af5405dfce857069e71...</td>\n",
       "      <td>12111328</td>\n",
       "      <td>2021-03-26 00:15:32 UTC</td>\n",
       "      <td>21000</td>\n",
       "      <td>154000000000</td>\n",
       "    </tr>\n",
       "    <tr>\n",
       "      <th>...</th>\n",
       "      <td>...</td>\n",
       "      <td>...</td>\n",
       "      <td>...</td>\n",
       "      <td>...</td>\n",
       "      <td>...</td>\n",
       "    </tr>\n",
       "    <tr>\n",
       "      <th>6264787</th>\n",
       "      <td>0xac03a458748d87b1e03732c7a60f13d3f6278e2dfb84...</td>\n",
       "      <td>12088722</td>\n",
       "      <td>2021-03-22 12:53:38 UTC</td>\n",
       "      <td>21000</td>\n",
       "      <td>165000000000</td>\n",
       "    </tr>\n",
       "    <tr>\n",
       "      <th>6264788</th>\n",
       "      <td>0xa10fa129bc83a7d7b85391b7c85ae579b3ab59ef6fd0...</td>\n",
       "      <td>12088822</td>\n",
       "      <td>2021-03-22 13:15:19 UTC</td>\n",
       "      <td>21000</td>\n",
       "      <td>213000000000</td>\n",
       "    </tr>\n",
       "    <tr>\n",
       "      <th>6264789</th>\n",
       "      <td>0xa43bb8f1b1d77b3f9770311998bc667e4e393e022021...</td>\n",
       "      <td>12085526</td>\n",
       "      <td>2021-03-22 00:58:55 UTC</td>\n",
       "      <td>112866</td>\n",
       "      <td>181000000000</td>\n",
       "    </tr>\n",
       "    <tr>\n",
       "      <th>6264790</th>\n",
       "      <td>0x5a90c80b066cd7577c71ee1e891353535d6e5f16f75c...</td>\n",
       "      <td>12087380</td>\n",
       "      <td>2021-03-22 07:54:46 UTC</td>\n",
       "      <td>21000</td>\n",
       "      <td>6000000000</td>\n",
       "    </tr>\n",
       "    <tr>\n",
       "      <th>6264791</th>\n",
       "      <td>0x1ff9ec12cf7037fe6d753309e2baf7334d4b83f5dda8...</td>\n",
       "      <td>12086470</td>\n",
       "      <td>2021-03-22 04:33:07 UTC</td>\n",
       "      <td>124024</td>\n",
       "      <td>122000000000</td>\n",
       "    </tr>\n",
       "  </tbody>\n",
       "</table>\n",
       "<p>6264792 rows × 5 columns</p>\n",
       "</div>"
      ],
      "text/plain": [
       "                                                      hash  block_number  \\\n",
       "0        0xc9d37faf9270c0aa1a553d4e53777cf1617a606d8a26...      12111333   \n",
       "1        0xceeee703a7638bfa1eaa0c3d97f31fe211dfb77915e6...      12111413   \n",
       "2        0x87007e41f34e2c1ea51fe9ff5bde4a039c70f2a218fe...      12111458   \n",
       "3        0x497a2de3a8a8a2799ead2bb558ba072cbb50c1f2ab8a...      12111280   \n",
       "4        0x548aa6b360f2b81f0ed437b35af5405dfce857069e71...      12111328   \n",
       "...                                                    ...           ...   \n",
       "6264787  0xac03a458748d87b1e03732c7a60f13d3f6278e2dfb84...      12088722   \n",
       "6264788  0xa10fa129bc83a7d7b85391b7c85ae579b3ab59ef6fd0...      12088822   \n",
       "6264789  0xa43bb8f1b1d77b3f9770311998bc667e4e393e022021...      12085526   \n",
       "6264790  0x5a90c80b066cd7577c71ee1e891353535d6e5f16f75c...      12087380   \n",
       "6264791  0x1ff9ec12cf7037fe6d753309e2baf7334d4b83f5dda8...      12086470   \n",
       "\n",
       "                 block_timestamp  receipt_gas_used     gas_price  \n",
       "0        2021-03-26 00:16:51 UTC             45764  129000000000  \n",
       "1        2021-03-26 00:33:17 UTC             36601  168000000000  \n",
       "2        2021-03-26 00:42:19 UTC             21000  174000000000  \n",
       "3        2021-03-26 00:06:07 UTC            154315  168211840178  \n",
       "4        2021-03-26 00:15:32 UTC             21000  154000000000  \n",
       "...                          ...               ...           ...  \n",
       "6264787  2021-03-22 12:53:38 UTC             21000  165000000000  \n",
       "6264788  2021-03-22 13:15:19 UTC             21000  213000000000  \n",
       "6264789  2021-03-22 00:58:55 UTC            112866  181000000000  \n",
       "6264790  2021-03-22 07:54:46 UTC             21000    6000000000  \n",
       "6264791  2021-03-22 04:33:07 UTC            124024  122000000000  \n",
       "\n",
       "[6264792 rows x 5 columns]"
      ]
     },
     "metadata": {},
     "output_type": "display_data"
    },
    {
     "name": "stdout",
     "output_type": "stream",
     "text": [
      "165103890667.35025 1.4189931621311085e+21\n",
      "165103890779.07208 165023687758.15295\n"
     ]
    },
    {
     "data": {
      "image/png": "[encoded data removed]",
      "text/plain": [
       "<Figure size 432x288 with 1 Axes>"
      ]
     },
     "metadata": {
      "needs_background": "light"
     },
     "output_type": "display_data"
    },
    {
     "data": {
      "image/png": "[encoded data removed]",
      "text/plain": [
       "<Figure size 432x288 with 1 Axes>"
      ]
     },
     "metadata": {
      "needs_background": "light"
     },
     "output_type": "display_data"
    }
   ],
   "source": [
    "display(pre_eip)\n",
    "\n",
    "\n",
    "\n",
    "\n",
    "pre_gas_price=list(pre_eip.gas_price)\n",
    "\n",
    "my_up=np.percentile(pre_gas_price,90)\n",
    "my_lo=np.percentile(pre_gas_price,10)\n",
    "\n",
    "pre_gas_price=[x for x in pre_gas_price if (x < my_up) & (x > my_lo)]\n",
    "\n",
    "\n",
    "fig = plt.figure()\n",
    "ax = plt.axes()\n",
    "\n",
    "\n",
    "my_mean=np.mean(pre_gas_price)\n",
    "my_var=np.var(pre_gas_price)\n",
    "\n",
    "\n",
    "\n",
    "plt.hist(pre_gas_price)\n",
    "ax.set_title('Pre Eip Gas Price')\n",
    "print(my_mean,my_var)\n",
    "\n",
    "\n",
    "\n",
    "#observations\n",
    "#variance-1.4189931621311085e+21\n",
    "#mean-165103890667.35025\n",
    "\n",
    "\n",
    "\n",
    "my_p_data=np.random.poisson(my_mean,len(pre_gas_price))\n",
    "\n",
    "fig2 = plt.figure()\n",
    "ax2 = plt.axes()\n",
    "\n",
    "plt.hist(my_p_data)\n",
    "ax2.set_title('Truly Poisson data of Same Mean')\n",
    "print(np.mean(my_p_data),np.var(my_p_data))\n",
    "\n"
   ]
  },
  {
   "cell_type": "markdown",
   "id": "ab35bb17",
   "metadata": {},
   "source": [
    "Clearly the data is opperating substantially differently than a poisson r.v of the same mean. Furthermore, in the data, the mean and variance are substantially different, which should not be the case for truly poisson distributed data. Fuyrthermore, poisson data has the property of being able to be approximated by the binomial distribution for large values of n; therefore, like the binomial distribution, it will converge into the shape of a bell. curve for large values of n, clearly not meeting the requirments of our data"
   ]
  }
 ],
 "metadata": {
  "kernelspec": {
   "display_name": "Python 3 (ipykernel)",
   "language": "python",
   "name": "python3"
  },
  "language_info": {
   "codemirror_mode": {
    "name": "ipython",
    "version": 3
   },
   "file_extension": ".py",
   "mimetype": "text/x-python",
   "name": "python",
   "nbconvert_exporter": "python",
   "pygments_lexer": "ipython3",
   "version": "3.8.12"
  }
 },
 "nbformat": 4,
 "nbformat_minor": 5
}
