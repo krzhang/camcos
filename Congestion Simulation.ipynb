{
 "cells": [
  {
   "cell_type": "code",
   "execution_count": 41,
   "metadata": {},
   "outputs": [],
   "source": [
    "import numpy as np\n",
    "import pandas as pd"
   ]
  },
  {
   "cell_type": "code",
   "execution_count": 134,
   "metadata": {},
   "outputs": [],
   "source": [
    "def create_mempool(txn_number, pre_df, post_df):\n",
    "    mean, sd = 2, .1\n",
    "    pre_gasprice = np.random.normal(mean, sd, txn_number)\n",
    "    post_gasprice = np.random.normal(mean, sd, txn_number)\n",
    "    values = np.random.normal(3, sd, txn_number*2)\n",
    "    pre_ethvalue = [values[i]*pre_gasprice[i] for i in range(txn_number)]\n",
    "    post_ethvalue = [values[i+txn_number]*post_gasprice[i] for i in range(txn_number)]\n",
    "\n",
    "#     pre_mempool = [(pre_gasprice[i], values[i]) for i in range(txn_number)]\n",
    "#     post_mempool = [(post_gasprice[i], values[i+txn_number]) for i in range(txn_number)]\n",
    "\n",
    "    pre_df = pre_df.append(pd.DataFrame({\n",
    "        'gas price': pre_gasprice,\n",
    "        'value': values[:txn_number],\n",
    "        'value in eth': pre_ethvalue\n",
    "        }), ignore_index=True)\n",
    "\n",
    "    post_df = post_df.append(pd.DataFrame({\n",
    "        'gas price': post_gasprice,\n",
    "        'value': values[txn_number:],\n",
    "        'value in eth': post_ethvalue\n",
    "        }), ignore_index=True)\n",
    "    \n",
    "    pre_df = pre_df.sort_values(by=['gas price'], ascending=False).reset_index(drop=True)\n",
    "    post_df = post_df.sort_values(by=['gas price'], ascending=False).reset_index(drop=True)\n",
    "    \n",
    "\n",
    "    \n",
    "    return pre_df, post_df\n",
    "\n",
    "def pre_fill_block(pre_df):\n",
    "    block = []\n",
    "    block_size = 0\n",
    "    for i in range(len(pre_df)):\n",
    "        txn = pre_df.iloc[i, :].to_list()\n",
    "        if block_size + txn[1] > 12.5:\n",
    "            break\n",
    "        else:\n",
    "            block += [txn]\n",
    "            block_size += txn[1]\n",
    "    \n",
    "    pre_df = pre_df.iloc[i+1:,:]    \n",
    "    \n",
    "    return block, pre_df\n",
    "        \n",
    "def simulate(n, txn_number):\n",
    "    df1 = pd.DataFrame()\n",
    "    df2 = pd.DataFrame()\n",
    "    blocks = []\n",
    "    block_data = pd.DataFrame()\n",
    "\n",
    "    pre_data, post_data = create_mempool(txn_number, df1, df2)\n",
    "    \n",
    "    for i in range(n):\n",
    "        filled_block = pre_fill_block(pre_data)\n",
    "        blocks += [filled_block[0]]\n",
    "        block_data = block_data.append(pd.DataFrame({\n",
    "            'number of txns': [len(filled_block[0])],\n",
    "            'total gas': [sum([filled_block[0][i][1] for i in range(len(filled_block[0]))])],\n",
    "            'total revenue': [sum([filled_block[0][i][2] for i in range(len(filled_block[0]))])]\n",
    "        }), ignore_index=True)\n",
    "        pre_data = filled_block[1]\n",
    "        \n",
    "        pre_data, post_data = create_mempool(txn_number, pre_data, post_data)\n",
    "        \n",
    "    return blocks, pre_data, block_data\n",
    "    "
   ]
  },
  {
   "cell_type": "code",
   "execution_count": 135,
   "metadata": {},
   "outputs": [
    {
     "name": "stdout",
     "output_type": "stream",
     "text": [
      "   number of txns  total gas  total revenue\n",
      "0               4  12.055295      24.370832\n",
      "1               4  11.944873      24.324579\n",
      "2               4  12.034118      26.407498\n",
      "3               4  11.973394      25.093937\n",
      "4               4  12.271668      25.931905\n",
      "5               4  12.172953      25.007433\n",
      "6               4  11.983386      24.385887\n",
      "7               4  11.739001      24.466607\n",
      "8               4  11.812660      24.500835\n",
      "9               4  11.987817      25.443000\n"
     ]
    }
   ],
   "source": [
    "# pd.set_option('display.max_rows', 500)\n",
    "# pd.set_option('display.max_columns', 500)\n",
    "# pd.set_option('display.width', 1000)\n",
    "\n",
    "s = simulate(10, 10)\n",
    "print(s[2])"
   ]
  }
 ],
 "metadata": {
  "kernelspec": {
   "display_name": "Python 3",
   "language": "python",
   "name": "python3"
  },
  "language_info": {
   "codemirror_mode": {
    "name": "ipython",
    "version": 3
   },
   "file_extension": ".py",
   "mimetype": "text/x-python",
   "name": "python",
   "nbconvert_exporter": "python",
   "pygments_lexer": "ipython3",
   "version": "3.8.5"
  }
 },
 "nbformat": 4,
 "nbformat_minor": 4
}
