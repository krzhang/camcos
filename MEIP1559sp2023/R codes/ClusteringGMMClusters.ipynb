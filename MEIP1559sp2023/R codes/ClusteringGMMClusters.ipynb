{
 "cells": [
  {
   "cell_type": "code",
   "execution_count": 2,
   "metadata": {},
   "outputs": [],
   "source": [
    "# https://cran.r-project.org/web/packages/ClusterR/vignettes/the_clusterR_package.html\n",
    "df = read.csv(\"transactionData.csv\")"
   ]
  },
  {
   "cell_type": "code",
   "execution_count": 3,
   "metadata": {},
   "outputs": [],
   "source": [
    "df = df[,-1]"
   ]
  },
  {
   "cell_type": "code",
   "execution_count": 5,
   "metadata": {},
   "outputs": [
    {
     "name": "stderr",
     "output_type": "stream",
     "text": [
      "Installing package into 'C:/Users/matar/AppData/Local/R/win-library/4.2'\n",
      "(as 'lib' is unspecified)\n",
      "\n",
      "also installing the dependency 'gmp'\n",
      "\n",
      "\n"
     ]
    },
    {
     "name": "stdout",
     "output_type": "stream",
     "text": [
      "package 'gmp' successfully unpacked and MD5 sums checked\n",
      "package 'ClusterR' successfully unpacked and MD5 sums checked\n",
      "\n",
      "The downloaded binary packages are in\n",
      "\tC:\\Users\\matar\\AppData\\Local\\Temp\\RtmpIJkXkH\\downloaded_packages\n"
     ]
    }
   ],
   "source": [
    "install.packages('ClusterR')"
   ]
  },
  {
   "cell_type": "code",
   "execution_count": 4,
   "metadata": {},
   "outputs": [
    {
     "name": "stderr",
     "output_type": "stream",
     "text": [
      "Warning message:\n",
      "\"package 'ClusterR' was built under R version 4.2.3\"\n"
     ]
    }
   ],
   "source": [
    "library(ClusterR)"
   ]
  },
  {
   "cell_type": "code",
   "execution_count": 5,
   "metadata": {},
   "outputs": [
    {
     "data": {
      "text/html": [
       "<table class=\"dataframe\">\n",
       "<caption>A data.frame: 6 × 9</caption>\n",
       "<thead>\n",
       "\t<tr><th></th><th scope=col>blockNumber</th><th scope=col>gas</th><th scope=col>gasPrice</th><th scope=col>executionGas</th><th scope=col>callDataUsage</th><th scope=col>callDataLength</th><th scope=col>nonce</th><th scope=col>to</th><th scope=col>from</th></tr>\n",
       "\t<tr><th></th><th scope=col>&lt;int&gt;</th><th scope=col>&lt;int&gt;</th><th scope=col>&lt;dbl&gt;</th><th scope=col>&lt;int&gt;</th><th scope=col>&lt;int&gt;</th><th scope=col>&lt;int&gt;</th><th scope=col>&lt;int&gt;</th><th scope=col>&lt;dbl&gt;</th><th scope=col>&lt;dbl&gt;</th></tr>\n",
       "</thead>\n",
       "<tbody>\n",
       "\t<tr><th scope=row>1</th><td>15627832</td><td>517689</td><td>57000000000</td><td>515877</td><td> 1812</td><td> 458</td><td>    7235</td><td>6.973232e+47</td><td>6.994384e+47</td></tr>\n",
       "\t<tr><th scope=row>2</th><td>15627832</td><td>517689</td><td>57000000000</td><td>515865</td><td> 1824</td><td> 458</td><td>    3140</td><td>6.973232e+47</td><td>3.915221e+47</td></tr>\n",
       "\t<tr><th scope=row>3</th><td>15627832</td><td>150000</td><td>30000000000</td><td>149356</td><td>  644</td><td> 138</td><td>11173680</td><td>7.785650e+47</td><td>1.436920e+48</td></tr>\n",
       "\t<tr><th scope=row>4</th><td>15627832</td><td> 71000</td><td>23214786296</td><td> 71000</td><td>    0</td><td>   2</td><td>    5293</td><td>4.956288e+47</td><td>4.956288e+47</td></tr>\n",
       "\t<tr><th scope=row>5</th><td>15627832</td><td>500000</td><td>20000000000</td><td>498176</td><td> 1824</td><td> 458</td><td>       1</td><td>6.973232e+47</td><td>4.249540e+47</td></tr>\n",
       "\t<tr><th scope=row>6</th><td>15627832</td><td>469802</td><td>14090000000</td><td>458886</td><td>10916</td><td>2250</td><td>     371</td><td>6.791231e+47</td><td>9.806636e+47</td></tr>\n",
       "</tbody>\n",
       "</table>\n"
      ],
      "text/latex": [
       "A data.frame: 6 × 9\n",
       "\\begin{tabular}{r|lllllllll}\n",
       "  & blockNumber & gas & gasPrice & executionGas & callDataUsage & callDataLength & nonce & to & from\\\\\n",
       "  & <int> & <int> & <dbl> & <int> & <int> & <int> & <int> & <dbl> & <dbl>\\\\\n",
       "\\hline\n",
       "\t1 & 15627832 & 517689 & 57000000000 & 515877 &  1812 &  458 &     7235 & 6.973232e+47 & 6.994384e+47\\\\\n",
       "\t2 & 15627832 & 517689 & 57000000000 & 515865 &  1824 &  458 &     3140 & 6.973232e+47 & 3.915221e+47\\\\\n",
       "\t3 & 15627832 & 150000 & 30000000000 & 149356 &   644 &  138 & 11173680 & 7.785650e+47 & 1.436920e+48\\\\\n",
       "\t4 & 15627832 &  71000 & 23214786296 &  71000 &     0 &    2 &     5293 & 4.956288e+47 & 4.956288e+47\\\\\n",
       "\t5 & 15627832 & 500000 & 20000000000 & 498176 &  1824 &  458 &        1 & 6.973232e+47 & 4.249540e+47\\\\\n",
       "\t6 & 15627832 & 469802 & 14090000000 & 458886 & 10916 & 2250 &      371 & 6.791231e+47 & 9.806636e+47\\\\\n",
       "\\end{tabular}\n"
      ],
      "text/markdown": [
       "\n",
       "A data.frame: 6 × 9\n",
       "\n",
       "| <!--/--> | blockNumber &lt;int&gt; | gas &lt;int&gt; | gasPrice &lt;dbl&gt; | executionGas &lt;int&gt; | callDataUsage &lt;int&gt; | callDataLength &lt;int&gt; | nonce &lt;int&gt; | to &lt;dbl&gt; | from &lt;dbl&gt; |\n",
       "|---|---|---|---|---|---|---|---|---|---|\n",
       "| 1 | 15627832 | 517689 | 57000000000 | 515877 |  1812 |  458 |     7235 | 6.973232e+47 | 6.994384e+47 |\n",
       "| 2 | 15627832 | 517689 | 57000000000 | 515865 |  1824 |  458 |     3140 | 6.973232e+47 | 3.915221e+47 |\n",
       "| 3 | 15627832 | 150000 | 30000000000 | 149356 |   644 |  138 | 11173680 | 7.785650e+47 | 1.436920e+48 |\n",
       "| 4 | 15627832 |  71000 | 23214786296 |  71000 |     0 |    2 |     5293 | 4.956288e+47 | 4.956288e+47 |\n",
       "| 5 | 15627832 | 500000 | 20000000000 | 498176 |  1824 |  458 |        1 | 6.973232e+47 | 4.249540e+47 |\n",
       "| 6 | 15627832 | 469802 | 14090000000 | 458886 | 10916 | 2250 |      371 | 6.791231e+47 | 9.806636e+47 |\n",
       "\n"
      ],
      "text/plain": [
       "  blockNumber gas    gasPrice    executionGas callDataUsage callDataLength\n",
       "1 15627832    517689 57000000000 515877        1812          458          \n",
       "2 15627832    517689 57000000000 515865        1824          458          \n",
       "3 15627832    150000 30000000000 149356         644          138          \n",
       "4 15627832     71000 23214786296  71000           0            2          \n",
       "5 15627832    500000 20000000000 498176        1824          458          \n",
       "6 15627832    469802 14090000000 458886       10916         2250          \n",
       "  nonce    to           from        \n",
       "1     7235 6.973232e+47 6.994384e+47\n",
       "2     3140 6.973232e+47 3.915221e+47\n",
       "3 11173680 7.785650e+47 1.436920e+48\n",
       "4     5293 4.956288e+47 4.956288e+47\n",
       "5        1 6.973232e+47 4.249540e+47\n",
       "6      371 6.791231e+47 9.806636e+47"
      ]
     },
     "metadata": {},
     "output_type": "display_data"
    }
   ],
   "source": [
    "head(df)"
   ]
  },
  {
   "cell_type": "code",
   "execution_count": 8,
   "metadata": {},
   "outputs": [],
   "source": [
    "X = df[,c(3,4,5)]"
   ]
  },
  {
   "cell_type": "code",
   "execution_count": 15,
   "metadata": {},
   "outputs": [],
   "source": [
    "dat = center_scale(X, mean_center = T, sd_scale = T)"
   ]
  },
  {
   "cell_type": "code",
   "execution_count": 16,
   "metadata": {},
   "outputs": [],
   "source": [
    "gmm = GMM(dat, 2, dist_mode = \"maha_dist\", seed_mode = \"random_subset\", km_iter = 10,\n",
    "          em_iter = 10, verbose = F)   "
   ]
  },
  {
   "cell_type": "code",
   "execution_count": 18,
   "metadata": {},
   "outputs": [],
   "source": [
    "opt_gmm = Optimal_Clusters_GMM(dat, max_clusters = 10, criterion = \"BIC\", \n",
    "                               \n",
    "                               dist_mode = \"maha_dist\", seed_mode = \"random_subset\",\n",
    "                               \n",
    "                               km_iter = 10, em_iter = 10, var_floor = 1e-10, \n",
    "                               \n",
    "                               plot_data = T)"
   ]
  },
  {
   "cell_type": "code",
   "execution_count": null,
   "metadata": {},
   "outputs": [],
   "source": [
    "# https://en.proft.me/2017/02/1/model-based-clustering-r/"
   ]
  },
  {
   "cell_type": "code",
   "execution_count": 6,
   "metadata": {},
   "outputs": [
    {
     "name": "stderr",
     "output_type": "stream",
     "text": [
      "Warning message:\n",
      "\"package 'mclust' was built under R version 4.2.3\"\n",
      "Package 'mclust' version 6.0.0\n",
      "Type 'citation(\"mclust\")' for citing this R package in publications.\n",
      "\n"
     ]
    }
   ],
   "source": [
    "#install.packages(\"mclust\")\n",
    "library(mclust)"
   ]
  },
  {
   "cell_type": "code",
   "execution_count": 9,
   "metadata": {},
   "outputs": [],
   "source": [
    "mb = Mclust(X)"
   ]
  },
  {
   "cell_type": "code",
   "execution_count": 10,
   "metadata": {},
   "outputs": [
    {
     "data": {
      "text/html": [
       "'VEV'"
      ],
      "text/latex": [
       "'VEV'"
      ],
      "text/markdown": [
       "'VEV'"
      ],
      "text/plain": [
       "[1] \"VEV\""
      ]
     },
     "metadata": {},
     "output_type": "display_data"
    }
   ],
   "source": [
    "# optimal selected model\n",
    "mb$modelName"
   ]
  },
  {
   "cell_type": "code",
   "execution_count": 11,
   "metadata": {},
   "outputs": [
    {
     "data": {
      "text/plain": [
       "---------------------------------------------------- \n",
       "Gaussian finite mixture model fitted by EM algorithm \n",
       "---------------------------------------------------- \n",
       "\n",
       "Mclust VEV (ellipsoidal, equal shape) model with 8 components: \n",
       "\n",
       " log-likelihood     n df      BIC      ICL\n",
       "      -666076.9 15006 65 -1332779 -1334770\n",
       "\n",
       "Clustering table:\n",
       "   1    2    3    4    5    6    7    8 \n",
       "3695  699  184 1031  144 6947 1767  539 "
      ]
     },
     "metadata": {},
     "output_type": "display_data"
    }
   ],
   "source": [
    "summary(mb)"
   ]
  },
  {
   "cell_type": "code",
   "execution_count": 12,
   "metadata": {},
   "outputs": [
    {
     "data": {
      "image/png": "[encoded data removed]",
      "text/plain": [
       "Plot with title \"\""
      ]
     },
     "metadata": {
      "image/png": {
       "height": 420,
       "width": 420
      }
     },
     "output_type": "display_data"
    }
   ],
   "source": [
    "plot(mb, what=c(\"classification\"))"
   ]
  },
  {
   "cell_type": "code",
   "execution_count": 13,
   "metadata": {},
   "outputs": [],
   "source": [
    "df['Kclass'] <- mb$classification"
   ]
  },
  {
   "cell_type": "code",
   "execution_count": 14,
   "metadata": {},
   "outputs": [
    {
     "data": {
      "text/html": [
       "<table class=\"dataframe\">\n",
       "<caption>A data.frame: 6 × 10</caption>\n",
       "<thead>\n",
       "\t<tr><th></th><th scope=col>blockNumber</th><th scope=col>gas</th><th scope=col>gasPrice</th><th scope=col>executionGas</th><th scope=col>callDataUsage</th><th scope=col>callDataLength</th><th scope=col>nonce</th><th scope=col>to</th><th scope=col>from</th><th scope=col>Kclass</th></tr>\n",
       "\t<tr><th></th><th scope=col>&lt;int&gt;</th><th scope=col>&lt;int&gt;</th><th scope=col>&lt;dbl&gt;</th><th scope=col>&lt;int&gt;</th><th scope=col>&lt;int&gt;</th><th scope=col>&lt;int&gt;</th><th scope=col>&lt;int&gt;</th><th scope=col>&lt;dbl&gt;</th><th scope=col>&lt;dbl&gt;</th><th scope=col>&lt;dbl&gt;</th></tr>\n",
       "</thead>\n",
       "<tbody>\n",
       "\t<tr><th scope=row>1</th><td>15627832</td><td>517689</td><td>57000000000</td><td>515877</td><td> 1812</td><td> 458</td><td>    7235</td><td>6.973232e+47</td><td>6.994384e+47</td><td>5</td></tr>\n",
       "\t<tr><th scope=row>2</th><td>15627832</td><td>517689</td><td>57000000000</td><td>515865</td><td> 1824</td><td> 458</td><td>    3140</td><td>6.973232e+47</td><td>3.915221e+47</td><td>5</td></tr>\n",
       "\t<tr><th scope=row>3</th><td>15627832</td><td>150000</td><td>30000000000</td><td>149356</td><td>  644</td><td> 138</td><td>11173680</td><td>7.785650e+47</td><td>1.436920e+48</td><td>4</td></tr>\n",
       "\t<tr><th scope=row>4</th><td>15627832</td><td> 71000</td><td>23214786296</td><td> 71000</td><td>    0</td><td>   2</td><td>    5293</td><td>4.956288e+47</td><td>4.956288e+47</td><td>4</td></tr>\n",
       "\t<tr><th scope=row>5</th><td>15627832</td><td>500000</td><td>20000000000</td><td>498176</td><td> 1824</td><td> 458</td><td>       1</td><td>6.973232e+47</td><td>4.249540e+47</td><td>4</td></tr>\n",
       "\t<tr><th scope=row>6</th><td>15627832</td><td>469802</td><td>14090000000</td><td>458886</td><td>10916</td><td>2250</td><td>     371</td><td>6.791231e+47</td><td>9.806636e+47</td><td>8</td></tr>\n",
       "</tbody>\n",
       "</table>\n"
      ],
      "text/latex": [
       "A data.frame: 6 × 10\n",
       "\\begin{tabular}{r|llllllllll}\n",
       "  & blockNumber & gas & gasPrice & executionGas & callDataUsage & callDataLength & nonce & to & from & Kclass\\\\\n",
       "  & <int> & <int> & <dbl> & <int> & <int> & <int> & <int> & <dbl> & <dbl> & <dbl>\\\\\n",
       "\\hline\n",
       "\t1 & 15627832 & 517689 & 57000000000 & 515877 &  1812 &  458 &     7235 & 6.973232e+47 & 6.994384e+47 & 5\\\\\n",
       "\t2 & 15627832 & 517689 & 57000000000 & 515865 &  1824 &  458 &     3140 & 6.973232e+47 & 3.915221e+47 & 5\\\\\n",
       "\t3 & 15627832 & 150000 & 30000000000 & 149356 &   644 &  138 & 11173680 & 7.785650e+47 & 1.436920e+48 & 4\\\\\n",
       "\t4 & 15627832 &  71000 & 23214786296 &  71000 &     0 &    2 &     5293 & 4.956288e+47 & 4.956288e+47 & 4\\\\\n",
       "\t5 & 15627832 & 500000 & 20000000000 & 498176 &  1824 &  458 &        1 & 6.973232e+47 & 4.249540e+47 & 4\\\\\n",
       "\t6 & 15627832 & 469802 & 14090000000 & 458886 & 10916 & 2250 &      371 & 6.791231e+47 & 9.806636e+47 & 8\\\\\n",
       "\\end{tabular}\n"
      ],
      "text/markdown": [
       "\n",
       "A data.frame: 6 × 10\n",
       "\n",
       "| <!--/--> | blockNumber &lt;int&gt; | gas &lt;int&gt; | gasPrice &lt;dbl&gt; | executionGas &lt;int&gt; | callDataUsage &lt;int&gt; | callDataLength &lt;int&gt; | nonce &lt;int&gt; | to &lt;dbl&gt; | from &lt;dbl&gt; | Kclass &lt;dbl&gt; |\n",
       "|---|---|---|---|---|---|---|---|---|---|---|\n",
       "| 1 | 15627832 | 517689 | 57000000000 | 515877 |  1812 |  458 |     7235 | 6.973232e+47 | 6.994384e+47 | 5 |\n",
       "| 2 | 15627832 | 517689 | 57000000000 | 515865 |  1824 |  458 |     3140 | 6.973232e+47 | 3.915221e+47 | 5 |\n",
       "| 3 | 15627832 | 150000 | 30000000000 | 149356 |   644 |  138 | 11173680 | 7.785650e+47 | 1.436920e+48 | 4 |\n",
       "| 4 | 15627832 |  71000 | 23214786296 |  71000 |     0 |    2 |     5293 | 4.956288e+47 | 4.956288e+47 | 4 |\n",
       "| 5 | 15627832 | 500000 | 20000000000 | 498176 |  1824 |  458 |        1 | 6.973232e+47 | 4.249540e+47 | 4 |\n",
       "| 6 | 15627832 | 469802 | 14090000000 | 458886 | 10916 | 2250 |      371 | 6.791231e+47 | 9.806636e+47 | 8 |\n",
       "\n"
      ],
      "text/plain": [
       "  blockNumber gas    gasPrice    executionGas callDataUsage callDataLength\n",
       "1 15627832    517689 57000000000 515877        1812          458          \n",
       "2 15627832    517689 57000000000 515865        1824          458          \n",
       "3 15627832    150000 30000000000 149356         644          138          \n",
       "4 15627832     71000 23214786296  71000           0            2          \n",
       "5 15627832    500000 20000000000 498176        1824          458          \n",
       "6 15627832    469802 14090000000 458886       10916         2250          \n",
       "  nonce    to           from         Kclass\n",
       "1     7235 6.973232e+47 6.994384e+47 5     \n",
       "2     3140 6.973232e+47 3.915221e+47 5     \n",
       "3 11173680 7.785650e+47 1.436920e+48 4     \n",
       "4     5293 4.956288e+47 4.956288e+47 4     \n",
       "5        1 6.973232e+47 4.249540e+47 4     \n",
       "6      371 6.791231e+47 9.806636e+47 8     "
      ]
     },
     "metadata": {},
     "output_type": "display_data"
    }
   ],
   "source": [
    "head(df)"
   ]
  },
  {
   "cell_type": "code",
   "execution_count": 16,
   "metadata": {},
   "outputs": [],
   "source": [
    "library(ggplot2)"
   ]
  },
  {
   "cell_type": "code",
   "execution_count": 23,
   "metadata": {},
   "outputs": [
    {
     "data": {
      "image/png": "[encoded data removed]",
      "text/plain": [
       "plot without title"
      ]
     },
     "metadata": {
      "image/png": {
       "height": 420,
       "width": 420
      }
     },
     "output_type": "display_data"
    }
   ],
   "source": [
    "ggplot(df)  + \n",
    "  geom_point(aes(x = log(executionGas), y = log(callDataUsage),color=factor(Kclass))) +theme_bw()"
   ]
  },
  {
   "cell_type": "code",
   "execution_count": 26,
   "metadata": {},
   "outputs": [],
   "source": [
    "mb = Mclust(df[,c(4,5)])"
   ]
  },
  {
   "cell_type": "code",
   "execution_count": 27,
   "metadata": {},
   "outputs": [
    {
     "data": {
      "text/plain": [
       "---------------------------------------------------- \n",
       "Gaussian finite mixture model fitted by EM algorithm \n",
       "---------------------------------------------------- \n",
       "\n",
       "Mclust VEE (ellipsoidal, equal shape and orientation) model with 7 components: \n",
       "\n",
       " log-likelihood     n df       BIC       ICL\n",
       "      -318219.9 15006 29 -636718.6 -638957.1\n",
       "\n",
       "Clustering table:\n",
       "   1    2    3    4    5    6    7 \n",
       "5869 5013 1806  573 1122  481  142 "
      ]
     },
     "metadata": {},
     "output_type": "display_data"
    }
   ],
   "source": [
    "summary(mb)"
   ]
  },
  {
   "cell_type": "code",
   "execution_count": 28,
   "metadata": {},
   "outputs": [],
   "source": [
    "df['Kclass'] <- mb$classification"
   ]
  },
  {
   "cell_type": "code",
   "execution_count": 29,
   "metadata": {},
   "outputs": [
    {
     "data": {
      "image/png": "[encoded data removed]",
      "text/plain": [
       "plot without title"
      ]
     },
     "metadata": {
      "image/png": {
       "height": 420,
       "width": 420
      }
     },
     "output_type": "display_data"
    }
   ],
   "source": [
    "ggplot(df)  + \n",
    "  geom_point(aes(x = log(executionGas), y = log(callDataUsage),color=factor(Kclass))) +theme_bw()"
   ]
  },
  {
   "cell_type": "code",
   "execution_count": 30,
   "metadata": {},
   "outputs": [],
   "source": [
    "mb = Mclust(df[,c(4,5)])"
   ]
  },
  {
   "cell_type": "code",
   "execution_count": 31,
   "metadata": {},
   "outputs": [
    {
     "data": {
      "text/plain": [
       "---------------------------------------------------- \n",
       "Gaussian finite mixture model fitted by EM algorithm \n",
       "---------------------------------------------------- \n",
       "\n",
       "Mclust VEE (ellipsoidal, equal shape and orientation) model with 6 components: \n",
       "\n",
       " log-likelihood     n df       BIC       ICL\n",
       "      -319842.4 15006 25 -639925.3 -641634.6\n",
       "\n",
       "Clustering table:\n",
       "   1    2    3    4    5    6 \n",
       "1080 6129 1085 6255  137  320 "
      ]
     },
     "metadata": {},
     "output_type": "display_data"
    }
   ],
   "source": [
    "summary(mb)"
   ]
  },
  {
   "cell_type": "code",
   "execution_count": 32,
   "metadata": {},
   "outputs": [],
   "source": [
    "df['Kclass'] <- mb$classification"
   ]
  },
  {
   "cell_type": "code",
   "execution_count": 47,
   "metadata": {},
   "outputs": [
    {
     "name": "stderr",
     "output_type": "stream",
     "text": [
      "\u001b[1m\u001b[22mSaving 6.67 x 6.67 in image\n"
     ]
    },
    {
     "data": {
      "image/png": "[encoded data removed]",
      "text/plain": [
       "plot without title"
      ]
     },
     "metadata": {
      "image/png": {
       "height": 420,
       "width": 420
      }
     },
     "output_type": "display_data"
    }
   ],
   "source": [
    "ggplot(df)  + \n",
    "  geom_point(aes(x = log(executionGas), y = log(callDataUsage),color=factor(Kclass))) +theme_bw()+ggtitle(\"GGM based Clusters\")\n",
    "ggsave(\"plotclusters1.png\")"
   ]
  },
  {
   "cell_type": "code",
   "execution_count": null,
   "metadata": {},
   "outputs": [],
   "source": []
  },
  {
   "cell_type": "markdown",
   "metadata": {},
   "source": [
    "# Comparing clustering methods"
   ]
  },
  {
   "cell_type": "code",
   "execution_count": 35,
   "metadata": {},
   "outputs": [
    {
     "name": "stderr",
     "output_type": "stream",
     "text": [
      "Installing package into 'C:/Users/matar/AppData/Local/R/win-library/4.2'\n",
      "(as 'lib' is unspecified)\n",
      "\n",
      "also installing the dependencies 'modeltools', 'flexmix', 'prabclus', 'diptest'\n",
      "\n",
      "\n"
     ]
    },
    {
     "name": "stdout",
     "output_type": "stream",
     "text": [
      "package 'modeltools' successfully unpacked and MD5 sums checked\n",
      "package 'flexmix' successfully unpacked and MD5 sums checked\n",
      "package 'prabclus' successfully unpacked and MD5 sums checked\n",
      "package 'diptest' successfully unpacked and MD5 sums checked\n",
      "package 'fpc' successfully unpacked and MD5 sums checked\n",
      "\n",
      "The downloaded binary packages are in\n",
      "\tC:\\Users\\matar\\AppData\\Local\\Temp\\RtmpMRkMUD\\downloaded_packages\n"
     ]
    },
    {
     "name": "stderr",
     "output_type": "stream",
     "text": [
      "Warning message:\n",
      "\"package 'fpc' was built under R version 4.2.3\"\n"
     ]
    }
   ],
   "source": [
    "install.packages(\"fpc\")\n",
    "library(\"fpc\")"
   ]
  },
  {
   "cell_type": "code",
   "execution_count": 37,
   "metadata": {},
   "outputs": [],
   "source": [
    "cs = cluster.stats(dist(df[,c(4,5)]), mb$classification)"
   ]
  },
  {
   "cell_type": "code",
   "execution_count": 38,
   "metadata": {},
   "outputs": [
    {
     "data": {
      "text/html": [
       "<dl>\n",
       "\t<dt>$within.cluster.ss</dt>\n",
       "\t\t<dd>5017455228434457</dd>\n",
       "\t<dt>$avg.silwidth</dt>\n",
       "\t\t<dd>0.392256498206131</dd>\n",
       "</dl>\n"
      ],
      "text/latex": [
       "\\begin{description}\n",
       "\\item[\\$within.cluster.ss] 5017455228434457\n",
       "\\item[\\$avg.silwidth] 0.392256498206131\n",
       "\\end{description}\n"
      ],
      "text/markdown": [
       "$within.cluster.ss\n",
       ":   5017455228434457\n",
       "$avg.silwidth\n",
       ":   0.392256498206131\n",
       "\n",
       "\n"
      ],
      "text/plain": [
       "$within.cluster.ss\n",
       "[1] 5.017455e+15\n",
       "\n",
       "$avg.silwidth\n",
       "[1] 0.3922565\n"
      ]
     },
     "metadata": {},
     "output_type": "display_data"
    }
   ],
   "source": [
    "cs[c(\"within.cluster.ss\",\"avg.silwidth\")]"
   ]
  },
  {
   "cell_type": "code",
   "execution_count": 39,
   "metadata": {},
   "outputs": [],
   "source": [
    "data <- scale(X)"
   ]
  },
  {
   "cell_type": "code",
   "execution_count": 44,
   "metadata": {},
   "outputs": [],
   "source": [
    "mb = Mclust(data)"
   ]
  },
  {
   "cell_type": "code",
   "execution_count": 41,
   "metadata": {},
   "outputs": [
    {
     "data": {
      "text/plain": [
       "---------------------------------------------------- \n",
       "Gaussian finite mixture model fitted by EM algorithm \n",
       "---------------------------------------------------- \n",
       "\n",
       "Mclust VEV (ellipsoidal, equal shape) model with 9 components: \n",
       "\n",
       " log-likelihood     n df      BIC      ICL\n",
       "       44514.69 15006 73 88327.39 85154.46\n",
       "\n",
       "Clustering table:\n",
       "   1    2    3    4    5    6    7    8    9 \n",
       "3792  833 1089  680 6612 1658  121  140   81 "
      ]
     },
     "metadata": {},
     "output_type": "display_data"
    }
   ],
   "source": [
    "summary(mb)"
   ]
  },
  {
   "cell_type": "code",
   "execution_count": 42,
   "metadata": {},
   "outputs": [],
   "source": [
    "cs = cluster.stats(dist(df[,c(4,5)]), mb$classification)"
   ]
  },
  {
   "cell_type": "code",
   "execution_count": 43,
   "metadata": {},
   "outputs": [
    {
     "data": {
      "text/html": [
       "<dl>\n",
       "\t<dt>$within.cluster.ss</dt>\n",
       "\t\t<dd>3790402447293879</dd>\n",
       "\t<dt>$avg.silwidth</dt>\n",
       "\t\t<dd>0.0760081884979022</dd>\n",
       "</dl>\n"
      ],
      "text/latex": [
       "\\begin{description}\n",
       "\\item[\\$within.cluster.ss] 3790402447293879\n",
       "\\item[\\$avg.silwidth] 0.0760081884979022\n",
       "\\end{description}\n"
      ],
      "text/markdown": [
       "$within.cluster.ss\n",
       ":   3790402447293879\n",
       "$avg.silwidth\n",
       ":   0.0760081884979022\n",
       "\n",
       "\n"
      ],
      "text/plain": [
       "$within.cluster.ss\n",
       "[1] 3.790402e+15\n",
       "\n",
       "$avg.silwidth\n",
       "[1] 0.07600819\n"
      ]
     },
     "metadata": {},
     "output_type": "display_data"
    }
   ],
   "source": [
    "cs[c(\"within.cluster.ss\",\"avg.silwidth\")]"
   ]
  },
  {
   "cell_type": "code",
   "execution_count": 45,
   "metadata": {},
   "outputs": [
    {
     "data": {
      "text/plain": [
       "---------------------------------------------------- \n",
       "Gaussian finite mixture model fitted by EM algorithm \n",
       "---------------------------------------------------- \n",
       "\n",
       "Mclust VEV (ellipsoidal, equal shape) model with 9 components: \n",
       "\n",
       " log-likelihood     n df      BIC      ICL\n",
       "       45739.89 15006 73 90777.79 86732.09\n",
       "\n",
       "Clustering table:\n",
       "   1    2    3    4    5    6    7    8    9 \n",
       " 778 1033 3751  610 5977  727  147 1929   54 "
      ]
     },
     "metadata": {},
     "output_type": "display_data"
    }
   ],
   "source": [
    "summary(mb)"
   ]
  },
  {
   "cell_type": "code",
   "execution_count": 46,
   "metadata": {},
   "outputs": [
    {
     "data": {
      "text/html": [
       "<dl>\n",
       "\t<dt>$within.cluster.ss</dt>\n",
       "\t\t<dd>4627373997198041</dd>\n",
       "\t<dt>$avg.silwidth</dt>\n",
       "\t\t<dd>0.0174302668215378</dd>\n",
       "</dl>\n"
      ],
      "text/latex": [
       "\\begin{description}\n",
       "\\item[\\$within.cluster.ss] 4627373997198041\n",
       "\\item[\\$avg.silwidth] 0.0174302668215378\n",
       "\\end{description}\n"
      ],
      "text/markdown": [
       "$within.cluster.ss\n",
       ":   4627373997198041\n",
       "$avg.silwidth\n",
       ":   0.0174302668215378\n",
       "\n",
       "\n"
      ],
      "text/plain": [
       "$within.cluster.ss\n",
       "[1] 4.627374e+15\n",
       "\n",
       "$avg.silwidth\n",
       "[1] 0.01743027\n"
      ]
     },
     "metadata": {},
     "output_type": "display_data"
    }
   ],
   "source": [
    "cs = cluster.stats(dist(df[,c(4,5)]), mb$classification)\n",
    "cs[c(\"within.cluster.ss\",\"avg.silwidth\")]"
   ]
  }
 ],
 "metadata": {
  "kernelspec": {
   "display_name": "R",
   "language": "R",
   "name": "ir"
  },
  "language_info": {
   "codemirror_mode": "r",
   "file_extension": ".r",
   "mimetype": "text/x-r-source",
   "name": "R",
   "pygments_lexer": "r",
   "version": "4.2.2"
  }
 },
 "nbformat": 4,
 "nbformat_minor": 2
}
