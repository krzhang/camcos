{
 "cells": [
  {
   "cell_type": "code",
   "execution_count": 1,
   "id": "bc06cb24",
   "metadata": {},
   "outputs": [],
   "source": [
    "%reload_ext autoreload\n",
    "%autoreload 2\n",
    "\n",
    "import simulator\n",
    "\n",
    "# we make 2 testing distributions with similar mean and variance\n",
    "ud = simulator.UniformDistribution(0.5, 1.5)\n",
    "# mean = 1\n",
    "# variance = 1/2 *(1.5-0.5)^2 = 1/2\n",
    "gd = simulator.GammaDistribution(2, 1/2)\n",
    "# mean = kt = 1, variance = kt^2 = 1/2 so t = 1/2, k = 2"
   ]
  },
  {
   "cell_type": "code",
   "execution_count": 24,
   "id": "90b115e2",
   "metadata": {},
   "outputs": [
    {
     "name": "stdout",
     "output_type": "stream",
     "text": [
      "5 uniform agents\n",
      "average revenue: 1.1634888721799093\n",
      "average gains: 0.16587221704497687\n",
      "average bid: 0.8998704097787402\n",
      "ASB: 1.2921160662502529\n",
      "ASP: 0.39224565647151266\n",
      "5 gamma agents\n",
      "average revenue: 1.2527040060905354\n",
      "average gains: 0.6599319647081202\n",
      "average bid: 0.742245742131576\n",
      "ASB: 1.6924511091768923\n",
      "ASP: 0.9502053670453163\n",
      "10 uniform agents\n",
      "average revenue: 1.3203478047059314\n",
      "average gains: 0.09114975507843695\n",
      "average bid: 0.9497327941910118\n",
      "ASB: 1.3951524857462865\n",
      "ASP: 0.4454196915552747\n",
      "10 gamma agents\n",
      "average revenue: 1.6932910620381356\n",
      "average gains: 0.6238347187784176\n",
      "average bid: 0.8396125786129073\n",
      "ASB: 2.1580111323326308\n",
      "ASP: 1.3183985537197236\n",
      "15 uniform agents\n",
      "average revenue: 1.3767379034948328\n",
      "average gains: 0.06262413496391665\n",
      "average bid: 0.9685802615235568\n",
      "ASB: 1.4304585470917879\n",
      "ASP: 0.4618782855682311\n",
      "15 gamma agents\n",
      "average revenue: 1.9401723317500386\n",
      "average gains: 0.6003257067278402\n",
      "average bid: 0.8845959469108133\n",
      "ASB: 2.4156744896109332\n",
      "ASP: 1.53107854270012\n",
      "20 uniform agents\n",
      "average revenue: 1.4035408001852203\n",
      "average gains: 0.04755477795711709\n",
      "average bid: 0.9737435429488837\n",
      "ASB: 1.4476126323629177\n",
      "ASP: 0.47386908941403405\n",
      "20 gamma agents\n",
      "average revenue: 2.1259455267683953\n",
      "average gains: 0.6056167631363549\n",
      "average bid: 0.9081877266345757\n",
      "ASB: 2.5945914699741146\n",
      "ASP: 1.686403743339539\n"
     ]
    }
   ],
   "source": [
    "sims = {}\n",
    "for agent in [5, 10, 15, 20]:\n",
    "    sims[(agent, \"u\")] = simulator.SymmetricSimulator(agent, ud)\n",
    "    sims[(agent, \"g\")] = simulator.SymmetricSimulator(agent, gd)\n",
    "\n",
    "for k in sims:\n",
    "    sims[k].simulate_turns(2000, as_percentile=95)"
   ]
  },
  {
   "cell_type": "code",
   "execution_count": null,
   "id": "1f593b24",
   "metadata": {},
   "outputs": [],
   "source": []
  }
 ],
 "metadata": {
  "kernelspec": {
   "display_name": "Python 3",
   "language": "python",
   "name": "python3"
  },
  "language_info": {
   "codemirror_mode": {
    "name": "ipython",
    "version": 3
   },
   "file_extension": ".py",
   "mimetype": "text/x-python",
   "name": "python",
   "nbconvert_exporter": "python",
   "pygments_lexer": "ipython3",
   "version": "3.8.10"
  }
 },
 "nbformat": 4,
 "nbformat_minor": 5
}
