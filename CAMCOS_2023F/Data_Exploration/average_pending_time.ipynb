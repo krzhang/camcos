{
 "cells": [
  {
   "cell_type": "code",
   "execution_count": 1,
   "metadata": {},
   "outputs": [],
   "source": [
    "import pandas as pd\n",
    "import numpy as np\n",
    "import matplotlib.pyplot as plt"
   ]
  },
  {
   "cell_type": "code",
   "execution_count": 2,
   "metadata": {},
   "outputs": [
    {
     "name": "stdout",
     "output_type": "stream",
     "text": [
      "Dataset shape:  (403212, 27)\n"
     ]
    },
    {
     "data": {
      "text/html": [
       "<div>\n",
       "<style scoped>\n",
       "    .dataframe tbody tr th:only-of-type {\n",
       "        vertical-align: middle;\n",
       "    }\n",
       "\n",
       "    .dataframe tbody tr th {\n",
       "        vertical-align: top;\n",
       "    }\n",
       "\n",
       "    .dataframe thead th {\n",
       "        text-align: right;\n",
       "    }\n",
       "</style>\n",
       "<table border=\"1\" class=\"dataframe\">\n",
       "  <thead>\n",
       "    <tr style=\"text-align: right;\">\n",
       "      <th></th>\n",
       "      <th>detecttime</th>\n",
       "      <th>hash</th>\n",
       "      <th>status</th>\n",
       "      <th>region</th>\n",
       "      <th>reorg</th>\n",
       "      <th>replace</th>\n",
       "      <th>curblocknumber</th>\n",
       "      <th>failurereason</th>\n",
       "      <th>blockspending</th>\n",
       "      <th>timepending</th>\n",
       "      <th>...</th>\n",
       "      <th>network</th>\n",
       "      <th>type</th>\n",
       "      <th>maxpriorityfeepergas</th>\n",
       "      <th>maxfeepergas</th>\n",
       "      <th>basefeepergas</th>\n",
       "      <th>dropreason</th>\n",
       "      <th>rejectionreason</th>\n",
       "      <th>stuck</th>\n",
       "      <th>gasused</th>\n",
       "      <th>detect_date</th>\n",
       "    </tr>\n",
       "  </thead>\n",
       "  <tbody>\n",
       "    <tr>\n",
       "      <th>0</th>\n",
       "      <td>2023-02-24T00:00:00.167Z</td>\n",
       "      <td>0x2b7cd2e8fd547f4ef784e6713a8c06926a0ff1ced45b...</td>\n",
       "      <td>pending</td>\n",
       "      <td>us-east-1</td>\n",
       "      <td>NaN</td>\n",
       "      <td>NaN</td>\n",
       "      <td>16694512</td>\n",
       "      <td>none</td>\n",
       "      <td>NaN</td>\n",
       "      <td>NaN</td>\n",
       "      <td>...</td>\n",
       "      <td>main</td>\n",
       "      <td>2</td>\n",
       "      <td>3.000000e+09</td>\n",
       "      <td>4.702304e+10</td>\n",
       "      <td>28122281784</td>\n",
       "      <td>NaN</td>\n",
       "      <td>NaN</td>\n",
       "      <td>False</td>\n",
       "      <td>-1.0</td>\n",
       "      <td>2023-02-24</td>\n",
       "    </tr>\n",
       "    <tr>\n",
       "      <th>1</th>\n",
       "      <td>2023-02-24T00:00:00.253Z</td>\n",
       "      <td>0x2b7cd2e8fd547f4ef784e6713a8c06926a0ff1ced45b...</td>\n",
       "      <td>pending</td>\n",
       "      <td>eu-central-1</td>\n",
       "      <td>NaN</td>\n",
       "      <td>NaN</td>\n",
       "      <td>16694512</td>\n",
       "      <td>none</td>\n",
       "      <td>NaN</td>\n",
       "      <td>NaN</td>\n",
       "      <td>...</td>\n",
       "      <td>main</td>\n",
       "      <td>2</td>\n",
       "      <td>3.000000e+09</td>\n",
       "      <td>4.702304e+10</td>\n",
       "      <td>28122281784</td>\n",
       "      <td>NaN</td>\n",
       "      <td>NaN</td>\n",
       "      <td>False</td>\n",
       "      <td>-1.0</td>\n",
       "      <td>2023-02-24</td>\n",
       "    </tr>\n",
       "    <tr>\n",
       "      <th>2</th>\n",
       "      <td>2023-02-24T00:00:00.280Z</td>\n",
       "      <td>0x2b7cd2e8fd547f4ef784e6713a8c06926a0ff1ced45b...</td>\n",
       "      <td>pending</td>\n",
       "      <td>ap-southeast-1</td>\n",
       "      <td>NaN</td>\n",
       "      <td>NaN</td>\n",
       "      <td>16694512</td>\n",
       "      <td>none</td>\n",
       "      <td>NaN</td>\n",
       "      <td>NaN</td>\n",
       "      <td>...</td>\n",
       "      <td>main</td>\n",
       "      <td>2</td>\n",
       "      <td>3.000000e+09</td>\n",
       "      <td>4.702304e+10</td>\n",
       "      <td>28122281784</td>\n",
       "      <td>NaN</td>\n",
       "      <td>NaN</td>\n",
       "      <td>False</td>\n",
       "      <td>-1.0</td>\n",
       "      <td>2023-02-24</td>\n",
       "    </tr>\n",
       "    <tr>\n",
       "      <th>3</th>\n",
       "      <td>2023-02-24T00:00:00.374Z</td>\n",
       "      <td>0x44bfc98df9a35e3cd4f144bba9e89afdb12122747dda...</td>\n",
       "      <td>pending</td>\n",
       "      <td>eu-central-1</td>\n",
       "      <td>NaN</td>\n",
       "      <td>NaN</td>\n",
       "      <td>16694512</td>\n",
       "      <td>none</td>\n",
       "      <td>NaN</td>\n",
       "      <td>NaN</td>\n",
       "      <td>...</td>\n",
       "      <td>main</td>\n",
       "      <td>2</td>\n",
       "      <td>1.000000e+09</td>\n",
       "      <td>4.604646e+10</td>\n",
       "      <td>28122281784</td>\n",
       "      <td>NaN</td>\n",
       "      <td>NaN</td>\n",
       "      <td>False</td>\n",
       "      <td>-1.0</td>\n",
       "      <td>2023-02-24</td>\n",
       "    </tr>\n",
       "    <tr>\n",
       "      <th>4</th>\n",
       "      <td>2023-02-24T00:00:00.383Z</td>\n",
       "      <td>0x44bfc98df9a35e3cd4f144bba9e89afdb12122747dda...</td>\n",
       "      <td>pending</td>\n",
       "      <td>us-east-1</td>\n",
       "      <td>NaN</td>\n",
       "      <td>NaN</td>\n",
       "      <td>16694512</td>\n",
       "      <td>none</td>\n",
       "      <td>NaN</td>\n",
       "      <td>NaN</td>\n",
       "      <td>...</td>\n",
       "      <td>main</td>\n",
       "      <td>2</td>\n",
       "      <td>1.000000e+09</td>\n",
       "      <td>4.604646e+10</td>\n",
       "      <td>28122281784</td>\n",
       "      <td>NaN</td>\n",
       "      <td>NaN</td>\n",
       "      <td>False</td>\n",
       "      <td>-1.0</td>\n",
       "      <td>2023-02-24</td>\n",
       "    </tr>\n",
       "  </tbody>\n",
       "</table>\n",
       "<p>5 rows × 27 columns</p>\n",
       "</div>"
      ],
      "text/plain": [
       "                 detecttime  \\\n",
       "0  2023-02-24T00:00:00.167Z   \n",
       "1  2023-02-24T00:00:00.253Z   \n",
       "2  2023-02-24T00:00:00.280Z   \n",
       "3  2023-02-24T00:00:00.374Z   \n",
       "4  2023-02-24T00:00:00.383Z   \n",
       "\n",
       "                                                hash   status          region  \\\n",
       "0  0x2b7cd2e8fd547f4ef784e6713a8c06926a0ff1ced45b...  pending       us-east-1   \n",
       "1  0x2b7cd2e8fd547f4ef784e6713a8c06926a0ff1ced45b...  pending    eu-central-1   \n",
       "2  0x2b7cd2e8fd547f4ef784e6713a8c06926a0ff1ced45b...  pending  ap-southeast-1   \n",
       "3  0x44bfc98df9a35e3cd4f144bba9e89afdb12122747dda...  pending    eu-central-1   \n",
       "4  0x44bfc98df9a35e3cd4f144bba9e89afdb12122747dda...  pending       us-east-1   \n",
       "\n",
       "   reorg replace  curblocknumber failurereason  blockspending  timepending  \\\n",
       "0    NaN     NaN        16694512          none            NaN          NaN   \n",
       "1    NaN     NaN        16694512          none            NaN          NaN   \n",
       "2    NaN     NaN        16694512          none            NaN          NaN   \n",
       "3    NaN     NaN        16694512          none            NaN          NaN   \n",
       "4    NaN     NaN        16694512          none            NaN          NaN   \n",
       "\n",
       "   ...  network  type  maxpriorityfeepergas  maxfeepergas basefeepergas  \\\n",
       "0  ...     main     2          3.000000e+09  4.702304e+10   28122281784   \n",
       "1  ...     main     2          3.000000e+09  4.702304e+10   28122281784   \n",
       "2  ...     main     2          3.000000e+09  4.702304e+10   28122281784   \n",
       "3  ...     main     2          1.000000e+09  4.604646e+10   28122281784   \n",
       "4  ...     main     2          1.000000e+09  4.604646e+10   28122281784   \n",
       "\n",
       "  dropreason rejectionreason  stuck  gasused  detect_date  \n",
       "0        NaN             NaN  False     -1.0   2023-02-24  \n",
       "1        NaN             NaN  False     -1.0   2023-02-24  \n",
       "2        NaN             NaN  False     -1.0   2023-02-24  \n",
       "3        NaN             NaN  False     -1.0   2023-02-24  \n",
       "4        NaN             NaN  False     -1.0   2023-02-24  \n",
       "\n",
       "[5 rows x 27 columns]"
      ]
     },
     "execution_count": 2,
     "metadata": {},
     "output_type": "execute_result"
    }
   ],
   "source": [
    "# read in sample.csv into a dataframe with \\t delimiter\n",
    "df = pd.read_csv('sample.csv', sep='\\t')\n",
    "print(\"Dataset shape: \", df.shape)\n",
    "df.head()"
   ]
  },
  {
   "cell_type": "code",
   "execution_count": 27,
   "metadata": {},
   "outputs": [],
   "source": [
    "# keep only the rows where region == 'us-east-1'\n",
    "df_us = df[df['region'] == 'us-east-1']"
   ]
  },
  {
   "cell_type": "code",
   "execution_count": 6,
   "metadata": {},
   "outputs": [],
   "source": [
    "# for each row, if the status != pending, add the hash to the list \n",
    "not_pending_hashes = []\n",
    "for index, row in df_us.iterrows():\n",
    "    if row['status'] != 'pending':\n",
    "        not_pending_hashes.append(row['hash'])"
   ]
  },
  {
   "cell_type": "code",
   "execution_count": 7,
   "metadata": {},
   "outputs": [],
   "source": [
    "# keep only the rows where hash is not in not_pending_hashes\n",
    "df_us_pending = df_us[~df_us['hash'].isin(not_pending_hashes)]"
   ]
  },
  {
   "cell_type": "code",
   "execution_count": 8,
   "metadata": {},
   "outputs": [
    {
     "name": "stdout",
     "output_type": "stream",
     "text": [
      "Unique status in df_us_pending:  ['pending']\n"
     ]
    }
   ],
   "source": [
    "## Sanity check ##\n",
    "# get the unique status in df_us_pending\n",
    "print(\"Unique status in df_us_pending: \", df_us_pending['status'].unique())"
   ]
  },
  {
   "cell_type": "code",
   "execution_count": 28,
   "metadata": {},
   "outputs": [
    {
     "name": "stdout",
     "output_type": "stream",
     "text": [
      "Shape of df_us_pending:  (585, 30)\n"
     ]
    }
   ],
   "source": [
    "# get shape of df_us_pending\n",
    "print(\"Shape of df_us_pending: \", df_us_pending.shape)"
   ]
  },
  {
   "cell_type": "code",
   "execution_count": 11,
   "metadata": {},
   "outputs": [
    {
     "name": "stderr",
     "output_type": "stream",
     "text": [
      "/var/folders/5j/sp7zw9k97sdfqkf7m2vn2m4h0000gn/T/ipykernel_74022/3117422420.py:5: SettingWithCopyWarning: \n",
      "A value is trying to be set on a copy of a slice from a DataFrame.\n",
      "Try using .loc[row_indexer,col_indexer] = value instead\n",
      "\n",
      "See the caveats in the documentation: https://pandas.pydata.org/pandas-docs/stable/user_guide/indexing.html#returning-a-view-versus-a-copy\n",
      "  df_us_pending['datetime'] = pd.to_datetime(df_us_pending['detecttime'])\n",
      "/var/folders/5j/sp7zw9k97sdfqkf7m2vn2m4h0000gn/T/ipykernel_74022/3117422420.py:10: SettingWithCopyWarning: \n",
      "A value is trying to be set on a copy of a slice from a DataFrame.\n",
      "Try using .loc[row_indexer,col_indexer] = value instead\n",
      "\n",
      "See the caveats in the documentation: https://pandas.pydata.org/pandas-docs/stable/user_guide/indexing.html#returning-a-view-versus-a-copy\n",
      "  df_us_pending['total_pending_time'] = last_detecttime - df_us_pending['datetime']\n"
     ]
    }
   ],
   "source": [
    "# get the detecttime of the last row in df\n",
    "last_detecttime = df.iloc[-1]['detecttime']\n",
    "\n",
    "# create a new column in df_us_pending that converts the detecttime column to datetime\n",
    "df_us_pending['datetime'] = pd.to_datetime(df_us_pending['detecttime'])\n",
    "\n",
    "last_detecttime = pd.to_datetime(last_detecttime)\n",
    "\n",
    "# create a new column in df_us_pending called total_pending_time that is the difference between last_detecttime and detecttime\n",
    "df_us_pending['total_pending_time'] = last_detecttime - df_us_pending['datetime']\n"
   ]
  },
  {
   "cell_type": "code",
   "execution_count": 19,
   "metadata": {},
   "outputs": [
    {
     "name": "stderr",
     "output_type": "stream",
     "text": [
      "/var/folders/5j/sp7zw9k97sdfqkf7m2vn2m4h0000gn/T/ipykernel_74022/1182603538.py:3: SettingWithCopyWarning: \n",
      "A value is trying to be set on a copy of a slice from a DataFrame.\n",
      "Try using .loc[row_indexer,col_indexer] = value instead\n",
      "\n",
      "See the caveats in the documentation: https://pandas.pydata.org/pandas-docs/stable/user_guide/indexing.html#returning-a-view-versus-a-copy\n",
      "  df_us_pending['floattime'] = df_us_pending['total_pending_time'].dt.total_seconds()\n"
     ]
    }
   ],
   "source": [
    "# create a new column \"floattime\" in df_us_pending that converts the total_pending_time column to float in seconds\n",
    "\n",
    "df_us_pending['floattime'] = df_us_pending['total_pending_time'].dt.total_seconds()\n"
   ]
  },
  {
   "cell_type": "code",
   "execution_count": 32,
   "metadata": {},
   "outputs": [
    {
     "name": "stdout",
     "output_type": "stream",
     "text": [
      "head:\n",
      "                    detecttime                         datetime  \\\n",
      "105   2023-02-24T00:00:02.590Z 2023-02-24 00:00:02.590000+00:00   \n",
      "651   2023-02-24T00:00:08.876Z 2023-02-24 00:00:08.876000+00:00   \n",
      "1281  2023-02-24T00:00:12.795Z 2023-02-24 00:00:12.795000+00:00   \n",
      "6330  2023-02-24T00:00:42.090Z 2023-02-24 00:00:42.090000+00:00   \n",
      "7365  2023-02-24T00:00:51.786Z 2023-02-24 00:00:51.786000+00:00   \n",
      "\n",
      "         total_pending_time  floattime  \n",
      "105  0 days 00:59:57.325000   3597.325  \n",
      "651  0 days 00:59:51.039000   3591.039  \n",
      "1281 0 days 00:59:47.120000   3587.120  \n",
      "6330 0 days 00:59:17.825000   3557.825  \n",
      "7365 0 days 00:59:08.129000   3548.129  \n",
      "\n",
      "\n",
      "\n",
      "tail:\n",
      "                      detecttime                         datetime  \\\n",
      "403193  2023-02-24T00:59:59.187Z 2023-02-24 00:59:59.187000+00:00   \n",
      "403199  2023-02-24T00:59:59.375Z 2023-02-24 00:59:59.375000+00:00   \n",
      "403204  2023-02-24T00:59:59.496Z 2023-02-24 00:59:59.496000+00:00   \n",
      "403208  2023-02-24T00:59:59.711Z 2023-02-24 00:59:59.711000+00:00   \n",
      "403210  2023-02-24T00:59:59.823Z 2023-02-24 00:59:59.823000+00:00   \n",
      "\n",
      "           total_pending_time  floattime  \n",
      "403193 0 days 00:00:00.728000      0.728  \n",
      "403199 0 days 00:00:00.540000      0.540  \n",
      "403204 0 days 00:00:00.419000      0.419  \n",
      "403208 0 days 00:00:00.204000      0.204  \n",
      "403210 0 days 00:00:00.092000      0.092  \n"
     ]
    }
   ],
   "source": [
    "# print the first and last 5 columns 'detecttime' 'datetime' 'total_pending_time' 'floattime'\n",
    "print(\"head:\")\n",
    "print(df_us_pending[['detecttime', 'datetime', 'total_pending_time', 'floattime']].head())\n",
    "print(\"\\n\\n\\ntail:\")\n",
    "print(df_us_pending[['detecttime', 'datetime', 'total_pending_time', 'floattime']].tail())"
   ]
  },
  {
   "cell_type": "code",
   "execution_count": 43,
   "metadata": {},
   "outputs": [
    {
     "data": {
      "image/png": "[encoded data removed]",
      "text/plain": [
       "<Figure size 640x480 with 1 Axes>"
      ]
     },
     "metadata": {},
     "output_type": "display_data"
    }
   ],
   "source": [
    "num_rows = df_us_pending.shape[0]\n",
    "\n",
    "#graph the distribution of floattime \n",
    "df_us_pending['floattime'].hist(bins=75)\n",
    "plt.title(\"Pending Time Distribution (in seconds)\\nmempool sample data\\nn = \"+ str(num_rows))\n",
    "plt.show()\n"
   ]
  },
  {
   "cell_type": "code",
   "execution_count": 26,
   "metadata": {},
   "outputs": [
    {
     "name": "stdout",
     "output_type": "stream",
     "text": [
      "Mean:  1187.1738512820511 seconds\n",
      "Median:  1053.342 seconds\n",
      "Mode:  0     320.521\n",
      "1    1974.197\n",
      "Name: floattime, dtype: float64\n"
     ]
    }
   ],
   "source": [
    "# get the mean, median, and mode of floattime\n",
    "print(\"Mean: \", df_us_pending['floattime'].mean(), \"seconds\")\n",
    "print(\"Median: \", df_us_pending['floattime'].median(), \"seconds\")\n",
    "print(\"Mode: \", df_us_pending['floattime'].mode())\n"
   ]
  }
 ],
 "metadata": {
  "kernelspec": {
   "display_name": "changes",
   "language": "python",
   "name": "python3"
  },
  "language_info": {
   "codemirror_mode": {
    "name": "ipython",
    "version": 3
   },
   "file_extension": ".py",
   "mimetype": "text/x-python",
   "name": "python",
   "nbconvert_exporter": "python",
   "pygments_lexer": "ipython3",
   "version": "3.11.3"
  }
 },
 "nbformat": 4,
 "nbformat_minor": 2
}
