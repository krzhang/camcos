{
 "cells": [
  {
   "cell_type": "markdown",
   "metadata": {},
   "source": [
    "# Distributions for LOG of new gas price variable, using two weeks of data\n",
    "(08/24/23-09/07/23), code reference: 12/02/23\n",
    "### Separately created master_finalized_txns_limited.csv \n",
    "### from master_finalized_txns.csv.gz (which Tara created)\n",
    "(status in (confirmed, failed))\n",
    "### Calculate newgasprice, lognewgasprice\n",
    "### Generate summary statistics, histogram for newgasprice\n"
   ]
  },
  {
   "cell_type": "code",
   "execution_count": 1,
   "metadata": {},
   "outputs": [],
   "source": [
    "import pandas as pd\n",
    "import numpy as np\n",
    "import matplotlib.pyplot as plt\n",
    "\n",
    "import seaborn as sns\n",
    "import datetime\n",
    "import scipy\n",
    "\n",
    "\n",
    "#package for analysis of distribution fit\n",
    "from fitter import Fitter, get_common_distributions, get_distributions\n",
    "\n",
    "#import gzip"
   ]
  },
  {
   "cell_type": "code",
   "execution_count": 2,
   "metadata": {},
   "outputs": [
    {
     "data": {
      "text/plain": [
       "(10505807, 4)"
      ]
     },
     "execution_count": 2,
     "metadata": {},
     "output_type": "execute_result"
    }
   ],
   "source": [
    "from pathlib import Path\n",
    "\n",
    "# Data folder location\n",
    "##data_folder = ADD DATA FILE LOCATION HERE\n",
    "\n",
    "\n",
    "#read in TWO WEEK, trimmed and finalized, LIMITED mempool data set\n",
    "\n",
    "limited_df = data_folder/'master_finalized_txns_limited.csv'\n",
    "df1 = pd.read_csv(limited_df)\n",
    "\n",
    "\n",
    "df1 = df1.loc[: , ['basefeepergas', 'maxpriorityfeepergas', 'maxfeepergas', 'timepending']]\n",
    "df1.shape\n",
    "\n"
   ]
  },
  {
   "cell_type": "markdown",
   "metadata": {},
   "source": [
    "## Remove rows where timepending is missing, or where timepending = 0 \n",
    "### (only zero for private transactions that would not show up in mempool)"
   ]
  },
  {
   "cell_type": "code",
   "execution_count": 3,
   "metadata": {},
   "outputs": [
    {
     "data": {
      "text/plain": [
       "(10475691, 4)"
      ]
     },
     "execution_count": 3,
     "metadata": {},
     "output_type": "execute_result"
    }
   ],
   "source": [
    "df = df1[df1.timepending != 0].copy()\n",
    "\n",
    "df.shape"
   ]
  },
  {
   "cell_type": "code",
   "execution_count": 4,
   "metadata": {},
   "outputs": [],
   "source": [
    "#df.head()\n",
    "del df1\n",
    "del limited_df"
   ]
  },
  {
   "cell_type": "markdown",
   "metadata": {},
   "source": [
    "## Calculate newgasprice"
   ]
  },
  {
   "cell_type": "code",
   "execution_count": 5,
   "metadata": {},
   "outputs": [
    {
     "data": {
      "text/plain": [
       "(10475691, 6)"
      ]
     },
     "execution_count": 5,
     "metadata": {},
     "output_type": "execute_result"
    }
   ],
   "source": [
    "#Calculate gasprice variable\n",
    "#df[\"maxpriorityfeepergas\"].describe()\n",
    "#df[\"basefeepergas\"].describe()\n",
    "#df[\"maxfeepergas\"].describe()\n",
    "\n",
    "df['mybid'] = df['basefeepergas'] + df['maxpriorityfeepergas']\n",
    "\n",
    "df['newgasprice'] = df[['mybid','maxfeepergas']].values.min(axis=1)\n",
    "\n",
    "df.shape"
   ]
  },
  {
   "cell_type": "code",
   "execution_count": 6,
   "metadata": {},
   "outputs": [
    {
     "data": {
      "text/plain": [
       "count    1.047569e+07\n",
       "mean     2.100810e+10\n",
       "std      1.902532e+10\n",
       "min      8.020358e+09\n",
       "25%      1.253770e+10\n",
       "50%      1.639134e+10\n",
       "75%      2.436266e+10\n",
       "max      2.001814e+13\n",
       "Name: mybid, dtype: float64"
      ]
     },
     "execution_count": 6,
     "metadata": {},
     "output_type": "execute_result"
    }
   ],
   "source": [
    "df['mybid'].describe()"
   ]
  },
  {
   "cell_type": "code",
   "execution_count": 7,
   "metadata": {},
   "outputs": [
    {
     "data": {
      "text/plain": [
       "count    1.047569e+07\n",
       "mean     2.034602e+10\n",
       "std      1.808765e+10\n",
       "min      8.020358e+09\n",
       "25%      1.244831e+10\n",
       "50%      1.609097e+10\n",
       "75%      2.345631e+10\n",
       "max      2.000050e+13\n",
       "Name: newgasprice, dtype: float64"
      ]
     },
     "execution_count": 7,
     "metadata": {},
     "output_type": "execute_result"
    }
   ],
   "source": [
    "df['newgasprice'].describe()"
   ]
  },
  {
   "cell_type": "code",
   "execution_count": null,
   "metadata": {},
   "outputs": [],
   "source": [
    "#Visual check that new gas price is calculated correctly (print 20 rows)\n",
    "\n",
    "#df.iloc[1:20, :]\n"
   ]
  },
  {
   "cell_type": "code",
   "execution_count": null,
   "metadata": {},
   "outputs": [],
   "source": [
    "#some examples where the maxfeepergas determined the new gas price\n",
    "#df[df['maxfeepergas']==df['newgasprice']].iloc[1:10, : ]\n"
   ]
  },
  {
   "cell_type": "code",
   "execution_count": null,
   "metadata": {},
   "outputs": [],
   "source": [
    "#some examples where the base fee and tip determined the new gas price\n",
    "#df2[df2['maxfeepergas']!=df2['newgasprice']].iloc[1:10, :]\n",
    "#df2[df2['maxfeepergas']!=df2['newgasprice']].iloc[1:10, [21,19,27,20,28]]"
   ]
  },
  {
   "cell_type": "code",
   "execution_count": 6,
   "metadata": {},
   "outputs": [
    {
     "data": {
      "text/plain": [
       "count    1.047569e+07\n",
       "mean     2.034602e+01\n",
       "std      1.808765e+01\n",
       "min      8.020358e+00\n",
       "25%      1.244831e+01\n",
       "50%      1.609097e+01\n",
       "75%      2.345631e+01\n",
       "max      2.000050e+04\n",
       "Name: newgasprice_, dtype: float64"
      ]
     },
     "execution_count": 6,
     "metadata": {},
     "output_type": "execute_result"
    }
   ],
   "source": [
    "#Convert to gwei per gas (newgasprice is in wei per gas)\n",
    "df['newgasprice_'] = df['newgasprice']/(10**9)\n",
    "df['newgasprice_'].describe()\n"
   ]
  },
  {
   "cell_type": "code",
   "execution_count": null,
   "metadata": {},
   "outputs": [],
   "source": [
    "#some examples where newgasprice_ > 120\n",
    "#df[df['newgasprice_'] > 120].iloc[1:10, [21,19,27,20,28,29]]\n",
    "#df[df['newgasprice_'] > 120].iloc[1:10, :]"
   ]
  },
  {
   "cell_type": "markdown",
   "metadata": {},
   "source": [
    "## New variable: log of newgasprice (in gwei)"
   ]
  },
  {
   "cell_type": "code",
   "execution_count": 7,
   "metadata": {},
   "outputs": [],
   "source": [
    "df['lognewgasprice'] = np.log(df['newgasprice_'])"
   ]
  },
  {
   "cell_type": "code",
   "execution_count": 8,
   "metadata": {},
   "outputs": [
    {
     "data": {
      "text/plain": [
       "count    1.047569e+07\n",
       "mean     2.884093e+00\n",
       "std      4.624732e-01\n",
       "min      2.081983e+00\n",
       "25%      2.521584e+00\n",
       "50%      2.778259e+00\n",
       "75%      3.155140e+00\n",
       "max      9.903513e+00\n",
       "Name: lognewgasprice, dtype: float64"
      ]
     },
     "execution_count": 8,
     "metadata": {},
     "output_type": "execute_result"
    }
   ],
   "source": [
    "#find 99th percentile for lognewgasprice\n",
    "#(NOTE: percentile function was not working before with timepending: rows with missing timepending had not been removed)\n",
    "#np.nanpercentile(df3['timepending'], 99)\n",
    "\n",
    "my99 = np.percentile(df['lognewgasprice'], 99)\n",
    "my99\n",
    "df['lognewgasprice'].describe()\n"
   ]
  },
  {
   "cell_type": "code",
   "execution_count": 9,
   "metadata": {},
   "outputs": [],
   "source": [
    "#del df10\n",
    "df10  = df[df['lognewgasprice'] < my99]\n",
    "#df10['newgasprice_'].describe()"
   ]
  },
  {
   "cell_type": "markdown",
   "metadata": {},
   "source": [
    "## Log of New Gas Price: Plot and summary statistics"
   ]
  },
  {
   "cell_type": "code",
   "execution_count": 14,
   "metadata": {
    "scrolled": true
   },
   "outputs": [
    {
     "data": {
      "image/png": "[encoded data removed]",
      "text/plain": [
       "<Figure size 1600x400 with 1 Axes>"
      ]
     },
     "metadata": {},
     "output_type": "display_data"
    }
   ],
   "source": [
    "#Plot of calculated gas price that does not include the top 1%\n",
    "plt.figure(figsize=(16,4))\n",
    "sns.histplot(df10['lognewgasprice'], bins=100, kde=True, edgecolor = 'black')\n",
    "plt.title('Distribution of Log of Calculated Gas Price\\nTwo Weeks of Data Aug 25 to Sep 7 2023 \\nUp to 99th percentile shown')\n",
    "plt.xlabel('Log of gas price (gas price in gwei/gas)')\n",
    "\n",
    "#sns.histplot(includable_df['GUPB'], bins=100, kde=True, edgecolor = 'black')\n",
    "plt.show()"
   ]
  },
  {
   "cell_type": "code",
   "execution_count": 16,
   "metadata": {
    "scrolled": true
   },
   "outputs": [
    {
     "data": {
      "text/plain": [
       "count    1.047569e+07\n",
       "mean     2.884093e+00\n",
       "std      4.624732e-01\n",
       "min      2.081983e+00\n",
       "25%      2.521584e+00\n",
       "50%      2.778259e+00\n",
       "75%      3.155140e+00\n",
       "max      9.903513e+00\n",
       "Name: lognewgasprice, dtype: float64"
      ]
     },
     "execution_count": 16,
     "metadata": {},
     "output_type": "execute_result"
    }
   ],
   "source": [
    "#NOTE: df has all finalized rows, d10 excludes the top 1% of newgasprice values\n",
    "df['lognewgasprice'].describe()"
   ]
  },
  {
   "cell_type": "markdown",
   "metadata": {},
   "source": [
    "## Starting here: following steps described on medium.com\n",
    "\n",
    "https://medium.com/the-researchers-guide/finding-the-best-distribution-that-fits-your-data-using-pythons-fitter-library-319a5a0972e9\n"
   ]
  },
  {
   "cell_type": "markdown",
   "metadata": {},
   "source": [
    "## **Data preparation (lognewgasprice)"
   ]
  },
  {
   "cell_type": "code",
   "execution_count": 10,
   "metadata": {},
   "outputs": [],
   "source": [
    "#convert to a numpy array\n",
    "lognewgasprice = df['lognewgasprice'].values"
   ]
  },
  {
   "cell_type": "markdown",
   "metadata": {},
   "source": [
    "## **Fitting distributions  (newgasprice)"
   ]
  },
  {
   "cell_type": "markdown",
   "metadata": {},
   "source": [
    "Use trick from here: https://fitter.readthedocs.io/en/latest/references.html\n",
    "limit to 10 distributions at a time"
   ]
  },
  {
   "cell_type": "code",
   "execution_count": 17,
   "metadata": {},
   "outputs": [
    {
     "name": "stderr",
     "output_type": "stream",
     "text": [
      "SKIPPED _fit distribution (taking more than 30 seconds)\n",
      "SKIPPED burr distribution (taking more than 30 seconds)\n",
      "SKIPPED anglit distribution (taking more than 30 seconds)\n",
      "SKIPPED alpha distribution (taking more than 30 seconds)\n",
      "SKIPPED bradford distribution (taking more than 30 seconds)\n",
      "SKIPPED argus distribution (taking more than 30 seconds)\n",
      "SKIPPED beta distribution (taking more than 30 seconds)\n",
      "SKIPPED arcsine distribution (taking more than 30 seconds)\n",
      "SKIPPED betaprime distribution (taking more than 30 seconds)\n",
      "SKIPPED burr12 distribution (taking more than 30 seconds)\n",
      "_fit was not fitted. no parameters available\n",
      "burr was not fitted. no parameters available\n",
      "anglit was not fitted. no parameters available\n",
      "alpha was not fitted. no parameters available\n",
      "bradford was not fitted. no parameters available\n",
      "No artists with labels found to put in legend.  Note that artists whose label start with an underscore are ignored when legend() is called with no argument.\n"
     ]
    },
    {
     "data": {
      "text/html": [
       "<div>\n",
       "<style scoped>\n",
       "    .dataframe tbody tr th:only-of-type {\n",
       "        vertical-align: middle;\n",
       "    }\n",
       "\n",
       "    .dataframe tbody tr th {\n",
       "        vertical-align: top;\n",
       "    }\n",
       "\n",
       "    .dataframe thead th {\n",
       "        text-align: right;\n",
       "    }\n",
       "</style>\n",
       "<table border=\"1\" class=\"dataframe\">\n",
       "  <thead>\n",
       "    <tr style=\"text-align: right;\">\n",
       "      <th></th>\n",
       "      <th>sumsquare_error</th>\n",
       "      <th>aic</th>\n",
       "      <th>bic</th>\n",
       "      <th>kl_div</th>\n",
       "      <th>ks_statistic</th>\n",
       "      <th>ks_pvalue</th>\n",
       "    </tr>\n",
       "  </thead>\n",
       "  <tbody>\n",
       "    <tr>\n",
       "      <th>_fit</th>\n",
       "      <td>inf</td>\n",
       "      <td>inf</td>\n",
       "      <td>inf</td>\n",
       "      <td>inf</td>\n",
       "      <td>NaN</td>\n",
       "      <td>NaN</td>\n",
       "    </tr>\n",
       "    <tr>\n",
       "      <th>burr</th>\n",
       "      <td>inf</td>\n",
       "      <td>inf</td>\n",
       "      <td>inf</td>\n",
       "      <td>inf</td>\n",
       "      <td>NaN</td>\n",
       "      <td>NaN</td>\n",
       "    </tr>\n",
       "    <tr>\n",
       "      <th>anglit</th>\n",
       "      <td>inf</td>\n",
       "      <td>inf</td>\n",
       "      <td>inf</td>\n",
       "      <td>inf</td>\n",
       "      <td>NaN</td>\n",
       "      <td>NaN</td>\n",
       "    </tr>\n",
       "    <tr>\n",
       "      <th>alpha</th>\n",
       "      <td>inf</td>\n",
       "      <td>inf</td>\n",
       "      <td>inf</td>\n",
       "      <td>inf</td>\n",
       "      <td>NaN</td>\n",
       "      <td>NaN</td>\n",
       "    </tr>\n",
       "    <tr>\n",
       "      <th>bradford</th>\n",
       "      <td>inf</td>\n",
       "      <td>inf</td>\n",
       "      <td>inf</td>\n",
       "      <td>inf</td>\n",
       "      <td>NaN</td>\n",
       "      <td>NaN</td>\n",
       "    </tr>\n",
       "  </tbody>\n",
       "</table>\n",
       "</div>"
      ],
      "text/plain": [
       "          sumsquare_error  aic  bic  kl_div  ks_statistic  ks_pvalue\n",
       "_fit                  inf  inf  inf     inf           NaN        NaN\n",
       "burr                  inf  inf  inf     inf           NaN        NaN\n",
       "anglit                inf  inf  inf     inf           NaN        NaN\n",
       "alpha                 inf  inf  inf     inf           NaN        NaN\n",
       "bradford              inf  inf  inf     inf           NaN        NaN"
      ]
     },
     "execution_count": 17,
     "metadata": {},
     "output_type": "execute_result"
    },
    {
     "data": {
      "image/png": "[encoded data removed]",
      "text/plain": [
       "<Figure size 640x480 with 1 Axes>"
      ]
     },
     "metadata": {},
     "output_type": "display_data"
    }
   ],
   "source": [
    "## First 9 distributions\n",
    "f = Fitter(lognewgasprice)\n",
    "f.distributions = f.distributions[0:10]\n",
    "f.fit()\n",
    "#Generate the fitted distribution summary using .summary( ) method\n",
    "f.summary()"
   ]
  },
  {
   "cell_type": "code",
   "execution_count": 18,
   "metadata": {},
   "outputs": [
    {
     "name": "stderr",
     "output_type": "stream",
     "text": [
      "SKIPPED dweibull distribution (taking more than 30 seconds)\n",
      "SKIPPED dgamma distribution (taking more than 30 seconds)\n",
      "SKIPPED crystalball distribution (taking more than 30 seconds)\n",
      "SKIPPED chi2 distribution (taking more than 30 seconds)\n",
      "SKIPPED cauchy distribution (taking more than 30 seconds)\n",
      "SKIPPED erlang distribution (taking more than 30 seconds)\n",
      "SKIPPED chi distribution (taking more than 30 seconds)\n",
      "SKIPPED cosine distribution (taking more than 30 seconds)\n",
      "SKIPPED exponnorm distribution (taking more than 30 seconds)\n",
      "dweibull was not fitted. no parameters available\n",
      "dgamma was not fitted. no parameters available\n",
      "crystalball was not fitted. no parameters available\n",
      "chi2 was not fitted. no parameters available\n"
     ]
    },
    {
     "data": {
      "text/html": [
       "<div>\n",
       "<style scoped>\n",
       "    .dataframe tbody tr th:only-of-type {\n",
       "        vertical-align: middle;\n",
       "    }\n",
       "\n",
       "    .dataframe tbody tr th {\n",
       "        vertical-align: top;\n",
       "    }\n",
       "\n",
       "    .dataframe thead th {\n",
       "        text-align: right;\n",
       "    }\n",
       "</style>\n",
       "<table border=\"1\" class=\"dataframe\">\n",
       "  <thead>\n",
       "    <tr style=\"text-align: right;\">\n",
       "      <th></th>\n",
       "      <th>sumsquare_error</th>\n",
       "      <th>aic</th>\n",
       "      <th>bic</th>\n",
       "      <th>kl_div</th>\n",
       "      <th>ks_statistic</th>\n",
       "      <th>ks_pvalue</th>\n",
       "    </tr>\n",
       "  </thead>\n",
       "  <tbody>\n",
       "    <tr>\n",
       "      <th>expon</th>\n",
       "      <td>3.961867</td>\n",
       "      <td>935.017265</td>\n",
       "      <td>963.346401</td>\n",
       "      <td>inf</td>\n",
       "      <td>0.228157</td>\n",
       "      <td>0.0</td>\n",
       "    </tr>\n",
       "    <tr>\n",
       "      <th>dweibull</th>\n",
       "      <td>inf</td>\n",
       "      <td>inf</td>\n",
       "      <td>inf</td>\n",
       "      <td>inf</td>\n",
       "      <td>NaN</td>\n",
       "      <td>NaN</td>\n",
       "    </tr>\n",
       "    <tr>\n",
       "      <th>dgamma</th>\n",
       "      <td>inf</td>\n",
       "      <td>inf</td>\n",
       "      <td>inf</td>\n",
       "      <td>inf</td>\n",
       "      <td>NaN</td>\n",
       "      <td>NaN</td>\n",
       "    </tr>\n",
       "    <tr>\n",
       "      <th>crystalball</th>\n",
       "      <td>inf</td>\n",
       "      <td>inf</td>\n",
       "      <td>inf</td>\n",
       "      <td>inf</td>\n",
       "      <td>NaN</td>\n",
       "      <td>NaN</td>\n",
       "    </tr>\n",
       "    <tr>\n",
       "      <th>chi2</th>\n",
       "      <td>inf</td>\n",
       "      <td>inf</td>\n",
       "      <td>inf</td>\n",
       "      <td>inf</td>\n",
       "      <td>NaN</td>\n",
       "      <td>NaN</td>\n",
       "    </tr>\n",
       "  </tbody>\n",
       "</table>\n",
       "</div>"
      ],
      "text/plain": [
       "             sumsquare_error         aic         bic  kl_div  ks_statistic  \\\n",
       "expon               3.961867  935.017265  963.346401     inf      0.228157   \n",
       "dweibull                 inf         inf         inf     inf           NaN   \n",
       "dgamma                   inf         inf         inf     inf           NaN   \n",
       "crystalball              inf         inf         inf     inf           NaN   \n",
       "chi2                     inf         inf         inf     inf           NaN   \n",
       "\n",
       "             ks_pvalue  \n",
       "expon              0.0  \n",
       "dweibull           NaN  \n",
       "dgamma             NaN  \n",
       "crystalball        NaN  \n",
       "chi2               NaN  "
      ]
     },
     "execution_count": 18,
     "metadata": {},
     "output_type": "execute_result"
    },
    {
     "data": {
      "image/png": "[encoded data removed]",
      "text/plain": [
       "<Figure size 640x480 with 1 Axes>"
      ]
     },
     "metadata": {},
     "output_type": "display_data"
    }
   ],
   "source": [
    "## Next 10 distributions\n",
    "f = Fitter(lognewgasprice)\n",
    "f.distributions = f.distributions[10:20]\n",
    "f.fit()\n",
    "#Generate the fitted distribution summary using .summary( ) method\n",
    "f.summary()"
   ]
  },
  {
   "cell_type": "code",
   "execution_count": 19,
   "metadata": {},
   "outputs": [
    {
     "name": "stderr",
     "output_type": "stream",
     "text": [
      "SKIPPED fisk distribution (taking more than 30 seconds)\n",
      "SKIPPED f distribution (taking more than 30 seconds)\n",
      "SKIPPED foldnorm distribution (taking more than 30 seconds)\n",
      "SKIPPED exponweib distribution (taking more than 30 seconds)\n",
      "SKIPPED foldcauchy distribution (taking more than 30 seconds)\n",
      "SKIPPED gamma distribution (taking more than 30 seconds)\n",
      "SKIPPED exponpow distribution (taking more than 30 seconds)\n",
      "SKIPPED fatiguelife distribution (taking more than 30 seconds)\n",
      "SKIPPED genexpon distribution (taking more than 30 seconds)\n",
      "SKIPPED gausshyper distribution (taking more than 30 seconds)\n",
      "fisk was not fitted. no parameters available\n",
      "f was not fitted. no parameters available\n",
      "foldnorm was not fitted. no parameters available\n",
      "exponweib was not fitted. no parameters available\n",
      "foldcauchy was not fitted. no parameters available\n",
      "No artists with labels found to put in legend.  Note that artists whose label start with an underscore are ignored when legend() is called with no argument.\n"
     ]
    },
    {
     "data": {
      "text/html": [
       "<div>\n",
       "<style scoped>\n",
       "    .dataframe tbody tr th:only-of-type {\n",
       "        vertical-align: middle;\n",
       "    }\n",
       "\n",
       "    .dataframe tbody tr th {\n",
       "        vertical-align: top;\n",
       "    }\n",
       "\n",
       "    .dataframe thead th {\n",
       "        text-align: right;\n",
       "    }\n",
       "</style>\n",
       "<table border=\"1\" class=\"dataframe\">\n",
       "  <thead>\n",
       "    <tr style=\"text-align: right;\">\n",
       "      <th></th>\n",
       "      <th>sumsquare_error</th>\n",
       "      <th>aic</th>\n",
       "      <th>bic</th>\n",
       "      <th>kl_div</th>\n",
       "      <th>ks_statistic</th>\n",
       "      <th>ks_pvalue</th>\n",
       "    </tr>\n",
       "  </thead>\n",
       "  <tbody>\n",
       "    <tr>\n",
       "      <th>fisk</th>\n",
       "      <td>inf</td>\n",
       "      <td>inf</td>\n",
       "      <td>inf</td>\n",
       "      <td>inf</td>\n",
       "      <td>NaN</td>\n",
       "      <td>NaN</td>\n",
       "    </tr>\n",
       "    <tr>\n",
       "      <th>f</th>\n",
       "      <td>inf</td>\n",
       "      <td>inf</td>\n",
       "      <td>inf</td>\n",
       "      <td>inf</td>\n",
       "      <td>NaN</td>\n",
       "      <td>NaN</td>\n",
       "    </tr>\n",
       "    <tr>\n",
       "      <th>foldnorm</th>\n",
       "      <td>inf</td>\n",
       "      <td>inf</td>\n",
       "      <td>inf</td>\n",
       "      <td>inf</td>\n",
       "      <td>NaN</td>\n",
       "      <td>NaN</td>\n",
       "    </tr>\n",
       "    <tr>\n",
       "      <th>exponweib</th>\n",
       "      <td>inf</td>\n",
       "      <td>inf</td>\n",
       "      <td>inf</td>\n",
       "      <td>inf</td>\n",
       "      <td>NaN</td>\n",
       "      <td>NaN</td>\n",
       "    </tr>\n",
       "    <tr>\n",
       "      <th>foldcauchy</th>\n",
       "      <td>inf</td>\n",
       "      <td>inf</td>\n",
       "      <td>inf</td>\n",
       "      <td>inf</td>\n",
       "      <td>NaN</td>\n",
       "      <td>NaN</td>\n",
       "    </tr>\n",
       "  </tbody>\n",
       "</table>\n",
       "</div>"
      ],
      "text/plain": [
       "            sumsquare_error  aic  bic  kl_div  ks_statistic  ks_pvalue\n",
       "fisk                    inf  inf  inf     inf           NaN        NaN\n",
       "f                       inf  inf  inf     inf           NaN        NaN\n",
       "foldnorm                inf  inf  inf     inf           NaN        NaN\n",
       "exponweib               inf  inf  inf     inf           NaN        NaN\n",
       "foldcauchy              inf  inf  inf     inf           NaN        NaN"
      ]
     },
     "execution_count": 19,
     "metadata": {},
     "output_type": "execute_result"
    },
    {
     "data": {
      "image/png": "[encoded data removed]",
      "text/plain": [
       "<Figure size 640x480 with 1 Axes>"
      ]
     },
     "metadata": {},
     "output_type": "display_data"
    }
   ],
   "source": [
    "## Next 10 distributions\n",
    "f = Fitter(lognewgasprice)\n",
    "f.distributions = f.distributions[20:30]\n",
    "f.fit()\n",
    "#Generate the fitted distribution summary using .summary( ) method\n",
    "f.summary()"
   ]
  },
  {
   "cell_type": "code",
   "execution_count": null,
   "metadata": {},
   "outputs": [
    {
     "name": "stderr",
     "output_type": "stream",
     "text": [
      "SKIPPED genhyperbolic distribution (taking more than 30 seconds)\n",
      "SKIPPED genextreme distribution (taking more than 30 seconds)\n",
      "SKIPPED geninvgauss distribution (taking more than 30 seconds)\n",
      "SKIPPED genpareto distribution (taking more than 30 seconds)\n",
      "SKIPPED genhalflogistic distribution (taking more than 30 seconds)\n",
      "SKIPPED gengamma distribution (taking more than 30 seconds)\n",
      "SKIPPED genlogistic distribution (taking more than 30 seconds)\n",
      "SKIPPED gennorm distribution (taking more than 30 seconds)\n",
      "SKIPPED gibrat distribution (taking more than 30 seconds)\n",
      "SKIPPED gompertz distribution (taking more than 30 seconds)\n"
     ]
    }
   ],
   "source": [
    "## Next 10 distributions\n",
    "f = Fitter(lognewgasprice)\n",
    "f.distributions = f.distributions[30:40]\n",
    "f.fit()\n",
    "#Generate the fitted distribution summary using .summary( ) method\n",
    "f.summary()"
   ]
  },
  {
   "cell_type": "code",
   "execution_count": 13,
   "metadata": {},
   "outputs": [
    {
     "name": "stderr",
     "output_type": "stream",
     "text": [
      "SKIPPED halfcauchy distribution (taking more than 30 seconds)\n",
      "SKIPPED halfnorm distribution (taking more than 30 seconds)\n",
      "SKIPPED hypsecant distribution (taking more than 30 seconds)\n",
      "SKIPPED halfgennorm distribution (taking more than 30 seconds)\n",
      "SKIPPED invgamma distribution (taking more than 30 seconds)\n",
      "SKIPPED halflogistic distribution (taking more than 30 seconds)\n",
      "SKIPPED invgauss distribution (taking more than 30 seconds)\n",
      "SKIPPED invweibull distribution (taking more than 30 seconds)\n",
      "halfcauchy was not fitted. no parameters available\n",
      "halfnorm was not fitted. no parameters available\n",
      "hypsecant was not fitted. no parameters available\n"
     ]
    },
    {
     "data": {
      "text/html": [
       "<div>\n",
       "<style scoped>\n",
       "    .dataframe tbody tr th:only-of-type {\n",
       "        vertical-align: middle;\n",
       "    }\n",
       "\n",
       "    .dataframe tbody tr th {\n",
       "        vertical-align: top;\n",
       "    }\n",
       "\n",
       "    .dataframe thead th {\n",
       "        text-align: right;\n",
       "    }\n",
       "</style>\n",
       "<table border=\"1\" class=\"dataframe\">\n",
       "  <thead>\n",
       "    <tr style=\"text-align: right;\">\n",
       "      <th></th>\n",
       "      <th>sumsquare_error</th>\n",
       "      <th>aic</th>\n",
       "      <th>bic</th>\n",
       "      <th>kl_div</th>\n",
       "      <th>ks_statistic</th>\n",
       "      <th>ks_pvalue</th>\n",
       "    </tr>\n",
       "  </thead>\n",
       "  <tbody>\n",
       "    <tr>\n",
       "      <th>gumbel_r</th>\n",
       "      <td>0.53434</td>\n",
       "      <td>1.795745e+03</td>\n",
       "      <td>1.824074e+03</td>\n",
       "      <td>inf</td>\n",
       "      <td>0.053372</td>\n",
       "      <td>0.0</td>\n",
       "    </tr>\n",
       "    <tr>\n",
       "      <th>gumbel_l</th>\n",
       "      <td>2.69417</td>\n",
       "      <td>6.314769e+05</td>\n",
       "      <td>6.315052e+05</td>\n",
       "      <td>0.263988</td>\n",
       "      <td>0.221474</td>\n",
       "      <td>0.0</td>\n",
       "    </tr>\n",
       "    <tr>\n",
       "      <th>halfcauchy</th>\n",
       "      <td>inf</td>\n",
       "      <td>inf</td>\n",
       "      <td>inf</td>\n",
       "      <td>inf</td>\n",
       "      <td>NaN</td>\n",
       "      <td>NaN</td>\n",
       "    </tr>\n",
       "    <tr>\n",
       "      <th>halfnorm</th>\n",
       "      <td>inf</td>\n",
       "      <td>inf</td>\n",
       "      <td>inf</td>\n",
       "      <td>inf</td>\n",
       "      <td>NaN</td>\n",
       "      <td>NaN</td>\n",
       "    </tr>\n",
       "    <tr>\n",
       "      <th>hypsecant</th>\n",
       "      <td>inf</td>\n",
       "      <td>inf</td>\n",
       "      <td>inf</td>\n",
       "      <td>inf</td>\n",
       "      <td>NaN</td>\n",
       "      <td>NaN</td>\n",
       "    </tr>\n",
       "  </tbody>\n",
       "</table>\n",
       "</div>"
      ],
      "text/plain": [
       "            sumsquare_error           aic           bic    kl_div  \\\n",
       "gumbel_r            0.53434  1.795745e+03  1.824074e+03       inf   \n",
       "gumbel_l            2.69417  6.314769e+05  6.315052e+05  0.263988   \n",
       "halfcauchy              inf           inf           inf       inf   \n",
       "halfnorm                inf           inf           inf       inf   \n",
       "hypsecant               inf           inf           inf       inf   \n",
       "\n",
       "            ks_statistic  ks_pvalue  \n",
       "gumbel_r        0.053372        0.0  \n",
       "gumbel_l        0.221474        0.0  \n",
       "halfcauchy           NaN        NaN  \n",
       "halfnorm             NaN        NaN  \n",
       "hypsecant            NaN        NaN  "
      ]
     },
     "execution_count": 13,
     "metadata": {},
     "output_type": "execute_result"
    },
    {
     "data": {
      "image/png": "[encoded data removed]",
      "text/plain": [
       "<Figure size 640x480 with 1 Axes>"
      ]
     },
     "metadata": {},
     "output_type": "display_data"
    }
   ],
   "source": [
    "## Next 10 distributions\n",
    "f = Fitter(lognewgasprice)\n",
    "f.distributions = f.distributions[40:50]\n",
    "f.fit()\n",
    "#Generate the fitted distribution summary using .summary( ) method\n",
    "f.summary()"
   ]
  },
  {
   "cell_type": "code",
   "execution_count": 14,
   "metadata": {},
   "outputs": [
    {
     "name": "stderr",
     "output_type": "stream",
     "text": [
      "SKIPPED kstwo distribution (taking more than 30 seconds)\n",
      "SKIPPED johnsonsu distribution (taking more than 30 seconds)\n",
      "SKIPPED kappa4 distribution (taking more than 30 seconds)\n",
      "SKIPPED kappa3 distribution (taking more than 30 seconds)\n",
      "SKIPPED kstwobign distribution (taking more than 30 seconds)\n",
      "SKIPPED johnsonsb distribution (taking more than 30 seconds)\n",
      "SKIPPED ksone distribution (taking more than 30 seconds)\n",
      "SKIPPED laplace_asymmetric distribution (taking more than 30 seconds)\n",
      "SKIPPED levy distribution (taking more than 30 seconds)\n",
      "kstwo was not fitted. no parameters available\n",
      "johnsonsu was not fitted. no parameters available\n",
      "kappa4 was not fitted. no parameters available\n",
      "kappa3 was not fitted. no parameters available\n"
     ]
    },
    {
     "data": {
      "text/html": [
       "<div>\n",
       "<style scoped>\n",
       "    .dataframe tbody tr th:only-of-type {\n",
       "        vertical-align: middle;\n",
       "    }\n",
       "\n",
       "    .dataframe tbody tr th {\n",
       "        vertical-align: top;\n",
       "    }\n",
       "\n",
       "    .dataframe thead th {\n",
       "        text-align: right;\n",
       "    }\n",
       "</style>\n",
       "<table border=\"1\" class=\"dataframe\">\n",
       "  <thead>\n",
       "    <tr style=\"text-align: right;\">\n",
       "      <th></th>\n",
       "      <th>sumsquare_error</th>\n",
       "      <th>aic</th>\n",
       "      <th>bic</th>\n",
       "      <th>kl_div</th>\n",
       "      <th>ks_statistic</th>\n",
       "      <th>ks_pvalue</th>\n",
       "    </tr>\n",
       "  </thead>\n",
       "  <tbody>\n",
       "    <tr>\n",
       "      <th>laplace</th>\n",
       "      <td>1.494064</td>\n",
       "      <td>1761.51589</td>\n",
       "      <td>1789.845026</td>\n",
       "      <td>inf</td>\n",
       "      <td>0.110143</td>\n",
       "      <td>0.0</td>\n",
       "    </tr>\n",
       "    <tr>\n",
       "      <th>kstwo</th>\n",
       "      <td>inf</td>\n",
       "      <td>inf</td>\n",
       "      <td>inf</td>\n",
       "      <td>inf</td>\n",
       "      <td>NaN</td>\n",
       "      <td>NaN</td>\n",
       "    </tr>\n",
       "    <tr>\n",
       "      <th>johnsonsu</th>\n",
       "      <td>inf</td>\n",
       "      <td>inf</td>\n",
       "      <td>inf</td>\n",
       "      <td>inf</td>\n",
       "      <td>NaN</td>\n",
       "      <td>NaN</td>\n",
       "    </tr>\n",
       "    <tr>\n",
       "      <th>kappa4</th>\n",
       "      <td>inf</td>\n",
       "      <td>inf</td>\n",
       "      <td>inf</td>\n",
       "      <td>inf</td>\n",
       "      <td>NaN</td>\n",
       "      <td>NaN</td>\n",
       "    </tr>\n",
       "    <tr>\n",
       "      <th>kappa3</th>\n",
       "      <td>inf</td>\n",
       "      <td>inf</td>\n",
       "      <td>inf</td>\n",
       "      <td>inf</td>\n",
       "      <td>NaN</td>\n",
       "      <td>NaN</td>\n",
       "    </tr>\n",
       "  </tbody>\n",
       "</table>\n",
       "</div>"
      ],
      "text/plain": [
       "           sumsquare_error         aic          bic  kl_div  ks_statistic  \\\n",
       "laplace           1.494064  1761.51589  1789.845026     inf      0.110143   \n",
       "kstwo                  inf         inf          inf     inf           NaN   \n",
       "johnsonsu              inf         inf          inf     inf           NaN   \n",
       "kappa4                 inf         inf          inf     inf           NaN   \n",
       "kappa3                 inf         inf          inf     inf           NaN   \n",
       "\n",
       "           ks_pvalue  \n",
       "laplace          0.0  \n",
       "kstwo            NaN  \n",
       "johnsonsu        NaN  \n",
       "kappa4           NaN  \n",
       "kappa3           NaN  "
      ]
     },
     "execution_count": 14,
     "metadata": {},
     "output_type": "execute_result"
    },
    {
     "data": {
      "image/png": "[encoded data removed]",
      "text/plain": [
       "<Figure size 640x480 with 1 Axes>"
      ]
     },
     "metadata": {},
     "output_type": "display_data"
    }
   ],
   "source": [
    "## Next 10 distributions\n",
    "f = Fitter(lognewgasprice)\n",
    "f.distributions = f.distributions[50:60]\n",
    "f.fit()\n",
    "#Generate the fitted distribution summary using .summary( ) method\n",
    "f.summary()"
   ]
  },
  {
   "cell_type": "code",
   "execution_count": 15,
   "metadata": {},
   "outputs": [
    {
     "name": "stderr",
     "output_type": "stream",
     "text": [
      "SKIPPED lomax distribution (taking more than 30 seconds)\n",
      "SKIPPED logistic distribution (taking more than 30 seconds)\n",
      "SKIPPED loggamma distribution (taking more than 30 seconds)\n",
      "SKIPPED loguniform distribution (taking more than 30 seconds)\n",
      "SKIPPED lognorm distribution (taking more than 30 seconds)\n",
      "SKIPPED loglaplace distribution (taking more than 30 seconds)\n",
      "SKIPPED levy_l distribution (taking more than 30 seconds)\n",
      "SKIPPED levy_stable distribution (taking more than 30 seconds)\n",
      "SKIPPED maxwell distribution (taking more than 30 seconds)\n",
      "SKIPPED mielke distribution (taking more than 30 seconds)\n",
      "lomax was not fitted. no parameters available\n",
      "logistic was not fitted. no parameters available\n",
      "loggamma was not fitted. no parameters available\n",
      "loguniform was not fitted. no parameters available\n",
      "lognorm was not fitted. no parameters available\n",
      "No artists with labels found to put in legend.  Note that artists whose label start with an underscore are ignored when legend() is called with no argument.\n"
     ]
    },
    {
     "data": {
      "text/html": [
       "<div>\n",
       "<style scoped>\n",
       "    .dataframe tbody tr th:only-of-type {\n",
       "        vertical-align: middle;\n",
       "    }\n",
       "\n",
       "    .dataframe tbody tr th {\n",
       "        vertical-align: top;\n",
       "    }\n",
       "\n",
       "    .dataframe thead th {\n",
       "        text-align: right;\n",
       "    }\n",
       "</style>\n",
       "<table border=\"1\" class=\"dataframe\">\n",
       "  <thead>\n",
       "    <tr style=\"text-align: right;\">\n",
       "      <th></th>\n",
       "      <th>sumsquare_error</th>\n",
       "      <th>aic</th>\n",
       "      <th>bic</th>\n",
       "      <th>kl_div</th>\n",
       "      <th>ks_statistic</th>\n",
       "      <th>ks_pvalue</th>\n",
       "    </tr>\n",
       "  </thead>\n",
       "  <tbody>\n",
       "    <tr>\n",
       "      <th>lomax</th>\n",
       "      <td>inf</td>\n",
       "      <td>inf</td>\n",
       "      <td>inf</td>\n",
       "      <td>inf</td>\n",
       "      <td>NaN</td>\n",
       "      <td>NaN</td>\n",
       "    </tr>\n",
       "    <tr>\n",
       "      <th>logistic</th>\n",
       "      <td>inf</td>\n",
       "      <td>inf</td>\n",
       "      <td>inf</td>\n",
       "      <td>inf</td>\n",
       "      <td>NaN</td>\n",
       "      <td>NaN</td>\n",
       "    </tr>\n",
       "    <tr>\n",
       "      <th>loggamma</th>\n",
       "      <td>inf</td>\n",
       "      <td>inf</td>\n",
       "      <td>inf</td>\n",
       "      <td>inf</td>\n",
       "      <td>NaN</td>\n",
       "      <td>NaN</td>\n",
       "    </tr>\n",
       "    <tr>\n",
       "      <th>loguniform</th>\n",
       "      <td>inf</td>\n",
       "      <td>inf</td>\n",
       "      <td>inf</td>\n",
       "      <td>inf</td>\n",
       "      <td>NaN</td>\n",
       "      <td>NaN</td>\n",
       "    </tr>\n",
       "    <tr>\n",
       "      <th>lognorm</th>\n",
       "      <td>inf</td>\n",
       "      <td>inf</td>\n",
       "      <td>inf</td>\n",
       "      <td>inf</td>\n",
       "      <td>NaN</td>\n",
       "      <td>NaN</td>\n",
       "    </tr>\n",
       "  </tbody>\n",
       "</table>\n",
       "</div>"
      ],
      "text/plain": [
       "            sumsquare_error  aic  bic  kl_div  ks_statistic  ks_pvalue\n",
       "lomax                   inf  inf  inf     inf           NaN        NaN\n",
       "logistic                inf  inf  inf     inf           NaN        NaN\n",
       "loggamma                inf  inf  inf     inf           NaN        NaN\n",
       "loguniform              inf  inf  inf     inf           NaN        NaN\n",
       "lognorm                 inf  inf  inf     inf           NaN        NaN"
      ]
     },
     "execution_count": 15,
     "metadata": {},
     "output_type": "execute_result"
    },
    {
     "data": {
      "image/png": "[encoded data removed]",
      "text/plain": [
       "<Figure size 640x480 with 1 Axes>"
      ]
     },
     "metadata": {},
     "output_type": "display_data"
    }
   ],
   "source": [
    "## Next 10 distributions\n",
    "f = Fitter(lognewgasprice)\n",
    "f.distributions = f.distributions[60:70]\n",
    "f.fit()\n",
    "#Generate the fitted distribution summary using .summary( ) method\n",
    "f.summary()"
   ]
  },
  {
   "cell_type": "code",
   "execution_count": 16,
   "metadata": {},
   "outputs": [
    {
     "name": "stderr",
     "output_type": "stream",
     "text": [
      "SKIPPED ncf distribution (taking more than 30 seconds)\n",
      "SKIPPED nct distribution (taking more than 30 seconds)\n",
      "SKIPPED ncx2 distribution (taking more than 30 seconds)\n",
      "SKIPPED nakagami distribution (taking more than 30 seconds)\n",
      "SKIPPED pareto distribution (taking more than 30 seconds)\n",
      "SKIPPED moyal distribution (taking more than 30 seconds)\n",
      "SKIPPED norminvgauss distribution (taking more than 30 seconds)\n",
      "SKIPPED pearson3 distribution (taking more than 30 seconds)\n",
      "SKIPPED powerlaw distribution (taking more than 30 seconds)\n",
      "ncf was not fitted. no parameters available\n",
      "nct was not fitted. no parameters available\n",
      "ncx2 was not fitted. no parameters available\n",
      "nakagami was not fitted. no parameters available\n"
     ]
    },
    {
     "data": {
      "text/html": [
       "<div>\n",
       "<style scoped>\n",
       "    .dataframe tbody tr th:only-of-type {\n",
       "        vertical-align: middle;\n",
       "    }\n",
       "\n",
       "    .dataframe tbody tr th {\n",
       "        vertical-align: top;\n",
       "    }\n",
       "\n",
       "    .dataframe thead th {\n",
       "        text-align: right;\n",
       "    }\n",
       "</style>\n",
       "<table border=\"1\" class=\"dataframe\">\n",
       "  <thead>\n",
       "    <tr style=\"text-align: right;\">\n",
       "      <th></th>\n",
       "      <th>sumsquare_error</th>\n",
       "      <th>aic</th>\n",
       "      <th>bic</th>\n",
       "      <th>kl_div</th>\n",
       "      <th>ks_statistic</th>\n",
       "      <th>ks_pvalue</th>\n",
       "    </tr>\n",
       "  </thead>\n",
       "  <tbody>\n",
       "    <tr>\n",
       "      <th>norm</th>\n",
       "      <td>1.455145</td>\n",
       "      <td>6935.157248</td>\n",
       "      <td>6963.486384</td>\n",
       "      <td>inf</td>\n",
       "      <td>0.091603</td>\n",
       "      <td>0.0</td>\n",
       "    </tr>\n",
       "    <tr>\n",
       "      <th>ncf</th>\n",
       "      <td>inf</td>\n",
       "      <td>inf</td>\n",
       "      <td>inf</td>\n",
       "      <td>inf</td>\n",
       "      <td>NaN</td>\n",
       "      <td>NaN</td>\n",
       "    </tr>\n",
       "    <tr>\n",
       "      <th>nct</th>\n",
       "      <td>inf</td>\n",
       "      <td>inf</td>\n",
       "      <td>inf</td>\n",
       "      <td>inf</td>\n",
       "      <td>NaN</td>\n",
       "      <td>NaN</td>\n",
       "    </tr>\n",
       "    <tr>\n",
       "      <th>ncx2</th>\n",
       "      <td>inf</td>\n",
       "      <td>inf</td>\n",
       "      <td>inf</td>\n",
       "      <td>inf</td>\n",
       "      <td>NaN</td>\n",
       "      <td>NaN</td>\n",
       "    </tr>\n",
       "    <tr>\n",
       "      <th>nakagami</th>\n",
       "      <td>inf</td>\n",
       "      <td>inf</td>\n",
       "      <td>inf</td>\n",
       "      <td>inf</td>\n",
       "      <td>NaN</td>\n",
       "      <td>NaN</td>\n",
       "    </tr>\n",
       "  </tbody>\n",
       "</table>\n",
       "</div>"
      ],
      "text/plain": [
       "          sumsquare_error          aic          bic  kl_div  ks_statistic  \\\n",
       "norm             1.455145  6935.157248  6963.486384     inf      0.091603   \n",
       "ncf                   inf          inf          inf     inf           NaN   \n",
       "nct                   inf          inf          inf     inf           NaN   \n",
       "ncx2                  inf          inf          inf     inf           NaN   \n",
       "nakagami              inf          inf          inf     inf           NaN   \n",
       "\n",
       "          ks_pvalue  \n",
       "norm            0.0  \n",
       "ncf             NaN  \n",
       "nct             NaN  \n",
       "ncx2            NaN  \n",
       "nakagami        NaN  "
      ]
     },
     "execution_count": 16,
     "metadata": {},
     "output_type": "execute_result"
    },
    {
     "data": {
      "image/png": "[encoded data removed]",
      "text/plain": [
       "<Figure size 640x480 with 1 Axes>"
      ]
     },
     "metadata": {},
     "output_type": "display_data"
    }
   ],
   "source": [
    "## Next 10 distributions\n",
    "f = Fitter(lognewgasprice)\n",
    "f.distributions = f.distributions[70:80]\n",
    "f.fit()\n",
    "#Generate the fitted distribution summary using .summary( ) method\n",
    "f.summary()"
   ]
  },
  {
   "cell_type": "code",
   "execution_count": 17,
   "metadata": {},
   "outputs": [
    {
     "name": "stderr",
     "output_type": "stream",
     "text": [
      "SKIPPED powerlognorm distribution (taking more than 30 seconds)\n",
      "SKIPPED rdist distribution (taking more than 30 seconds)\n",
      "SKIPPED powernorm distribution (taking more than 30 seconds)\n",
      "SKIPPED rayleigh distribution (taking more than 30 seconds)\n",
      "SKIPPED recipinvgauss distribution (taking more than 30 seconds)\n",
      "SKIPPED rice distribution (taking more than 30 seconds)\n",
      "SKIPPED reciprocal distribution (taking more than 30 seconds)\n",
      "SKIPPED rel_breitwigner distribution (taking more than 30 seconds)\n",
      "SKIPPED rv_continuous distribution (taking more than 30 seconds)\n",
      "SKIPPED rv_histogram distribution (taking more than 30 seconds)\n",
      "powerlognorm was not fitted. no parameters available\n",
      "rdist was not fitted. no parameters available\n",
      "powernorm was not fitted. no parameters available\n",
      "rayleigh was not fitted. no parameters available\n",
      "recipinvgauss was not fitted. no parameters available\n",
      "No artists with labels found to put in legend.  Note that artists whose label start with an underscore are ignored when legend() is called with no argument.\n"
     ]
    },
    {
     "data": {
      "text/html": [
       "<div>\n",
       "<style scoped>\n",
       "    .dataframe tbody tr th:only-of-type {\n",
       "        vertical-align: middle;\n",
       "    }\n",
       "\n",
       "    .dataframe tbody tr th {\n",
       "        vertical-align: top;\n",
       "    }\n",
       "\n",
       "    .dataframe thead th {\n",
       "        text-align: right;\n",
       "    }\n",
       "</style>\n",
       "<table border=\"1\" class=\"dataframe\">\n",
       "  <thead>\n",
       "    <tr style=\"text-align: right;\">\n",
       "      <th></th>\n",
       "      <th>sumsquare_error</th>\n",
       "      <th>aic</th>\n",
       "      <th>bic</th>\n",
       "      <th>kl_div</th>\n",
       "      <th>ks_statistic</th>\n",
       "      <th>ks_pvalue</th>\n",
       "    </tr>\n",
       "  </thead>\n",
       "  <tbody>\n",
       "    <tr>\n",
       "      <th>powerlognorm</th>\n",
       "      <td>inf</td>\n",
       "      <td>inf</td>\n",
       "      <td>inf</td>\n",
       "      <td>inf</td>\n",
       "      <td>NaN</td>\n",
       "      <td>NaN</td>\n",
       "    </tr>\n",
       "    <tr>\n",
       "      <th>rdist</th>\n",
       "      <td>inf</td>\n",
       "      <td>inf</td>\n",
       "      <td>inf</td>\n",
       "      <td>inf</td>\n",
       "      <td>NaN</td>\n",
       "      <td>NaN</td>\n",
       "    </tr>\n",
       "    <tr>\n",
       "      <th>powernorm</th>\n",
       "      <td>inf</td>\n",
       "      <td>inf</td>\n",
       "      <td>inf</td>\n",
       "      <td>inf</td>\n",
       "      <td>NaN</td>\n",
       "      <td>NaN</td>\n",
       "    </tr>\n",
       "    <tr>\n",
       "      <th>rayleigh</th>\n",
       "      <td>inf</td>\n",
       "      <td>inf</td>\n",
       "      <td>inf</td>\n",
       "      <td>inf</td>\n",
       "      <td>NaN</td>\n",
       "      <td>NaN</td>\n",
       "    </tr>\n",
       "    <tr>\n",
       "      <th>recipinvgauss</th>\n",
       "      <td>inf</td>\n",
       "      <td>inf</td>\n",
       "      <td>inf</td>\n",
       "      <td>inf</td>\n",
       "      <td>NaN</td>\n",
       "      <td>NaN</td>\n",
       "    </tr>\n",
       "  </tbody>\n",
       "</table>\n",
       "</div>"
      ],
      "text/plain": [
       "               sumsquare_error  aic  bic  kl_div  ks_statistic  ks_pvalue\n",
       "powerlognorm               inf  inf  inf     inf           NaN        NaN\n",
       "rdist                      inf  inf  inf     inf           NaN        NaN\n",
       "powernorm                  inf  inf  inf     inf           NaN        NaN\n",
       "rayleigh                   inf  inf  inf     inf           NaN        NaN\n",
       "recipinvgauss              inf  inf  inf     inf           NaN        NaN"
      ]
     },
     "execution_count": 17,
     "metadata": {},
     "output_type": "execute_result"
    },
    {
     "data": {
      "image/png": "[encoded data removed]",
      "text/plain": [
       "<Figure size 640x480 with 1 Axes>"
      ]
     },
     "metadata": {},
     "output_type": "display_data"
    }
   ],
   "source": [
    "## Next 10 distributions\n",
    "f = Fitter(lognewgasprice)\n",
    "f.distributions = f.distributions[80:90]\n",
    "f.fit()\n",
    "#Generate the fitted distribution summary using .summary( ) method\n",
    "f.summary()"
   ]
  },
  {
   "cell_type": "code",
   "execution_count": null,
   "metadata": {},
   "outputs": [
    {
     "name": "stderr",
     "output_type": "stream",
     "text": [
      "SKIPPED skewnorm distribution (taking more than 30 seconds)\n",
      "SKIPPED studentized_range distribution (taking more than 30 seconds)\n",
      "SKIPPED semicircular distribution (taking more than 30 seconds)\n",
      "SKIPPED trapz distribution (taking more than 30 seconds)\n",
      "SKIPPED skewcauchy distribution (taking more than 30 seconds)\n",
      "SKIPPED triang distribution (taking more than 30 seconds)\n",
      "SKIPPED t distribution (taking more than 30 seconds)\n",
      "SKIPPED trapezoid distribution (taking more than 30 seconds)\n",
      "SKIPPED truncnorm distribution (taking more than 30 seconds)\n",
      "SKIPPED truncexpon distribution (taking more than 30 seconds)\n",
      "C:\\Users\\Checkout\\anaconda3\\Lib\\site-packages\\scipy\\integrate\\_quadpack_py.py:1233: IntegrationWarning: The maximum number of subdivisions (50) has been achieved.\n",
      "  If increasing the limit yields no improvement it is advised to analyze \n",
      "  the integrand in order to determine the difficulties.  If the position of a \n",
      "  local difficulty can be determined (singularity, discontinuity) one will \n",
      "  probably gain from splitting up the interval and calling the integrator \n",
      "  on the subranges.  Perhaps a special-purpose integrator should be used.\n",
      "  quad_r = quad(f, low, high, args=args, full_output=self.full_output,\n",
      "skewnorm was not fitted. no parameters available\n",
      "studentized_range was not fitted. no parameters available\n",
      "semicircular was not fitted. no parameters available\n",
      "trapz was not fitted. no parameters available\n",
      "skewcauchy was not fitted. no parameters available\n",
      "No artists with labels found to put in legend.  Note that artists whose label start with an underscore are ignored when legend() is called with no argument.\n"
     ]
    }
   ],
   "source": [
    "## Next 10 distributions\n",
    "f = Fitter(lognewgasprice)\n",
    "f.distributions = f.distributions[90:100]\n",
    "f.fit()\n",
    "#Generate the fitted distribution summary using .summary( ) method\n",
    "f.summary()"
   ]
  },
  {
   "cell_type": "code",
   "execution_count": 11,
   "metadata": {},
   "outputs": [
    {
     "name": "stderr",
     "output_type": "stream",
     "text": [
      "SKIPPED vonmises_fisher distribution (taking more than 30 seconds)\n",
      "SKIPPED truncweibull_min distribution (taking more than 30 seconds)\n",
      "SKIPPED truncpareto distribution (taking more than 30 seconds)\n",
      "SKIPPED wald distribution (taking more than 30 seconds)\n",
      "SKIPPED weibull_max distribution (taking more than 30 seconds)\n",
      "SKIPPED tukeylambda distribution (taking more than 30 seconds)\n",
      "SKIPPED vonmises_line distribution (taking more than 30 seconds)\n",
      "SKIPPED weibull_min distribution (taking more than 30 seconds)\n",
      "SKIPPED wrapcauchy distribution (taking more than 30 seconds)\n",
      "vonmises_fisher was not fitted. no parameters available\n",
      "truncweibull_min was not fitted. no parameters available\n",
      "truncpareto was not fitted. no parameters available\n"
     ]
    },
    {
     "data": {
      "text/html": [
       "<div>\n",
       "<style scoped>\n",
       "    .dataframe tbody tr th:only-of-type {\n",
       "        vertical-align: middle;\n",
       "    }\n",
       "\n",
       "    .dataframe tbody tr th {\n",
       "        vertical-align: top;\n",
       "    }\n",
       "\n",
       "    .dataframe thead th {\n",
       "        text-align: right;\n",
       "    }\n",
       "</style>\n",
       "<table border=\"1\" class=\"dataframe\">\n",
       "  <thead>\n",
       "    <tr style=\"text-align: right;\">\n",
       "      <th></th>\n",
       "      <th>sumsquare_error</th>\n",
       "      <th>aic</th>\n",
       "      <th>bic</th>\n",
       "      <th>kl_div</th>\n",
       "      <th>ks_statistic</th>\n",
       "      <th>ks_pvalue</th>\n",
       "    </tr>\n",
       "  </thead>\n",
       "  <tbody>\n",
       "    <tr>\n",
       "      <th>uniform</th>\n",
       "      <td>7.819372</td>\n",
       "      <td>415.376023</td>\n",
       "      <td>443.705159</td>\n",
       "      <td>inf</td>\n",
       "      <td>0.735346</td>\n",
       "      <td>0.0</td>\n",
       "    </tr>\n",
       "    <tr>\n",
       "      <th>vonmises</th>\n",
       "      <td>9.316114</td>\n",
       "      <td>905.023408</td>\n",
       "      <td>947.517112</td>\n",
       "      <td>inf</td>\n",
       "      <td>0.950732</td>\n",
       "      <td>0.0</td>\n",
       "    </tr>\n",
       "    <tr>\n",
       "      <th>vonmises_fisher</th>\n",
       "      <td>inf</td>\n",
       "      <td>inf</td>\n",
       "      <td>inf</td>\n",
       "      <td>inf</td>\n",
       "      <td>NaN</td>\n",
       "      <td>NaN</td>\n",
       "    </tr>\n",
       "    <tr>\n",
       "      <th>truncweibull_min</th>\n",
       "      <td>inf</td>\n",
       "      <td>inf</td>\n",
       "      <td>inf</td>\n",
       "      <td>inf</td>\n",
       "      <td>NaN</td>\n",
       "      <td>NaN</td>\n",
       "    </tr>\n",
       "    <tr>\n",
       "      <th>truncpareto</th>\n",
       "      <td>inf</td>\n",
       "      <td>inf</td>\n",
       "      <td>inf</td>\n",
       "      <td>inf</td>\n",
       "      <td>NaN</td>\n",
       "      <td>NaN</td>\n",
       "    </tr>\n",
       "  </tbody>\n",
       "</table>\n",
       "</div>"
      ],
      "text/plain": [
       "                  sumsquare_error         aic         bic  kl_div  \\\n",
       "uniform                  7.819372  415.376023  443.705159     inf   \n",
       "vonmises                 9.316114  905.023408  947.517112     inf   \n",
       "vonmises_fisher               inf         inf         inf     inf   \n",
       "truncweibull_min              inf         inf         inf     inf   \n",
       "truncpareto                   inf         inf         inf     inf   \n",
       "\n",
       "                  ks_statistic  ks_pvalue  \n",
       "uniform               0.735346        0.0  \n",
       "vonmises              0.950732        0.0  \n",
       "vonmises_fisher            NaN        NaN  \n",
       "truncweibull_min           NaN        NaN  \n",
       "truncpareto                NaN        NaN  "
      ]
     },
     "execution_count": 11,
     "metadata": {},
     "output_type": "execute_result"
    },
    {
     "data": {
      "image/png": "[encoded data removed]",
      "text/plain": [
       "<Figure size 640x480 with 1 Axes>"
      ]
     },
     "metadata": {},
     "output_type": "display_data"
    }
   ],
   "source": [
    "## last on list of distributions\n",
    "f = Fitter(lognewgasprice)\n",
    "f.distributions = f.distributions[100:]\n",
    "f.fit()\n",
    "#Generate the fitted distribution summary using .summary( ) method\n",
    "f.summary()"
   ]
  },
  {
   "cell_type": "markdown",
   "metadata": {},
   "source": [
    "## Just the distributions that ran successfully"
   ]
  },
  {
   "cell_type": "code",
   "execution_count": 12,
   "metadata": {
    "scrolled": true
   },
   "outputs": [
    {
     "data": {
      "text/html": [
       "<div>\n",
       "<style scoped>\n",
       "    .dataframe tbody tr th:only-of-type {\n",
       "        vertical-align: middle;\n",
       "    }\n",
       "\n",
       "    .dataframe tbody tr th {\n",
       "        vertical-align: top;\n",
       "    }\n",
       "\n",
       "    .dataframe thead th {\n",
       "        text-align: right;\n",
       "    }\n",
       "</style>\n",
       "<table border=\"1\" class=\"dataframe\">\n",
       "  <thead>\n",
       "    <tr style=\"text-align: right;\">\n",
       "      <th></th>\n",
       "      <th>sumsquare_error</th>\n",
       "      <th>aic</th>\n",
       "      <th>bic</th>\n",
       "      <th>kl_div</th>\n",
       "      <th>ks_statistic</th>\n",
       "      <th>ks_pvalue</th>\n",
       "    </tr>\n",
       "  </thead>\n",
       "  <tbody>\n",
       "    <tr>\n",
       "      <th>gumbel_r</th>\n",
       "      <td>0.534340</td>\n",
       "      <td>1795.745298</td>\n",
       "      <td>1824.074434</td>\n",
       "      <td>inf</td>\n",
       "      <td>0.053372</td>\n",
       "      <td>0.0</td>\n",
       "    </tr>\n",
       "    <tr>\n",
       "      <th>norm</th>\n",
       "      <td>1.455145</td>\n",
       "      <td>6935.157248</td>\n",
       "      <td>6963.486384</td>\n",
       "      <td>inf</td>\n",
       "      <td>0.091603</td>\n",
       "      <td>0.0</td>\n",
       "    </tr>\n",
       "    <tr>\n",
       "      <th>laplace</th>\n",
       "      <td>1.494064</td>\n",
       "      <td>1761.515890</td>\n",
       "      <td>1789.845026</td>\n",
       "      <td>inf</td>\n",
       "      <td>0.110143</td>\n",
       "      <td>0.0</td>\n",
       "    </tr>\n",
       "    <tr>\n",
       "      <th>gumbel_l</th>\n",
       "      <td>2.694170</td>\n",
       "      <td>631476.883485</td>\n",
       "      <td>631505.212621</td>\n",
       "      <td>0.263988</td>\n",
       "      <td>0.221474</td>\n",
       "      <td>0.0</td>\n",
       "    </tr>\n",
       "    <tr>\n",
       "      <th>expon</th>\n",
       "      <td>3.961867</td>\n",
       "      <td>935.017265</td>\n",
       "      <td>963.346401</td>\n",
       "      <td>inf</td>\n",
       "      <td>0.228157</td>\n",
       "      <td>0.0</td>\n",
       "    </tr>\n",
       "  </tbody>\n",
       "</table>\n",
       "</div>"
      ],
      "text/plain": [
       "          sumsquare_error            aic            bic    kl_div  \\\n",
       "gumbel_r         0.534340    1795.745298    1824.074434       inf   \n",
       "norm             1.455145    6935.157248    6963.486384       inf   \n",
       "laplace          1.494064    1761.515890    1789.845026       inf   \n",
       "gumbel_l         2.694170  631476.883485  631505.212621  0.263988   \n",
       "expon            3.961867     935.017265     963.346401       inf   \n",
       "\n",
       "          ks_statistic  ks_pvalue  \n",
       "gumbel_r      0.053372        0.0  \n",
       "norm          0.091603        0.0  \n",
       "laplace       0.110143        0.0  \n",
       "gumbel_l      0.221474        0.0  \n",
       "expon         0.228157        0.0  "
      ]
     },
     "execution_count": 12,
     "metadata": {},
     "output_type": "execute_result"
    },
    {
     "data": {
      "image/png": "[encoded data removed]",
      "text/plain": [
       "<Figure size 640x480 with 1 Axes>"
      ]
     },
     "metadata": {},
     "output_type": "display_data"
    }
   ],
   "source": [
    "## Next 10 distributions\n",
    "f = Fitter(lognewgasprice)\n",
    "f.distributions = ['expon'] + ['gumbel_l']+ ['gumbel_r'] + ['laplace']+ ['norm'] + ['uniform'] + ['vonmises']\n",
    "f.fit()\n",
    "#Generate the fitted distribution summary using .summary( ) method\n",
    "f.summary()"
   ]
  },
  {
   "cell_type": "code",
   "execution_count": 13,
   "metadata": {},
   "outputs": [
    {
     "data": {
      "text/plain": [
       "{'gumbel_r': {'loc': 2.6775240373208375, 'scale': 0.33860321329860205}}"
      ]
     },
     "execution_count": 13,
     "metadata": {},
     "output_type": "execute_result"
    }
   ],
   "source": [
    "f.get_best()"
   ]
  },
  {
   "cell_type": "code",
   "execution_count": null,
   "metadata": {},
   "outputs": [],
   "source": []
  }
 ],
 "metadata": {
  "kernelspec": {
   "display_name": "Python 3 (ipykernel)",
   "language": "python",
   "name": "python3"
  },
  "language_info": {
   "codemirror_mode": {
    "name": "ipython",
    "version": 3
   },
   "file_extension": ".py",
   "mimetype": "text/x-python",
   "name": "python",
   "nbconvert_exporter": "python",
   "pygments_lexer": "ipython3",
   "version": "3.11.5"
  }
 },
 "nbformat": 4,
 "nbformat_minor": 4
}
