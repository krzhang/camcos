{
 "cells": [
  {
   "cell_type": "markdown",
   "metadata": {},
   "source": [
    "# Code to create limited version of 2 week data\n",
    "Code reference date: 11/15/23\n",
    "### Read in master_finalized_txns.csv.gz\n",
    "### Limit to rows for finalized transactions\n",
    "### Limit to needed columns: 'basefeepergas', 'maxpriorityfeepergas', 'maxfeepergas', 'timepending'\n",
    "###      new 11/15: also 'blockspending'\n",
    "### Export as .csv file: master_finalized_txns_limited.csv"
   ]
  },
  {
   "cell_type": "code",
   "execution_count": 1,
   "metadata": {},
   "outputs": [],
   "source": [
    "import pandas as pd\n",
    "import numpy as np\n",
    "import matplotlib.pyplot as plt\n",
    "\n",
    "import seaborn as sns\n",
    "import datetime\n",
    "import scipy\n",
    "\n",
    "import gzip"
   ]
  },
  {
   "cell_type": "code",
   "execution_count": 2,
   "metadata": {},
   "outputs": [
    {
     "data": {
      "text/plain": [
       "(32219005, 14)"
      ]
     },
     "execution_count": 2,
     "metadata": {},
     "output_type": "execute_result"
    }
   ],
   "source": [
    "from pathlib import Path\n",
    "\n",
    "# Data folder location\n",
    "### ADD FILE LOCATION HERE####\n",
    "\n",
    "\n",
    "\n",
    "#read in TWO WEEK, trimmed and finalized, mempool data set\n",
    "master_df = data_folder/'master_finalized_txns.csv.gz'\n",
    "df = pd.read_csv(master_df, compression='gzip', sep='\\t')\n",
    "\n",
    "df.shape"
   ]
  },
  {
   "cell_type": "code",
   "execution_count": 3,
   "metadata": {},
   "outputs": [
    {
     "data": {
      "text/html": [
       "<div>\n",
       "<style scoped>\n",
       "    .dataframe tbody tr th:only-of-type {\n",
       "        vertical-align: middle;\n",
       "    }\n",
       "\n",
       "    .dataframe tbody tr th {\n",
       "        vertical-align: top;\n",
       "    }\n",
       "\n",
       "    .dataframe thead th {\n",
       "        text-align: right;\n",
       "    }\n",
       "</style>\n",
       "<table border=\"1\" class=\"dataframe\">\n",
       "  <thead>\n",
       "    <tr style=\"text-align: right;\">\n",
       "      <th></th>\n",
       "      <th>detecttime</th>\n",
       "      <th>hash</th>\n",
       "      <th>status</th>\n",
       "      <th>curblocknumber</th>\n",
       "      <th>blockspending</th>\n",
       "      <th>timepending</th>\n",
       "      <th>gas</th>\n",
       "      <th>gasprice</th>\n",
       "      <th>toaddress</th>\n",
       "      <th>fromaddress</th>\n",
       "      <th>maxpriorityfeepergas</th>\n",
       "      <th>maxfeepergas</th>\n",
       "      <th>basefeepergas</th>\n",
       "      <th>gasused</th>\n",
       "    </tr>\n",
       "  </thead>\n",
       "  <tbody>\n",
       "    <tr>\n",
       "      <th>0</th>\n",
       "      <td>2023-08-25T00:00:00.007Z</td>\n",
       "      <td>0x2033596866746108787f84b6c05cc9824b02e73c752f...</td>\n",
       "      <td>pending</td>\n",
       "      <td>17987993</td>\n",
       "      <td>NaN</td>\n",
       "      <td>NaN</td>\n",
       "      <td>96302.0</td>\n",
       "      <td>NaN</td>\n",
       "      <td>0xe547dac1aef3c4dee5697fb4d8f03f2ec5242afe</td>\n",
       "      <td>0x27f17bc1ae91339a0589546e8dc7a88e839aef62</td>\n",
       "      <td>1.000000e+08</td>\n",
       "      <td>1.935291e+10</td>\n",
       "      <td>1.365443e+10</td>\n",
       "      <td>-1.0</td>\n",
       "    </tr>\n",
       "    <tr>\n",
       "      <th>1</th>\n",
       "      <td>2023-08-25T00:00:00.042Z</td>\n",
       "      <td>0xdab950abdcd850351321ec4fc02624beb89635de0499...</td>\n",
       "      <td>pending</td>\n",
       "      <td>17987993</td>\n",
       "      <td>NaN</td>\n",
       "      <td>NaN</td>\n",
       "      <td>21000.0</td>\n",
       "      <td>NaN</td>\n",
       "      <td>0x7ce5c90db454aac5eeb72b5abccc5a4aeec1bce3</td>\n",
       "      <td>0x3fa187c99fb63e9c3d8fb0f89ffb91603bc559c4</td>\n",
       "      <td>1.500000e+09</td>\n",
       "      <td>2.351319e+10</td>\n",
       "      <td>1.365443e+10</td>\n",
       "      <td>-1.0</td>\n",
       "    </tr>\n",
       "    <tr>\n",
       "      <th>2</th>\n",
       "      <td>2023-08-25T00:00:00.058Z</td>\n",
       "      <td>0x6ea9c2eb4377a293c90c162311845f422bb7718a0352...</td>\n",
       "      <td>pending</td>\n",
       "      <td>17987993</td>\n",
       "      <td>NaN</td>\n",
       "      <td>NaN</td>\n",
       "      <td>229868.0</td>\n",
       "      <td>NaN</td>\n",
       "      <td>0x3fc91a3afd70395cd496c647d5a6cc9d4b2b7fad</td>\n",
       "      <td>0xddc8ba0896ea6e06bb05fd916cde5a32f49bb7e5</td>\n",
       "      <td>2.731580e+09</td>\n",
       "      <td>1.888572e+10</td>\n",
       "      <td>1.365443e+10</td>\n",
       "      <td>-1.0</td>\n",
       "    </tr>\n",
       "    <tr>\n",
       "      <th>3</th>\n",
       "      <td>2023-08-25T00:00:00.081Z</td>\n",
       "      <td>0x178cbb01f52a800194450759d927b69587814396da16...</td>\n",
       "      <td>pending</td>\n",
       "      <td>17987993</td>\n",
       "      <td>NaN</td>\n",
       "      <td>NaN</td>\n",
       "      <td>46230.0</td>\n",
       "      <td>NaN</td>\n",
       "      <td>0x9813037ee2218799597d83d4a5b6f3b6778218d9</td>\n",
       "      <td>0x67135c953f377a9792c2482dd110fa9b4de5a570</td>\n",
       "      <td>1.000000e+08</td>\n",
       "      <td>1.889376e+10</td>\n",
       "      <td>1.365443e+10</td>\n",
       "      <td>-1.0</td>\n",
       "    </tr>\n",
       "    <tr>\n",
       "      <th>4</th>\n",
       "      <td>2023-08-25T00:00:00.149Z</td>\n",
       "      <td>0x71bc826de3fd8e4dfd26020e9f03dbc8ee21aff1f754...</td>\n",
       "      <td>pending</td>\n",
       "      <td>17987993</td>\n",
       "      <td>NaN</td>\n",
       "      <td>NaN</td>\n",
       "      <td>21000.0</td>\n",
       "      <td>NaN</td>\n",
       "      <td>0xef42d4284897ea74b7c1e7eb3dbaed0759a3590a</td>\n",
       "      <td>0x792fb6a0b4b2ae372a0af82f898bf75b13d1b722</td>\n",
       "      <td>1.000000e+08</td>\n",
       "      <td>1.935291e+10</td>\n",
       "      <td>1.365443e+10</td>\n",
       "      <td>-1.0</td>\n",
       "    </tr>\n",
       "  </tbody>\n",
       "</table>\n",
       "</div>"
      ],
      "text/plain": [
       "                 detecttime  \\\n",
       "0  2023-08-25T00:00:00.007Z   \n",
       "1  2023-08-25T00:00:00.042Z   \n",
       "2  2023-08-25T00:00:00.058Z   \n",
       "3  2023-08-25T00:00:00.081Z   \n",
       "4  2023-08-25T00:00:00.149Z   \n",
       "\n",
       "                                                hash   status  curblocknumber  \\\n",
       "0  0x2033596866746108787f84b6c05cc9824b02e73c752f...  pending        17987993   \n",
       "1  0xdab950abdcd850351321ec4fc02624beb89635de0499...  pending        17987993   \n",
       "2  0x6ea9c2eb4377a293c90c162311845f422bb7718a0352...  pending        17987993   \n",
       "3  0x178cbb01f52a800194450759d927b69587814396da16...  pending        17987993   \n",
       "4  0x71bc826de3fd8e4dfd26020e9f03dbc8ee21aff1f754...  pending        17987993   \n",
       "\n",
       "   blockspending  timepending       gas  gasprice  \\\n",
       "0            NaN          NaN   96302.0       NaN   \n",
       "1            NaN          NaN   21000.0       NaN   \n",
       "2            NaN          NaN  229868.0       NaN   \n",
       "3            NaN          NaN   46230.0       NaN   \n",
       "4            NaN          NaN   21000.0       NaN   \n",
       "\n",
       "                                    toaddress  \\\n",
       "0  0xe547dac1aef3c4dee5697fb4d8f03f2ec5242afe   \n",
       "1  0x7ce5c90db454aac5eeb72b5abccc5a4aeec1bce3   \n",
       "2  0x3fc91a3afd70395cd496c647d5a6cc9d4b2b7fad   \n",
       "3  0x9813037ee2218799597d83d4a5b6f3b6778218d9   \n",
       "4  0xef42d4284897ea74b7c1e7eb3dbaed0759a3590a   \n",
       "\n",
       "                                  fromaddress  maxpriorityfeepergas  \\\n",
       "0  0x27f17bc1ae91339a0589546e8dc7a88e839aef62          1.000000e+08   \n",
       "1  0x3fa187c99fb63e9c3d8fb0f89ffb91603bc559c4          1.500000e+09   \n",
       "2  0xddc8ba0896ea6e06bb05fd916cde5a32f49bb7e5          2.731580e+09   \n",
       "3  0x67135c953f377a9792c2482dd110fa9b4de5a570          1.000000e+08   \n",
       "4  0x792fb6a0b4b2ae372a0af82f898bf75b13d1b722          1.000000e+08   \n",
       "\n",
       "   maxfeepergas  basefeepergas  gasused  \n",
       "0  1.935291e+10   1.365443e+10     -1.0  \n",
       "1  2.351319e+10   1.365443e+10     -1.0  \n",
       "2  1.888572e+10   1.365443e+10     -1.0  \n",
       "3  1.889376e+10   1.365443e+10     -1.0  \n",
       "4  1.935291e+10   1.365443e+10     -1.0  "
      ]
     },
     "execution_count": 3,
     "metadata": {},
     "output_type": "execute_result"
    }
   ],
   "source": [
    "df.head()"
   ]
  },
  {
   "cell_type": "markdown",
   "metadata": {},
   "source": [
    "## Limit to finalized transactions"
   ]
  },
  {
   "cell_type": "code",
   "execution_count": 4,
   "metadata": {},
   "outputs": [
    {
     "data": {
      "text/plain": [
       "(10505807, 14)"
      ]
     },
     "execution_count": 4,
     "metadata": {},
     "output_type": "execute_result"
    }
   ],
   "source": [
    "df2 = df[df.status.isin([\"confirmed\",\"failed\"])]\n",
    "df2.shape"
   ]
  },
  {
   "cell_type": "code",
   "execution_count": 5,
   "metadata": {},
   "outputs": [
    {
     "data": {
      "text/plain": [
       "(10505807, 5)"
      ]
     },
     "execution_count": 5,
     "metadata": {},
     "output_type": "execute_result"
    }
   ],
   "source": [
    "#limit to needed columns\n",
    "df2 = df2.loc[:, ['basefeepergas', 'maxpriorityfeepergas', 'maxfeepergas', 'timepending', 'blockspending']]\n",
    "df2.shape"
   ]
  },
  {
   "cell_type": "markdown",
   "metadata": {},
   "source": [
    "## Export to csv file"
   ]
  },
  {
   "cell_type": "code",
   "execution_count": 6,
   "metadata": {},
   "outputs": [],
   "source": [
    "df2.to_csv(\"master_finalized_txns_limited.csv\")"
   ]
  },
  {
   "cell_type": "markdown",
   "metadata": {},
   "source": [
    "## After moving master_finalized_txns_limited.csv to data file, read in this .csv"
   ]
  },
  {
   "cell_type": "code",
   "execution_count": 7,
   "metadata": {},
   "outputs": [
    {
     "data": {
      "text/plain": [
       "(10505807, 6)"
      ]
     },
     "execution_count": 7,
     "metadata": {},
     "output_type": "execute_result"
    }
   ],
   "source": [
    "newdata = data_folder/'master_finalized_txns_limited.csv'\n",
    "df = pd.read_csv(newdata)\n",
    "df.shape"
   ]
  },
  {
   "cell_type": "code",
   "execution_count": null,
   "metadata": {},
   "outputs": [],
   "source": []
  },
  {
   "cell_type": "code",
   "execution_count": null,
   "metadata": {},
   "outputs": [],
   "source": []
  }
 ],
 "metadata": {
  "kernelspec": {
   "display_name": "Python 3 (ipykernel)",
   "language": "python",
   "name": "python3"
  },
  "language_info": {
   "codemirror_mode": {
    "name": "ipython",
    "version": 3
   },
   "file_extension": ".py",
   "mimetype": "text/x-python",
   "name": "python",
   "nbconvert_exporter": "python",
   "pygments_lexer": "ipython3",
   "version": "3.11.5"
  }
 },
 "nbformat": 4,
 "nbformat_minor": 4
}
