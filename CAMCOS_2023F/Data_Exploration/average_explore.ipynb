{
 "cells": [
  {
   "cell_type": "markdown",
   "metadata": {},
   "source": [
    "# mempool sample data\n",
    "### Download the dataset: [mempool sample data](https://drive.google.com/drive/folders/1GZ-1Lffva-z-jjvk4D80DJI1Oj_46hRS?usp=sharing)"
   ]
  },
  {
   "cell_type": "code",
   "execution_count": 1,
   "metadata": {},
   "outputs": [],
   "source": [
    "import pandas as pd\n",
    "import numpy as np"
   ]
  },
  {
   "cell_type": "code",
   "execution_count": 2,
   "metadata": {},
   "outputs": [
    {
     "name": "stdout",
     "output_type": "stream",
     "text": [
      "(403212, 27)\n"
     ]
    }
   ],
   "source": [
    "# read in sample.csv into a dataframe with \\t delimiter\n",
    "df = pd.read_csv('sample.csv', sep='\\t')\n",
    "print(df.shape)"
   ]
  },
  {
   "cell_type": "markdown",
   "metadata": {},
   "source": [
    "## maxfeepergas "
   ]
  },
  {
   "cell_type": "code",
   "execution_count": 79,
   "metadata": {},
   "outputs": [
    {
     "name": "stdout",
     "output_type": "stream",
     "text": [
      "Average: 74234927930.20969\n",
      "Median:  48074480401.0\n"
     ]
    }
   ],
   "source": [
    "## Calculate average maxfeepergas \n",
    "mfpg_df = df['maxfeepergas']\n",
    "\n",
    "# remove null values and convert to numpy array\n",
    "mfpg_np = mfpg_df[mfpg_df.notnull()]\n",
    "mfpg_np = mfpg_np.to_numpy()\n",
    "mfpg_avg = np.average(mfpg_np)\n",
    "mfpg_med = np.median(mfpg_np)\n",
    "print(\"Average:\", mfpg_avg)\n",
    "print(\"Median: \", mfpg_med)"
   ]
  },
  {
   "cell_type": "code",
   "execution_count": 85,
   "metadata": {},
   "outputs": [
    {
     "name": "stdout",
     "output_type": "stream",
     "text": [
      "Number of unconfirmed tx with MFPG > average: 61646\n",
      "Number of unconfirmed tx with MFPG > median: 121543\n"
     ]
    }
   ],
   "source": [
    "# Get df where maxfeepergas > average and status != confirmed\n",
    "above_avg_mfpg_unconfirmed = df[(df['maxfeepergas'] > mfpg_avg) & (df['status'] != 'confirmed')]\n",
    "print(\"Number of unconfirmed tx with MFPG > average:\", above_avg_mfpg_unconfirmed.shape[0])\n",
    "\n",
    "above_med_mfpg_unconfirmed = df[(df['maxfeepergas'] > mfpg_med) & (df['status'] != 'confirmed')]\n",
    "print(\"Number of unconfirmed tx with MFPG > median:\", above_med_mfpg_unconfirmed.shape[0])"
   ]
  },
  {
   "cell_type": "code",
   "execution_count": 81,
   "metadata": {},
   "outputs": [
    {
     "name": "stdout",
     "output_type": "stream",
     "text": [
      "Total tx with MFPG > average: 89986\n",
      "Total tx with MFPG > median: 175682\n"
     ]
    }
   ],
   "source": [
    "# Some more info (includes confirmed tx)\n",
    "print(\"Total tx with MFPG > average:\", df[df['maxfeepergas'] > mfpg_avg].shape[0])\n",
    "print(\"Total tx with MFPG > median:\", df[df['maxfeepergas'] > mfpg_med].shape[0])"
   ]
  },
  {
   "cell_type": "markdown",
   "metadata": {},
   "source": [
    "## gasprice"
   ]
  },
  {
   "cell_type": "code",
   "execution_count": 82,
   "metadata": {},
   "outputs": [
    {
     "name": "stdout",
     "output_type": "stream",
     "text": [
      "Average: 46834591869.82274\n",
      "Median:  37800000000.0\n"
     ]
    }
   ],
   "source": [
    "## Calculate average gasprice \n",
    "gp_df = df['gasprice']\n",
    "\n",
    "# remove null values and convert to numpy array\n",
    "gp_np = gp_df[gp_df.notnull()]\n",
    "gp_np = gp_np.to_numpy()\n",
    "gp_avg = np.average(gp_np)\n",
    "gp_median = np.median(gp_np)\n",
    "print(\"Average:\", gp_avg)\n",
    "print(\"Median: \", gp_median)"
   ]
  },
  {
   "cell_type": "code",
   "execution_count": 84,
   "metadata": {},
   "outputs": [
    {
     "name": "stdout",
     "output_type": "stream",
     "text": [
      "Number of unconfirmed tx with GP > average: 10318\n",
      "Number of unconfirmed tx with GP > median:  17945\n"
     ]
    }
   ],
   "source": [
    "# Get df where gasprice > average and status != confirmed\n",
    "above_avg_gp = df[(df['gasprice'] > gp_avg) & (df['status'] != 'confirmed')]\n",
    "print(\"Number of unconfirmed tx with GP > average:\", above_avg_gp.shape[0])\n",
    "\n",
    "above_med_gp = df[(df['gasprice'] > gp_median) & (df['status'] != 'confirmed')]\n",
    "print(\"Number of unconfirmed tx with GP > median: \", above_med_gp.shape[0])"
   ]
  },
  {
   "cell_type": "code",
   "execution_count": 105,
   "metadata": {},
   "outputs": [
    {
     "name": "stdout",
     "output_type": "stream",
     "text": [
      "Total tx with GP > average: 14613\n",
      "Total tx with GP > median:  25813\n"
     ]
    }
   ],
   "source": [
    "# Some more info (includes confirmed tx)\n",
    "print(\"Total tx with GP > average:\", df[df['gasprice'] > gp_avg].shape[0])\n",
    "print(\"Total tx with GP > median: \", df[df['gasprice'] > gp_median].shape[0])"
   ]
  },
  {
   "cell_type": "markdown",
   "metadata": {},
   "source": [
    "## maxpriorityfeepergas"
   ]
  },
  {
   "cell_type": "code",
   "execution_count": 101,
   "metadata": {},
   "outputs": [
    {
     "name": "stdout",
     "output_type": "stream",
     "text": [
      "Average: 4694417027.763384\n",
      "Median:  1000000000.0\n"
     ]
    }
   ],
   "source": [
    "## Calculate average maxpriorityfeepergas\n",
    "mpfpg_df = df['maxpriorityfeepergas']\n",
    "\n",
    "# remove null values and convert to numpy array\n",
    "mpfpg_np = mpfpg_df[mpfpg_df.notnull()] # Includes 1262 0 values  \n",
    "#mpfpg_np = mpfpg_df[mpfpg_df.notnull() & (mpfpg_df != 0)]  # if you exclude 0 values you get slightly larger Average: 4711334232.334061\n",
    "mpfpg_np = mpfpg_np.to_numpy()\n",
    "mpfpg_avg = np.average(mpfpg_np)\n",
    "mpfpg_med = np.median(mpfpg_np)\n",
    "print(\"Average:\", mpfpg_avg)\n",
    "print(\"Median: \", mpfpg_med)  "
   ]
  },
  {
   "cell_type": "code",
   "execution_count": 103,
   "metadata": {},
   "outputs": [
    {
     "name": "stdout",
     "output_type": "stream",
     "text": [
      "Number of unconfirmed tx with MPFPG > average: 26388\n",
      "Number of unconfirmed tx with MPFPG > median: 111117\n"
     ]
    }
   ],
   "source": [
    "# Get df where maxpriorityfeepergas > average and status != confirmed\n",
    "above_avg_mpfpg = df[(df['maxpriorityfeepergas'] > mpfpg_avg) & (df['status'] != 'confirmed')]\n",
    "print(\"Number of unconfirmed tx with MPFPG > average:\", above_avg_mpfpg.shape[0])\n",
    "\n",
    "above_med_mpfpg = df[(df['maxpriorityfeepergas'] > mpfpg_med) & (df['status'] != 'confirmed')]\n",
    "print(\"Number of unconfirmed tx with MPFPG > median:\", above_med_mpfpg.shape[0])"
   ]
  },
  {
   "cell_type": "code",
   "execution_count": 104,
   "metadata": {},
   "outputs": [
    {
     "name": "stdout",
     "output_type": "stream",
     "text": [
      "Total tx with MPFPG > average: 37145\n",
      "Total tx with MPFPG > median: 159142\n"
     ]
    }
   ],
   "source": [
    "# Some more info (includes confirmed tx)\n",
    "print(\"Total tx with MPFPG > average:\", df[df['maxpriorityfeepergas'] > mpfpg_avg].shape[0])\n",
    "print(\"Total tx with MPFPG > median:\", df[df['maxpriorityfeepergas'] > mpfpg_med].shape[0])"
   ]
  }
 ],
 "metadata": {
  "kernelspec": {
   "display_name": "Python 3 (ipykernel)",
   "language": "python",
   "name": "python3"
  },
  "language_info": {
   "codemirror_mode": {
    "name": "ipython",
    "version": 3
   },
   "file_extension": ".py",
   "mimetype": "text/x-python",
   "name": "python",
   "nbconvert_exporter": "python",
   "pygments_lexer": "ipython3",
   "version": "3.9.16"
  }
 },
 "nbformat": 4,
 "nbformat_minor": 2
}
