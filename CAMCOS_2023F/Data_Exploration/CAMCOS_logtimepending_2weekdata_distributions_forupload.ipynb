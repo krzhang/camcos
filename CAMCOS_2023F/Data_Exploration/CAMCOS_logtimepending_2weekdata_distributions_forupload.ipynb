{
 "cells": [
  {
   "cell_type": "markdown",
   "metadata": {},
   "source": [
    "# Work on log of timepending variable, using two weeks of data\n",
    "(08/25/23-09/07/23), code reference: 11/20/23\n",
    "### Separately created master_finalized_txns_limited.csv \n",
    "### from master_finalized_txns.csv.gz (which Tara created)\n",
    "(status in (confirmed, failed))\n",
    "### Remove rows where timepending is missing, or timepending = 0\n",
    "### Find best distribution for timepending\n",
    "NEW 11/16/23: going through the distributions 10 at a time.\n",
    "### Kept from earlier: Generate summary statistics, histogram for timepending\n"
   ]
  },
  {
   "cell_type": "code",
   "execution_count": 1,
   "metadata": {},
   "outputs": [],
   "source": [
    "#install fitter package\n",
    "#pip install fitter"
   ]
  },
  {
   "cell_type": "code",
   "execution_count": 1,
   "metadata": {},
   "outputs": [],
   "source": [
    "import pandas as pd\n",
    "import numpy as np\n",
    "import matplotlib.pyplot as plt\n",
    "\n",
    "import seaborn as sns\n",
    "import datetime\n",
    "import scipy\n",
    "\n",
    "#package for analysis of distribution fit\n",
    "from fitter import Fitter, get_common_distributions, get_distributions\n",
    "\n",
    "import gzip"
   ]
  },
  {
   "cell_type": "code",
   "execution_count": 2,
   "metadata": {},
   "outputs": [
    {
     "data": {
      "text/plain": [
       "(10505807, 5)"
      ]
     },
     "execution_count": 2,
     "metadata": {},
     "output_type": "execute_result"
    }
   ],
   "source": [
    "from pathlib import Path\n",
    "\n",
    "###data_folder = ADD DATA FOLDER LOCATION ####\n",
    "\n",
    "#read in TWO WEEK, trimmed and finalized, LIMITED mempool data set\n",
    "\n",
    "limited_df = data_folder/'master_finalized_txns_limited.csv'\n",
    "df = pd.read_csv(limited_df)\n",
    "\n",
    "\n",
    "df = df.loc[: , ['basefeepergas', 'maxpriorityfeepergas', 'maxfeepergas', 'timepending', 'blockspending']]\n",
    "df.shape\n",
    "\n"
   ]
  },
  {
   "cell_type": "markdown",
   "metadata": {},
   "source": [
    "## Remove rows where timepending is missing, or where timepending = 0 \n",
    "### (only zero for private transactions that would not show up in mempool)"
   ]
  },
  {
   "cell_type": "code",
   "execution_count": 3,
   "metadata": {},
   "outputs": [
    {
     "data": {
      "text/plain": [
       "(10176150, 6)"
      ]
     },
     "execution_count": 3,
     "metadata": {},
     "output_type": "execute_result"
    }
   ],
   "source": [
    "#Remove rows where timepending is 0, or is Nan\n",
    "df2 = df.dropna( how = 'all', subset=['timepending'])\n",
    "df2.shape\n",
    "\n",
    "df3 = df2[df2.timepending != 0].copy()\n",
    "\n",
    "#convert to seconds (timepending is in milliseconds)\n",
    "df3['timepending_'] = df3['timepending']/1000\n",
    "\n",
    "df3.shape"
   ]
  },
  {
   "cell_type": "code",
   "execution_count": 4,
   "metadata": {},
   "outputs": [],
   "source": [
    "del df\n",
    "del df2\n",
    "del limited_df"
   ]
  },
  {
   "cell_type": "markdown",
   "metadata": {},
   "source": [
    "## New variable: log of timepending"
   ]
  },
  {
   "cell_type": "code",
   "execution_count": 5,
   "metadata": {},
   "outputs": [],
   "source": [
    "##data['natural_log'] = np.log(data['Salary'])\n",
    "df3['logtimepending'] = np.log(df3['timepending'])"
   ]
  },
  {
   "cell_type": "code",
   "execution_count": 8,
   "metadata": {},
   "outputs": [
    {
     "data": {
      "text/html": [
       "<div>\n",
       "<style scoped>\n",
       "    .dataframe tbody tr th:only-of-type {\n",
       "        vertical-align: middle;\n",
       "    }\n",
       "\n",
       "    .dataframe tbody tr th {\n",
       "        vertical-align: top;\n",
       "    }\n",
       "\n",
       "    .dataframe thead th {\n",
       "        text-align: right;\n",
       "    }\n",
       "</style>\n",
       "<table border=\"1\" class=\"dataframe\">\n",
       "  <thead>\n",
       "    <tr style=\"text-align: right;\">\n",
       "      <th></th>\n",
       "      <th>basefeepergas</th>\n",
       "      <th>maxpriorityfeepergas</th>\n",
       "      <th>maxfeepergas</th>\n",
       "      <th>timepending</th>\n",
       "      <th>blockspending</th>\n",
       "      <th>timepending_</th>\n",
       "      <th>logtimepending</th>\n",
       "    </tr>\n",
       "  </thead>\n",
       "  <tbody>\n",
       "    <tr>\n",
       "      <th>0</th>\n",
       "      <td>1.360266e+10</td>\n",
       "      <td>2.000000e+09</td>\n",
       "      <td>2.400000e+10</td>\n",
       "      <td>7565.0</td>\n",
       "      <td>1.0</td>\n",
       "      <td>7.565</td>\n",
       "      <td>8.931288</td>\n",
       "    </tr>\n",
       "    <tr>\n",
       "      <th>1</th>\n",
       "      <td>1.360266e+10</td>\n",
       "      <td>1.500000e+09</td>\n",
       "      <td>2.885092e+10</td>\n",
       "      <td>3625.0</td>\n",
       "      <td>1.0</td>\n",
       "      <td>3.625</td>\n",
       "      <td>8.195610</td>\n",
       "    </tr>\n",
       "    <tr>\n",
       "      <th>2</th>\n",
       "      <td>1.360266e+10</td>\n",
       "      <td>2.000000e+09</td>\n",
       "      <td>2.400000e+10</td>\n",
       "      <td>9400.0</td>\n",
       "      <td>1.0</td>\n",
       "      <td>9.400</td>\n",
       "      <td>9.148465</td>\n",
       "    </tr>\n",
       "    <tr>\n",
       "      <th>3</th>\n",
       "      <td>1.360266e+10</td>\n",
       "      <td>2.000000e+09</td>\n",
       "      <td>2.400000e+10</td>\n",
       "      <td>9440.0</td>\n",
       "      <td>1.0</td>\n",
       "      <td>9.440</td>\n",
       "      <td>9.152711</td>\n",
       "    </tr>\n",
       "    <tr>\n",
       "      <th>4</th>\n",
       "      <td>1.360266e+10</td>\n",
       "      <td>2.000000e+09</td>\n",
       "      <td>2.400000e+10</td>\n",
       "      <td>7544.0</td>\n",
       "      <td>1.0</td>\n",
       "      <td>7.544</td>\n",
       "      <td>8.928508</td>\n",
       "    </tr>\n",
       "  </tbody>\n",
       "</table>\n",
       "</div>"
      ],
      "text/plain": [
       "   basefeepergas  maxpriorityfeepergas  maxfeepergas  timepending  \\\n",
       "0   1.360266e+10          2.000000e+09  2.400000e+10       7565.0   \n",
       "1   1.360266e+10          1.500000e+09  2.885092e+10       3625.0   \n",
       "2   1.360266e+10          2.000000e+09  2.400000e+10       9400.0   \n",
       "3   1.360266e+10          2.000000e+09  2.400000e+10       9440.0   \n",
       "4   1.360266e+10          2.000000e+09  2.400000e+10       7544.0   \n",
       "\n",
       "   blockspending  timepending_  logtimepending  \n",
       "0            1.0         7.565        8.931288  \n",
       "1            1.0         3.625        8.195610  \n",
       "2            1.0         9.400        9.148465  \n",
       "3            1.0         9.440        9.152711  \n",
       "4            1.0         7.544        8.928508  "
      ]
     },
     "execution_count": 8,
     "metadata": {},
     "output_type": "execute_result"
    }
   ],
   "source": [
    "df3.head()"
   ]
  },
  {
   "cell_type": "code",
   "execution_count": null,
   "metadata": {},
   "outputs": [],
   "source": [
    "df3.info()"
   ]
  },
  {
   "cell_type": "code",
   "execution_count": 6,
   "metadata": {},
   "outputs": [
    {
     "data": {
      "text/plain": [
       "count    1.017615e+07\n",
       "mean     3.484537e+05\n",
       "std      5.428736e+07\n",
       "min      1.000000e+00\n",
       "25%      5.176000e+03\n",
       "50%      8.460000e+03\n",
       "75%      1.133600e+04\n",
       "max      1.554235e+10\n",
       "Name: timepending, dtype: float64"
      ]
     },
     "execution_count": 6,
     "metadata": {},
     "output_type": "execute_result"
    }
   ],
   "source": [
    "df3.timepending.describe()"
   ]
  },
  {
   "cell_type": "code",
   "execution_count": 6,
   "metadata": {},
   "outputs": [
    {
     "data": {
      "text/plain": [
       "252917.54999999888"
      ]
     },
     "execution_count": 6,
     "metadata": {},
     "output_type": "execute_result"
    }
   ],
   "source": [
    "#find 99th percentile for timepending\n",
    "#(NOTE: percentile function was not working before with timepending: rows with missing timepending had not been removed)\n",
    "#np.nanpercentile(df3['timepending'], 99)\n",
    "\n",
    "x = np.percentile(df3['timepending'], 99)\n",
    "x"
   ]
  },
  {
   "cell_type": "markdown",
   "metadata": {},
   "source": [
    "# Starting here: following steps described on medium.com\n",
    "\n",
    "https://medium.com/the-researchers-guide/finding-the-best-distribution-that-fits-your-data-using-pythons-fitter-library-319a5a0972e9"
   ]
  },
  {
   "cell_type": "markdown",
   "metadata": {},
   "source": [
    "## **Plot histogram (logtimepending)"
   ]
  },
  {
   "cell_type": "code",
   "execution_count": 19,
   "metadata": {},
   "outputs": [
    {
     "name": "stderr",
     "output_type": "stream",
     "text": [
      "C:\\Users\\Marlie\\anaconda3\\Lib\\site-packages\\seaborn\\axisgrid.py:118: UserWarning: The figure layout has changed to tight\n",
      "  self._figure.tight_layout(*args, **kwargs)\n"
     ]
    },
    {
     "data": {
      "text/plain": [
       "<seaborn.axisgrid.FacetGrid at 0x225b23a4190>"
      ]
     },
     "execution_count": 19,
     "metadata": {},
     "output_type": "execute_result"
    },
    {
     "data": {
      "image/png": "[encoded data removed]",
      "text/plain": [
       "<Figure size 750x500 with 1 Axes>"
      ]
     },
     "metadata": {},
     "output_type": "display_data"
    }
   ],
   "source": [
    "#Plot histogram\n",
    "sns.set_style('white')\n",
    "sns.set_context(\"paper\", font_scale = 2)\n",
    "#sns.displot(data=df3, x=\"timepending\", kind=\"hist\", bins = 100, aspect = 1.5)\n",
    "sns.displot(data=df3[df3['logtimepending']<26], x=\"logtimepending\", kind=\"hist\", bins = 100, aspect = 1.5)"
   ]
  },
  {
   "cell_type": "markdown",
   "metadata": {},
   "source": [
    "## **Data preparation (timepending and logtimepending)"
   ]
  },
  {
   "cell_type": "code",
   "execution_count": 7,
   "metadata": {},
   "outputs": [],
   "source": [
    "#convert to a numpy array\n",
    "##height = dataset[\"Height\"].values\n",
    "\n",
    "timepending = df3[\"timepending\"].values\n",
    "logtimepending = df3[\"logtimepending\"].values\n"
   ]
  },
  {
   "cell_type": "markdown",
   "metadata": {},
   "source": [
    "## **Fitting distributions  (logtimepending)"
   ]
  },
  {
   "cell_type": "markdown",
   "metadata": {},
   "source": [
    "Use trick from here: https://fitter.readthedocs.io/en/latest/references.html\n",
    "limit to 10 distributions at a time\n",
    "These are the distributions that actually run below: expon"
   ]
  },
  {
   "cell_type": "code",
   "execution_count": 17,
   "metadata": {},
   "outputs": [
    {
     "name": "stderr",
     "output_type": "stream",
     "text": [
      "SKIPPED _fit distribution (taking more than 30 seconds)\n",
      "SKIPPED burr distribution (taking more than 30 seconds)\n",
      "SKIPPED beta distribution (taking more than 30 seconds)\n",
      "SKIPPED alpha distribution (taking more than 30 seconds)\n",
      "SKIPPED betaprime distribution (taking more than 30 seconds)\n",
      "SKIPPED argus distribution (taking more than 30 seconds)\n",
      "SKIPPED bradford distribution (taking more than 30 seconds)\n",
      "SKIPPED arcsine distribution (taking more than 30 seconds)\n",
      "SKIPPED anglit distribution (taking more than 30 seconds)\n",
      "SKIPPED burr12 distribution (taking more than 30 seconds)\n",
      "_fit was not fitted. no parameters available\n",
      "burr was not fitted. no parameters available\n",
      "beta was not fitted. no parameters available\n",
      "alpha was not fitted. no parameters available\n",
      "betaprime was not fitted. no parameters available\n",
      "No artists with labels found to put in legend.  Note that artists whose label start with an underscore are ignored when legend() is called with no argument.\n"
     ]
    },
    {
     "data": {
      "text/html": [
       "<div>\n",
       "<style scoped>\n",
       "    .dataframe tbody tr th:only-of-type {\n",
       "        vertical-align: middle;\n",
       "    }\n",
       "\n",
       "    .dataframe tbody tr th {\n",
       "        vertical-align: top;\n",
       "    }\n",
       "\n",
       "    .dataframe thead th {\n",
       "        text-align: right;\n",
       "    }\n",
       "</style>\n",
       "<table border=\"1\" class=\"dataframe\">\n",
       "  <thead>\n",
       "    <tr style=\"text-align: right;\">\n",
       "      <th></th>\n",
       "      <th>sumsquare_error</th>\n",
       "      <th>aic</th>\n",
       "      <th>bic</th>\n",
       "      <th>kl_div</th>\n",
       "      <th>ks_statistic</th>\n",
       "      <th>ks_pvalue</th>\n",
       "    </tr>\n",
       "  </thead>\n",
       "  <tbody>\n",
       "    <tr>\n",
       "      <th>_fit</th>\n",
       "      <td>inf</td>\n",
       "      <td>inf</td>\n",
       "      <td>inf</td>\n",
       "      <td>inf</td>\n",
       "      <td>NaN</td>\n",
       "      <td>NaN</td>\n",
       "    </tr>\n",
       "    <tr>\n",
       "      <th>burr</th>\n",
       "      <td>inf</td>\n",
       "      <td>inf</td>\n",
       "      <td>inf</td>\n",
       "      <td>inf</td>\n",
       "      <td>NaN</td>\n",
       "      <td>NaN</td>\n",
       "    </tr>\n",
       "    <tr>\n",
       "      <th>beta</th>\n",
       "      <td>inf</td>\n",
       "      <td>inf</td>\n",
       "      <td>inf</td>\n",
       "      <td>inf</td>\n",
       "      <td>NaN</td>\n",
       "      <td>NaN</td>\n",
       "    </tr>\n",
       "    <tr>\n",
       "      <th>alpha</th>\n",
       "      <td>inf</td>\n",
       "      <td>inf</td>\n",
       "      <td>inf</td>\n",
       "      <td>inf</td>\n",
       "      <td>NaN</td>\n",
       "      <td>NaN</td>\n",
       "    </tr>\n",
       "    <tr>\n",
       "      <th>betaprime</th>\n",
       "      <td>inf</td>\n",
       "      <td>inf</td>\n",
       "      <td>inf</td>\n",
       "      <td>inf</td>\n",
       "      <td>NaN</td>\n",
       "      <td>NaN</td>\n",
       "    </tr>\n",
       "  </tbody>\n",
       "</table>\n",
       "</div>"
      ],
      "text/plain": [
       "           sumsquare_error  aic  bic  kl_div  ks_statistic  ks_pvalue\n",
       "_fit                   inf  inf  inf     inf           NaN        NaN\n",
       "burr                   inf  inf  inf     inf           NaN        NaN\n",
       "beta                   inf  inf  inf     inf           NaN        NaN\n",
       "alpha                  inf  inf  inf     inf           NaN        NaN\n",
       "betaprime              inf  inf  inf     inf           NaN        NaN"
      ]
     },
     "execution_count": 17,
     "metadata": {},
     "output_type": "execute_result"
    },
    {
     "data": {
      "image/png": "[encoded data removed]",
      "text/plain": [
       "<Figure size 640x480 with 1 Axes>"
      ]
     },
     "metadata": {},
     "output_type": "display_data"
    }
   ],
   "source": [
    "### >>> f = fitter.Fitter(data)\n",
    "\n",
    "### >>> # just a trick to use only 10 distributions instead of 80 to speed up the fitting\n",
    "### >>> f.distributions = f.distributions[0:10] + ['gamma']\n",
    "\n",
    "\n",
    "## First 9 distributions, plus gamma\n",
    "f = Fitter(logtimepending)\n",
    "f.distributions = f.distributions[0:10]\n",
    "f.fit()\n",
    "#Generate the fitted distribution summary using .summary( ) method\n",
    "f.summary()"
   ]
  },
  {
   "cell_type": "code",
   "execution_count": 18,
   "metadata": {},
   "outputs": [
    {
     "name": "stderr",
     "output_type": "stream",
     "text": [
      "SKIPPED chi distribution (taking more than 30 seconds)\n",
      "SKIPPED cauchy distribution (taking more than 30 seconds)\n",
      "SKIPPED crystalball distribution (taking more than 30 seconds)\n",
      "SKIPPED cosine distribution (taking more than 30 seconds)\n",
      "SKIPPED dgamma distribution (taking more than 30 seconds)\n",
      "SKIPPED erlang distribution (taking more than 30 seconds)\n",
      "SKIPPED dweibull distribution (taking more than 30 seconds)\n",
      "SKIPPED chi2 distribution (taking more than 30 seconds)\n",
      "SKIPPED exponnorm distribution (taking more than 30 seconds)\n",
      "chi was not fitted. no parameters available\n",
      "cauchy was not fitted. no parameters available\n",
      "crystalball was not fitted. no parameters available\n",
      "cosine was not fitted. no parameters available\n"
     ]
    },
    {
     "data": {
      "text/html": [
       "<div>\n",
       "<style scoped>\n",
       "    .dataframe tbody tr th:only-of-type {\n",
       "        vertical-align: middle;\n",
       "    }\n",
       "\n",
       "    .dataframe tbody tr th {\n",
       "        vertical-align: top;\n",
       "    }\n",
       "\n",
       "    .dataframe thead th {\n",
       "        text-align: right;\n",
       "    }\n",
       "</style>\n",
       "<table border=\"1\" class=\"dataframe\">\n",
       "  <thead>\n",
       "    <tr style=\"text-align: right;\">\n",
       "      <th></th>\n",
       "      <th>sumsquare_error</th>\n",
       "      <th>aic</th>\n",
       "      <th>bic</th>\n",
       "      <th>kl_div</th>\n",
       "      <th>ks_statistic</th>\n",
       "      <th>ks_pvalue</th>\n",
       "    </tr>\n",
       "  </thead>\n",
       "  <tbody>\n",
       "    <tr>\n",
       "      <th>expon</th>\n",
       "      <td>2.230627</td>\n",
       "      <td>704.35592</td>\n",
       "      <td>732.627035</td>\n",
       "      <td>inf</td>\n",
       "      <td>0.551268</td>\n",
       "      <td>0.0</td>\n",
       "    </tr>\n",
       "    <tr>\n",
       "      <th>chi</th>\n",
       "      <td>inf</td>\n",
       "      <td>inf</td>\n",
       "      <td>inf</td>\n",
       "      <td>inf</td>\n",
       "      <td>NaN</td>\n",
       "      <td>NaN</td>\n",
       "    </tr>\n",
       "    <tr>\n",
       "      <th>cauchy</th>\n",
       "      <td>inf</td>\n",
       "      <td>inf</td>\n",
       "      <td>inf</td>\n",
       "      <td>inf</td>\n",
       "      <td>NaN</td>\n",
       "      <td>NaN</td>\n",
       "    </tr>\n",
       "    <tr>\n",
       "      <th>crystalball</th>\n",
       "      <td>inf</td>\n",
       "      <td>inf</td>\n",
       "      <td>inf</td>\n",
       "      <td>inf</td>\n",
       "      <td>NaN</td>\n",
       "      <td>NaN</td>\n",
       "    </tr>\n",
       "    <tr>\n",
       "      <th>cosine</th>\n",
       "      <td>inf</td>\n",
       "      <td>inf</td>\n",
       "      <td>inf</td>\n",
       "      <td>inf</td>\n",
       "      <td>NaN</td>\n",
       "      <td>NaN</td>\n",
       "    </tr>\n",
       "  </tbody>\n",
       "</table>\n",
       "</div>"
      ],
      "text/plain": [
       "             sumsquare_error        aic         bic  kl_div  ks_statistic  \\\n",
       "expon               2.230627  704.35592  732.627035     inf      0.551268   \n",
       "chi                      inf        inf         inf     inf           NaN   \n",
       "cauchy                   inf        inf         inf     inf           NaN   \n",
       "crystalball              inf        inf         inf     inf           NaN   \n",
       "cosine                   inf        inf         inf     inf           NaN   \n",
       "\n",
       "             ks_pvalue  \n",
       "expon              0.0  \n",
       "chi                NaN  \n",
       "cauchy             NaN  \n",
       "crystalball        NaN  \n",
       "cosine             NaN  "
      ]
     },
     "execution_count": 18,
     "metadata": {},
     "output_type": "execute_result"
    },
    {
     "data": {
      "image/png": "[encoded data removed]",
      "text/plain": [
       "<Figure size 640x480 with 1 Axes>"
      ]
     },
     "metadata": {},
     "output_type": "display_data"
    }
   ],
   "source": [
    "### >>> f = fitter.Fitter(data)\n",
    "\n",
    "### >>> # just a trick to use only 10 distributions instead of 80 to speed up the fitting\n",
    "### >>> f.distributions = f.distributions[0:10] + ['gamma']\n",
    "\n",
    "\n",
    "## Next 10 distributions\n",
    "f = Fitter(logtimepending)\n",
    "f.distributions = f.distributions[10:20]\n",
    "f.fit()\n",
    "#Generate the fitted distribution summary using .summary( ) method\n",
    "f.summary()"
   ]
  },
  {
   "cell_type": "code",
   "execution_count": 19,
   "metadata": {},
   "outputs": [
    {
     "name": "stderr",
     "output_type": "stream",
     "text": [
      "SKIPPED foldcauchy distribution (taking more than 30 seconds)\n",
      "SKIPPED exponweib distribution (taking more than 30 seconds)\n",
      "SKIPPED exponpow distribution (taking more than 30 seconds)\n",
      "SKIPPED fisk distribution (taking more than 30 seconds)\n",
      "SKIPPED fatiguelife distribution (taking more than 30 seconds)\n",
      "SKIPPED foldnorm distribution (taking more than 30 seconds)\n",
      "SKIPPED gamma distribution (taking more than 30 seconds)\n",
      "SKIPPED f distribution (taking more than 30 seconds)\n",
      "SKIPPED gausshyper distribution (taking more than 30 seconds)\n",
      "SKIPPED genexpon distribution (taking more than 30 seconds)\n",
      "foldcauchy was not fitted. no parameters available\n",
      "exponweib was not fitted. no parameters available\n",
      "exponpow was not fitted. no parameters available\n",
      "fisk was not fitted. no parameters available\n",
      "fatiguelife was not fitted. no parameters available\n",
      "No artists with labels found to put in legend.  Note that artists whose label start with an underscore are ignored when legend() is called with no argument.\n"
     ]
    },
    {
     "data": {
      "text/html": [
       "<div>\n",
       "<style scoped>\n",
       "    .dataframe tbody tr th:only-of-type {\n",
       "        vertical-align: middle;\n",
       "    }\n",
       "\n",
       "    .dataframe tbody tr th {\n",
       "        vertical-align: top;\n",
       "    }\n",
       "\n",
       "    .dataframe thead th {\n",
       "        text-align: right;\n",
       "    }\n",
       "</style>\n",
       "<table border=\"1\" class=\"dataframe\">\n",
       "  <thead>\n",
       "    <tr style=\"text-align: right;\">\n",
       "      <th></th>\n",
       "      <th>sumsquare_error</th>\n",
       "      <th>aic</th>\n",
       "      <th>bic</th>\n",
       "      <th>kl_div</th>\n",
       "      <th>ks_statistic</th>\n",
       "      <th>ks_pvalue</th>\n",
       "    </tr>\n",
       "  </thead>\n",
       "  <tbody>\n",
       "    <tr>\n",
       "      <th>foldcauchy</th>\n",
       "      <td>inf</td>\n",
       "      <td>inf</td>\n",
       "      <td>inf</td>\n",
       "      <td>inf</td>\n",
       "      <td>NaN</td>\n",
       "      <td>NaN</td>\n",
       "    </tr>\n",
       "    <tr>\n",
       "      <th>exponweib</th>\n",
       "      <td>inf</td>\n",
       "      <td>inf</td>\n",
       "      <td>inf</td>\n",
       "      <td>inf</td>\n",
       "      <td>NaN</td>\n",
       "      <td>NaN</td>\n",
       "    </tr>\n",
       "    <tr>\n",
       "      <th>exponpow</th>\n",
       "      <td>inf</td>\n",
       "      <td>inf</td>\n",
       "      <td>inf</td>\n",
       "      <td>inf</td>\n",
       "      <td>NaN</td>\n",
       "      <td>NaN</td>\n",
       "    </tr>\n",
       "    <tr>\n",
       "      <th>fisk</th>\n",
       "      <td>inf</td>\n",
       "      <td>inf</td>\n",
       "      <td>inf</td>\n",
       "      <td>inf</td>\n",
       "      <td>NaN</td>\n",
       "      <td>NaN</td>\n",
       "    </tr>\n",
       "    <tr>\n",
       "      <th>fatiguelife</th>\n",
       "      <td>inf</td>\n",
       "      <td>inf</td>\n",
       "      <td>inf</td>\n",
       "      <td>inf</td>\n",
       "      <td>NaN</td>\n",
       "      <td>NaN</td>\n",
       "    </tr>\n",
       "  </tbody>\n",
       "</table>\n",
       "</div>"
      ],
      "text/plain": [
       "             sumsquare_error  aic  bic  kl_div  ks_statistic  ks_pvalue\n",
       "foldcauchy               inf  inf  inf     inf           NaN        NaN\n",
       "exponweib                inf  inf  inf     inf           NaN        NaN\n",
       "exponpow                 inf  inf  inf     inf           NaN        NaN\n",
       "fisk                     inf  inf  inf     inf           NaN        NaN\n",
       "fatiguelife              inf  inf  inf     inf           NaN        NaN"
      ]
     },
     "execution_count": 19,
     "metadata": {},
     "output_type": "execute_result"
    },
    {
     "data": {
      "image/png": "[encoded data removed]",
      "text/plain": [
       "<Figure size 640x480 with 1 Axes>"
      ]
     },
     "metadata": {},
     "output_type": "display_data"
    }
   ],
   "source": [
    "### >>> f = fitter.Fitter(data)\n",
    "\n",
    "### >>> # just a trick to use only 10 distributions instead of 80 to speed up the fitting\n",
    "### >>> f.distributions = f.distributions[0:10] + ['gamma']\n",
    "\n",
    "\n",
    "## Next 10 distributions\n",
    "f = Fitter(logtimepending)\n",
    "f.distributions = f.distributions[20:30]\n",
    "f.fit()\n",
    "#Generate the fitted distribution summary using .summary( ) method\n",
    "f.summary()"
   ]
  },
  {
   "cell_type": "code",
   "execution_count": null,
   "metadata": {},
   "outputs": [
    {
     "name": "stderr",
     "output_type": "stream",
     "text": [
      "SKIPPED genhyperbolic distribution (taking more than 30 seconds)\n",
      "SKIPPED gennorm distribution (taking more than 30 seconds)\n",
      "SKIPPED genlogistic distribution (taking more than 30 seconds)\n",
      "SKIPPED genhalflogistic distribution (taking more than 30 seconds)\n",
      "SKIPPED geninvgauss distribution (taking more than 30 seconds)\n",
      "SKIPPED genpareto distribution (taking more than 30 seconds)\n",
      "SKIPPED gengamma distribution (taking more than 30 seconds)\n",
      "SKIPPED genextreme distribution (taking more than 30 seconds)\n",
      "SKIPPED gibrat distribution (taking more than 30 seconds)\n",
      "SKIPPED gompertz distribution (taking more than 30 seconds)\n"
     ]
    }
   ],
   "source": [
    "### >>> f = fitter.Fitter(data)\n",
    "\n",
    "### >>> # just a trick to use only 10 distributions instead of 80 to speed up the fitting\n",
    "### >>> f.distributions = f.distributions[0:10] + ['gamma']\n",
    "\n",
    "\n",
    "## Next 10 distributions\n",
    "f = Fitter(logtimepending)\n",
    "f.distributions = f.distributions[30:40]\n",
    "f.fit()\n",
    "#Generate the fitted distribution summary using .summary( ) method\n",
    "f.summary()"
   ]
  },
  {
   "cell_type": "code",
   "execution_count": 8,
   "metadata": {},
   "outputs": [
    {
     "name": "stderr",
     "output_type": "stream",
     "text": [
      "SKIPPED halfcauchy distribution (taking more than 30 seconds)\n",
      "SKIPPED halfgennorm distribution (taking more than 30 seconds)\n",
      "SKIPPED halflogistic distribution (taking more than 30 seconds)\n",
      "SKIPPED halfnorm distribution (taking more than 30 seconds)\n",
      "SKIPPED hypsecant distribution (taking more than 30 seconds)\n",
      "SKIPPED invgamma distribution (taking more than 30 seconds)\n",
      "SKIPPED invgauss distribution (taking more than 30 seconds)\n",
      "SKIPPED invweibull distribution (taking more than 30 seconds)\n",
      "halfcauchy was not fitted. no parameters available\n",
      "halfgennorm was not fitted. no parameters available\n",
      "halflogistic was not fitted. no parameters available\n"
     ]
    },
    {
     "data": {
      "text/html": [
       "<div>\n",
       "<style scoped>\n",
       "    .dataframe tbody tr th:only-of-type {\n",
       "        vertical-align: middle;\n",
       "    }\n",
       "\n",
       "    .dataframe tbody tr th {\n",
       "        vertical-align: top;\n",
       "    }\n",
       "\n",
       "    .dataframe thead th {\n",
       "        text-align: right;\n",
       "    }\n",
       "</style>\n",
       "<table border=\"1\" class=\"dataframe\">\n",
       "  <thead>\n",
       "    <tr style=\"text-align: right;\">\n",
       "      <th></th>\n",
       "      <th>sumsquare_error</th>\n",
       "      <th>aic</th>\n",
       "      <th>bic</th>\n",
       "      <th>kl_div</th>\n",
       "      <th>ks_statistic</th>\n",
       "      <th>ks_pvalue</th>\n",
       "    </tr>\n",
       "  </thead>\n",
       "  <tbody>\n",
       "    <tr>\n",
       "      <th>gumbel_r</th>\n",
       "      <td>0.650080</td>\n",
       "      <td>3.379163e+05</td>\n",
       "      <td>3.379446e+05</td>\n",
       "      <td>0.349108</td>\n",
       "      <td>0.209042</td>\n",
       "      <td>0.0</td>\n",
       "    </tr>\n",
       "    <tr>\n",
       "      <th>gumbel_l</th>\n",
       "      <td>1.398942</td>\n",
       "      <td>2.426484e+04</td>\n",
       "      <td>2.429311e+04</td>\n",
       "      <td>inf</td>\n",
       "      <td>0.291910</td>\n",
       "      <td>0.0</td>\n",
       "    </tr>\n",
       "    <tr>\n",
       "      <th>halfcauchy</th>\n",
       "      <td>inf</td>\n",
       "      <td>inf</td>\n",
       "      <td>inf</td>\n",
       "      <td>inf</td>\n",
       "      <td>NaN</td>\n",
       "      <td>NaN</td>\n",
       "    </tr>\n",
       "    <tr>\n",
       "      <th>halfgennorm</th>\n",
       "      <td>inf</td>\n",
       "      <td>inf</td>\n",
       "      <td>inf</td>\n",
       "      <td>inf</td>\n",
       "      <td>NaN</td>\n",
       "      <td>NaN</td>\n",
       "    </tr>\n",
       "    <tr>\n",
       "      <th>halflogistic</th>\n",
       "      <td>inf</td>\n",
       "      <td>inf</td>\n",
       "      <td>inf</td>\n",
       "      <td>inf</td>\n",
       "      <td>NaN</td>\n",
       "      <td>NaN</td>\n",
       "    </tr>\n",
       "  </tbody>\n",
       "</table>\n",
       "</div>"
      ],
      "text/plain": [
       "              sumsquare_error           aic           bic    kl_div  \\\n",
       "gumbel_r             0.650080  3.379163e+05  3.379446e+05  0.349108   \n",
       "gumbel_l             1.398942  2.426484e+04  2.429311e+04       inf   \n",
       "halfcauchy                inf           inf           inf       inf   \n",
       "halfgennorm               inf           inf           inf       inf   \n",
       "halflogistic              inf           inf           inf       inf   \n",
       "\n",
       "              ks_statistic  ks_pvalue  \n",
       "gumbel_r          0.209042        0.0  \n",
       "gumbel_l          0.291910        0.0  \n",
       "halfcauchy             NaN        NaN  \n",
       "halfgennorm            NaN        NaN  \n",
       "halflogistic           NaN        NaN  "
      ]
     },
     "execution_count": 8,
     "metadata": {},
     "output_type": "execute_result"
    },
    {
     "data": {
      "image/png": "[encoded data removed]",
      "text/plain": [
       "<Figure size 640x480 with 1 Axes>"
      ]
     },
     "metadata": {},
     "output_type": "display_data"
    }
   ],
   "source": [
    "### >>> f = fitter.Fitter(data)\n",
    "\n",
    "### >>> # just a trick to use only 10 distributions instead of 80 to speed up the fitting\n",
    "### >>> f.distributions = f.distributions[0:10] + ['gamma']\n",
    "\n",
    "\n",
    "## Next 10 distributions\n",
    "f = Fitter(logtimepending)\n",
    "f.distributions = f.distributions[40:50]\n",
    "f.fit()\n",
    "#Generate the fitted distribution summary using .summary( ) method\n",
    "f.summary()"
   ]
  },
  {
   "cell_type": "code",
   "execution_count": 9,
   "metadata": {},
   "outputs": [
    {
     "name": "stderr",
     "output_type": "stream",
     "text": [
      "SKIPPED johnsonsb distribution (taking more than 30 seconds)\n",
      "SKIPPED kappa3 distribution (taking more than 30 seconds)\n",
      "SKIPPED kappa4 distribution (taking more than 30 seconds)\n",
      "SKIPPED johnsonsu distribution (taking more than 30 seconds)\n",
      "SKIPPED kstwo distribution (taking more than 30 seconds)\n",
      "SKIPPED ksone distribution (taking more than 30 seconds)\n",
      "SKIPPED kstwobign distribution (taking more than 30 seconds)\n",
      "SKIPPED laplace_asymmetric distribution (taking more than 30 seconds)\n",
      "SKIPPED levy distribution (taking more than 30 seconds)\n",
      "johnsonsb was not fitted. no parameters available\n",
      "kappa3 was not fitted. no parameters available\n",
      "kappa4 was not fitted. no parameters available\n",
      "johnsonsu was not fitted. no parameters available\n"
     ]
    },
    {
     "data": {
      "text/html": [
       "<div>\n",
       "<style scoped>\n",
       "    .dataframe tbody tr th:only-of-type {\n",
       "        vertical-align: middle;\n",
       "    }\n",
       "\n",
       "    .dataframe tbody tr th {\n",
       "        vertical-align: top;\n",
       "    }\n",
       "\n",
       "    .dataframe thead th {\n",
       "        text-align: right;\n",
       "    }\n",
       "</style>\n",
       "<table border=\"1\" class=\"dataframe\">\n",
       "  <thead>\n",
       "    <tr style=\"text-align: right;\">\n",
       "      <th></th>\n",
       "      <th>sumsquare_error</th>\n",
       "      <th>aic</th>\n",
       "      <th>bic</th>\n",
       "      <th>kl_div</th>\n",
       "      <th>ks_statistic</th>\n",
       "      <th>ks_pvalue</th>\n",
       "    </tr>\n",
       "  </thead>\n",
       "  <tbody>\n",
       "    <tr>\n",
       "      <th>laplace</th>\n",
       "      <td>0.329083</td>\n",
       "      <td>2377.485597</td>\n",
       "      <td>2405.756711</td>\n",
       "      <td>inf</td>\n",
       "      <td>0.122363</td>\n",
       "      <td>0.0</td>\n",
       "    </tr>\n",
       "    <tr>\n",
       "      <th>johnsonsb</th>\n",
       "      <td>inf</td>\n",
       "      <td>inf</td>\n",
       "      <td>inf</td>\n",
       "      <td>inf</td>\n",
       "      <td>NaN</td>\n",
       "      <td>NaN</td>\n",
       "    </tr>\n",
       "    <tr>\n",
       "      <th>kappa3</th>\n",
       "      <td>inf</td>\n",
       "      <td>inf</td>\n",
       "      <td>inf</td>\n",
       "      <td>inf</td>\n",
       "      <td>NaN</td>\n",
       "      <td>NaN</td>\n",
       "    </tr>\n",
       "    <tr>\n",
       "      <th>kappa4</th>\n",
       "      <td>inf</td>\n",
       "      <td>inf</td>\n",
       "      <td>inf</td>\n",
       "      <td>inf</td>\n",
       "      <td>NaN</td>\n",
       "      <td>NaN</td>\n",
       "    </tr>\n",
       "    <tr>\n",
       "      <th>johnsonsu</th>\n",
       "      <td>inf</td>\n",
       "      <td>inf</td>\n",
       "      <td>inf</td>\n",
       "      <td>inf</td>\n",
       "      <td>NaN</td>\n",
       "      <td>NaN</td>\n",
       "    </tr>\n",
       "  </tbody>\n",
       "</table>\n",
       "</div>"
      ],
      "text/plain": [
       "           sumsquare_error          aic          bic  kl_div  ks_statistic  \\\n",
       "laplace           0.329083  2377.485597  2405.756711     inf      0.122363   \n",
       "johnsonsb              inf          inf          inf     inf           NaN   \n",
       "kappa3                 inf          inf          inf     inf           NaN   \n",
       "kappa4                 inf          inf          inf     inf           NaN   \n",
       "johnsonsu              inf          inf          inf     inf           NaN   \n",
       "\n",
       "           ks_pvalue  \n",
       "laplace          0.0  \n",
       "johnsonsb        NaN  \n",
       "kappa3           NaN  \n",
       "kappa4           NaN  \n",
       "johnsonsu        NaN  "
      ]
     },
     "execution_count": 9,
     "metadata": {},
     "output_type": "execute_result"
    },
    {
     "data": {
      "image/png": "[encoded data removed]",
      "text/plain": [
       "<Figure size 640x480 with 1 Axes>"
      ]
     },
     "metadata": {},
     "output_type": "display_data"
    }
   ],
   "source": [
    "### >>> f = fitter.Fitter(data)\n",
    "\n",
    "### >>> # just a trick to use only 10 distributions instead of 80 to speed up the fitting\n",
    "### >>> f.distributions = f.distributions[0:10] + ['gamma']\n",
    "\n",
    "\n",
    "## Next 10 distributions\n",
    "f = Fitter(logtimepending)\n",
    "f.distributions = f.distributions[50:60]\n",
    "f.fit()\n",
    "#Generate the fitted distribution summary using .summary( ) method\n",
    "f.summary()"
   ]
  },
  {
   "cell_type": "code",
   "execution_count": 10,
   "metadata": {},
   "outputs": [
    {
     "name": "stderr",
     "output_type": "stream",
     "text": [
      "SKIPPED loggamma distribution (taking more than 30 seconds)\n",
      "SKIPPED levy_l distribution (taking more than 30 seconds)\n",
      "SKIPPED logistic distribution (taking more than 30 seconds)\n",
      "SKIPPED levy_stable distribution (taking more than 30 seconds)\n",
      "SKIPPED lomax distribution (taking more than 30 seconds)\n",
      "SKIPPED loguniform distribution (taking more than 30 seconds)\n",
      "SKIPPED loglaplace distribution (taking more than 30 seconds)\n",
      "SKIPPED lognorm distribution (taking more than 30 seconds)\n",
      "SKIPPED maxwell distribution (taking more than 30 seconds)\n",
      "SKIPPED mielke distribution (taking more than 30 seconds)\n",
      "loggamma was not fitted. no parameters available\n",
      "levy_l was not fitted. no parameters available\n",
      "logistic was not fitted. no parameters available\n",
      "levy_stable was not fitted. no parameters available\n",
      "lomax was not fitted. no parameters available\n",
      "No artists with labels found to put in legend.  Note that artists whose label start with an underscore are ignored when legend() is called with no argument.\n"
     ]
    },
    {
     "data": {
      "text/html": [
       "<div>\n",
       "<style scoped>\n",
       "    .dataframe tbody tr th:only-of-type {\n",
       "        vertical-align: middle;\n",
       "    }\n",
       "\n",
       "    .dataframe tbody tr th {\n",
       "        vertical-align: top;\n",
       "    }\n",
       "\n",
       "    .dataframe thead th {\n",
       "        text-align: right;\n",
       "    }\n",
       "</style>\n",
       "<table border=\"1\" class=\"dataframe\">\n",
       "  <thead>\n",
       "    <tr style=\"text-align: right;\">\n",
       "      <th></th>\n",
       "      <th>sumsquare_error</th>\n",
       "      <th>aic</th>\n",
       "      <th>bic</th>\n",
       "      <th>kl_div</th>\n",
       "      <th>ks_statistic</th>\n",
       "      <th>ks_pvalue</th>\n",
       "    </tr>\n",
       "  </thead>\n",
       "  <tbody>\n",
       "    <tr>\n",
       "      <th>loggamma</th>\n",
       "      <td>inf</td>\n",
       "      <td>inf</td>\n",
       "      <td>inf</td>\n",
       "      <td>inf</td>\n",
       "      <td>NaN</td>\n",
       "      <td>NaN</td>\n",
       "    </tr>\n",
       "    <tr>\n",
       "      <th>levy_l</th>\n",
       "      <td>inf</td>\n",
       "      <td>inf</td>\n",
       "      <td>inf</td>\n",
       "      <td>inf</td>\n",
       "      <td>NaN</td>\n",
       "      <td>NaN</td>\n",
       "    </tr>\n",
       "    <tr>\n",
       "      <th>logistic</th>\n",
       "      <td>inf</td>\n",
       "      <td>inf</td>\n",
       "      <td>inf</td>\n",
       "      <td>inf</td>\n",
       "      <td>NaN</td>\n",
       "      <td>NaN</td>\n",
       "    </tr>\n",
       "    <tr>\n",
       "      <th>levy_stable</th>\n",
       "      <td>inf</td>\n",
       "      <td>inf</td>\n",
       "      <td>inf</td>\n",
       "      <td>inf</td>\n",
       "      <td>NaN</td>\n",
       "      <td>NaN</td>\n",
       "    </tr>\n",
       "    <tr>\n",
       "      <th>lomax</th>\n",
       "      <td>inf</td>\n",
       "      <td>inf</td>\n",
       "      <td>inf</td>\n",
       "      <td>inf</td>\n",
       "      <td>NaN</td>\n",
       "      <td>NaN</td>\n",
       "    </tr>\n",
       "  </tbody>\n",
       "</table>\n",
       "</div>"
      ],
      "text/plain": [
       "             sumsquare_error  aic  bic  kl_div  ks_statistic  ks_pvalue\n",
       "loggamma                 inf  inf  inf     inf           NaN        NaN\n",
       "levy_l                   inf  inf  inf     inf           NaN        NaN\n",
       "logistic                 inf  inf  inf     inf           NaN        NaN\n",
       "levy_stable              inf  inf  inf     inf           NaN        NaN\n",
       "lomax                    inf  inf  inf     inf           NaN        NaN"
      ]
     },
     "execution_count": 10,
     "metadata": {},
     "output_type": "execute_result"
    },
    {
     "data": {
      "image/png": "[encoded data removed]",
      "text/plain": [
       "<Figure size 640x480 with 1 Axes>"
      ]
     },
     "metadata": {},
     "output_type": "display_data"
    }
   ],
   "source": [
    "### >>> f = fitter.Fitter(data)\n",
    "\n",
    "### >>> # just a trick to use only 10 distributions instead of 80 to speed up the fitting\n",
    "### >>> f.distributions = f.distributions[0:10] + ['gamma']\n",
    "\n",
    "\n",
    "## Next 10 distributions\n",
    "f = Fitter(logtimepending)\n",
    "f.distributions = f.distributions[60:70]\n",
    "f.fit()\n",
    "#Generate the fitted distribution summary using .summary( ) method\n",
    "f.summary()"
   ]
  },
  {
   "cell_type": "code",
   "execution_count": 11,
   "metadata": {},
   "outputs": [
    {
     "name": "stderr",
     "output_type": "stream",
     "text": [
      "SKIPPED moyal distribution (taking more than 30 seconds)\n",
      "SKIPPED ncf distribution (taking more than 30 seconds)\n",
      "SKIPPED nakagami distribution (taking more than 30 seconds)\n",
      "SKIPPED nct distribution (taking more than 30 seconds)\n",
      "SKIPPED ncx2 distribution (taking more than 30 seconds)\n",
      "SKIPPED norminvgauss distribution (taking more than 30 seconds)\n",
      "SKIPPED pareto distribution (taking more than 30 seconds)\n",
      "SKIPPED pearson3 distribution (taking more than 30 seconds)\n",
      "SKIPPED powerlaw distribution (taking more than 30 seconds)\n",
      "moyal was not fitted. no parameters available\n",
      "ncf was not fitted. no parameters available\n",
      "nakagami was not fitted. no parameters available\n",
      "nct was not fitted. no parameters available\n"
     ]
    },
    {
     "data": {
      "text/html": [
       "<div>\n",
       "<style scoped>\n",
       "    .dataframe tbody tr th:only-of-type {\n",
       "        vertical-align: middle;\n",
       "    }\n",
       "\n",
       "    .dataframe tbody tr th {\n",
       "        vertical-align: top;\n",
       "    }\n",
       "\n",
       "    .dataframe thead th {\n",
       "        text-align: right;\n",
       "    }\n",
       "</style>\n",
       "<table border=\"1\" class=\"dataframe\">\n",
       "  <thead>\n",
       "    <tr style=\"text-align: right;\">\n",
       "      <th></th>\n",
       "      <th>sumsquare_error</th>\n",
       "      <th>aic</th>\n",
       "      <th>bic</th>\n",
       "      <th>kl_div</th>\n",
       "      <th>ks_statistic</th>\n",
       "      <th>ks_pvalue</th>\n",
       "    </tr>\n",
       "  </thead>\n",
       "  <tbody>\n",
       "    <tr>\n",
       "      <th>norm</th>\n",
       "      <td>0.500773</td>\n",
       "      <td>7602.281701</td>\n",
       "      <td>7630.552815</td>\n",
       "      <td>inf</td>\n",
       "      <td>0.181816</td>\n",
       "      <td>0.0</td>\n",
       "    </tr>\n",
       "    <tr>\n",
       "      <th>moyal</th>\n",
       "      <td>inf</td>\n",
       "      <td>inf</td>\n",
       "      <td>inf</td>\n",
       "      <td>inf</td>\n",
       "      <td>NaN</td>\n",
       "      <td>NaN</td>\n",
       "    </tr>\n",
       "    <tr>\n",
       "      <th>ncf</th>\n",
       "      <td>inf</td>\n",
       "      <td>inf</td>\n",
       "      <td>inf</td>\n",
       "      <td>inf</td>\n",
       "      <td>NaN</td>\n",
       "      <td>NaN</td>\n",
       "    </tr>\n",
       "    <tr>\n",
       "      <th>nakagami</th>\n",
       "      <td>inf</td>\n",
       "      <td>inf</td>\n",
       "      <td>inf</td>\n",
       "      <td>inf</td>\n",
       "      <td>NaN</td>\n",
       "      <td>NaN</td>\n",
       "    </tr>\n",
       "    <tr>\n",
       "      <th>nct</th>\n",
       "      <td>inf</td>\n",
       "      <td>inf</td>\n",
       "      <td>inf</td>\n",
       "      <td>inf</td>\n",
       "      <td>NaN</td>\n",
       "      <td>NaN</td>\n",
       "    </tr>\n",
       "  </tbody>\n",
       "</table>\n",
       "</div>"
      ],
      "text/plain": [
       "          sumsquare_error          aic          bic  kl_div  ks_statistic  \\\n",
       "norm             0.500773  7602.281701  7630.552815     inf      0.181816   \n",
       "moyal                 inf          inf          inf     inf           NaN   \n",
       "ncf                   inf          inf          inf     inf           NaN   \n",
       "nakagami              inf          inf          inf     inf           NaN   \n",
       "nct                   inf          inf          inf     inf           NaN   \n",
       "\n",
       "          ks_pvalue  \n",
       "norm            0.0  \n",
       "moyal           NaN  \n",
       "ncf             NaN  \n",
       "nakagami        NaN  \n",
       "nct             NaN  "
      ]
     },
     "execution_count": 11,
     "metadata": {},
     "output_type": "execute_result"
    },
    {
     "data": {
      "image/png": "[encoded data removed]",
      "text/plain": [
       "<Figure size 640x480 with 1 Axes>"
      ]
     },
     "metadata": {},
     "output_type": "display_data"
    }
   ],
   "source": [
    "### >>> f = fitter.Fitter(data)\n",
    "\n",
    "### >>> # just a trick to use only 10 distributions instead of 80 to speed up the fitting\n",
    "### >>> f.distributions = f.distributions[0:10] + ['gamma']\n",
    "\n",
    "## Next 10 distributions\n",
    "f = Fitter(logtimepending)\n",
    "f.distributions = f.distributions[70:80]\n",
    "f.fit()\n",
    "#Generate the fitted distribution summary using .summary( ) method\n",
    "f.summary()"
   ]
  },
  {
   "cell_type": "code",
   "execution_count": 8,
   "metadata": {},
   "outputs": [
    {
     "name": "stderr",
     "output_type": "stream",
     "text": [
      "SKIPPED powernorm distribution (taking more than 30 seconds)\n",
      "SKIPPED rdist distribution (taking more than 30 seconds)\n",
      "SKIPPED powerlognorm distribution (taking more than 30 seconds)\n",
      "SKIPPED recipinvgauss distribution (taking more than 30 seconds)\n",
      "SKIPPED rv_continuous distribution (taking more than 30 seconds)\n",
      "SKIPPED rv_histogram distribution (taking more than 30 seconds)\n",
      "SKIPPED reciprocal distribution (taking more than 30 seconds)\n",
      "SKIPPED rel_breitwigner distribution (taking more than 30 seconds)\n",
      "SKIPPED rice distribution (taking more than 30 seconds)\n",
      "powernorm was not fitted. no parameters available\n",
      "rdist was not fitted. no parameters available\n",
      "powerlognorm was not fitted. no parameters available\n",
      "recipinvgauss was not fitted. no parameters available\n"
     ]
    },
    {
     "data": {
      "text/html": [
       "<div>\n",
       "<style scoped>\n",
       "    .dataframe tbody tr th:only-of-type {\n",
       "        vertical-align: middle;\n",
       "    }\n",
       "\n",
       "    .dataframe tbody tr th {\n",
       "        vertical-align: top;\n",
       "    }\n",
       "\n",
       "    .dataframe thead th {\n",
       "        text-align: right;\n",
       "    }\n",
       "</style>\n",
       "<table border=\"1\" class=\"dataframe\">\n",
       "  <thead>\n",
       "    <tr style=\"text-align: right;\">\n",
       "      <th></th>\n",
       "      <th>sumsquare_error</th>\n",
       "      <th>aic</th>\n",
       "      <th>bic</th>\n",
       "      <th>kl_div</th>\n",
       "      <th>ks_statistic</th>\n",
       "      <th>ks_pvalue</th>\n",
       "    </tr>\n",
       "  </thead>\n",
       "  <tbody>\n",
       "    <tr>\n",
       "      <th>rayleigh</th>\n",
       "      <td>1.946808</td>\n",
       "      <td>764.834223</td>\n",
       "      <td>793.105338</td>\n",
       "      <td>inf</td>\n",
       "      <td>0.482958</td>\n",
       "      <td>0.0</td>\n",
       "    </tr>\n",
       "    <tr>\n",
       "      <th>powernorm</th>\n",
       "      <td>inf</td>\n",
       "      <td>inf</td>\n",
       "      <td>inf</td>\n",
       "      <td>inf</td>\n",
       "      <td>NaN</td>\n",
       "      <td>NaN</td>\n",
       "    </tr>\n",
       "    <tr>\n",
       "      <th>rdist</th>\n",
       "      <td>inf</td>\n",
       "      <td>inf</td>\n",
       "      <td>inf</td>\n",
       "      <td>inf</td>\n",
       "      <td>NaN</td>\n",
       "      <td>NaN</td>\n",
       "    </tr>\n",
       "    <tr>\n",
       "      <th>powerlognorm</th>\n",
       "      <td>inf</td>\n",
       "      <td>inf</td>\n",
       "      <td>inf</td>\n",
       "      <td>inf</td>\n",
       "      <td>NaN</td>\n",
       "      <td>NaN</td>\n",
       "    </tr>\n",
       "    <tr>\n",
       "      <th>recipinvgauss</th>\n",
       "      <td>inf</td>\n",
       "      <td>inf</td>\n",
       "      <td>inf</td>\n",
       "      <td>inf</td>\n",
       "      <td>NaN</td>\n",
       "      <td>NaN</td>\n",
       "    </tr>\n",
       "  </tbody>\n",
       "</table>\n",
       "</div>"
      ],
      "text/plain": [
       "               sumsquare_error         aic         bic  kl_div  ks_statistic  \\\n",
       "rayleigh              1.946808  764.834223  793.105338     inf      0.482958   \n",
       "powernorm                  inf         inf         inf     inf           NaN   \n",
       "rdist                      inf         inf         inf     inf           NaN   \n",
       "powerlognorm               inf         inf         inf     inf           NaN   \n",
       "recipinvgauss              inf         inf         inf     inf           NaN   \n",
       "\n",
       "               ks_pvalue  \n",
       "rayleigh             0.0  \n",
       "powernorm            NaN  \n",
       "rdist                NaN  \n",
       "powerlognorm         NaN  \n",
       "recipinvgauss        NaN  "
      ]
     },
     "execution_count": 8,
     "metadata": {},
     "output_type": "execute_result"
    },
    {
     "data": {
      "image/png": "[encoded data removed]",
      "text/plain": [
       "<Figure size 640x480 with 1 Axes>"
      ]
     },
     "metadata": {},
     "output_type": "display_data"
    }
   ],
   "source": [
    "### >>> f = fitter.Fitter(data)\n",
    "\n",
    "### >>> # just a trick to use only 10 distributions instead of 80 to speed up the fitting\n",
    "### >>> f.distributions = f.distributions[0:10] + ['gamma']\n",
    "\n",
    "\n",
    "## Next 10 distributions\n",
    "f = Fitter(logtimepending)\n",
    "f.distributions = f.distributions[80:90]\n",
    "f.fit()\n",
    "#Generate the fitted distribution summary using .summary( ) method\n",
    "f.summary()"
   ]
  },
  {
   "cell_type": "code",
   "execution_count": 9,
   "metadata": {},
   "outputs": [
    {
     "name": "stderr",
     "output_type": "stream",
     "text": [
      "C:\\Users\\Marlie\\anaconda3\\Lib\\site-packages\\scipy\\integrate\\_quadpack_py.py:1233: IntegrationWarning: The maximum number of subdivisions (50) has been achieved.\n",
      "  If increasing the limit yields no improvement it is advised to analyze \n",
      "  the integrand in order to determine the difficulties.  If the position of a \n",
      "  local difficulty can be determined (singularity, discontinuity) one will \n",
      "  probably gain from splitting up the interval and calling the integrator \n",
      "  on the subranges.  Perhaps a special-purpose integrator should be used.\n",
      "  quad_r = quad(f, low, high, args=args, full_output=self.full_output,\n",
      "SKIPPED semicircular distribution (taking more than 30 seconds)\n",
      "SKIPPED skewcauchy distribution (taking more than 30 seconds)\n",
      "SKIPPED skewnorm distribution (taking more than 30 seconds)\n",
      "SKIPPED studentized_range distribution (taking more than 30 seconds)\n",
      "C:\\Users\\Marlie\\anaconda3\\Lib\\site-packages\\scipy\\integrate\\_quadpack_py.py:1233: IntegrationWarning: The integral is probably divergent, or slowly convergent.\n",
      "  quad_r = quad(f, low, high, args=args, full_output=self.full_output,\n",
      "SKIPPED t distribution (taking more than 30 seconds)\n",
      "SKIPPED triang distribution (taking more than 30 seconds)\n",
      "SKIPPED trapezoid distribution (taking more than 30 seconds)\n",
      "SKIPPED trapz distribution (taking more than 30 seconds)\n",
      "SKIPPED truncexpon distribution (taking more than 30 seconds)\n",
      "SKIPPED truncnorm distribution (taking more than 30 seconds)\n",
      "semicircular was not fitted. no parameters available\n",
      "skewcauchy was not fitted. no parameters available\n",
      "skewnorm was not fitted. no parameters available\n",
      "studentized_range was not fitted. no parameters available\n",
      "t was not fitted. no parameters available\n",
      "No artists with labels found to put in legend.  Note that artists whose label start with an underscore are ignored when legend() is called with no argument.\n"
     ]
    },
    {
     "data": {
      "text/html": [
       "<div>\n",
       "<style scoped>\n",
       "    .dataframe tbody tr th:only-of-type {\n",
       "        vertical-align: middle;\n",
       "    }\n",
       "\n",
       "    .dataframe tbody tr th {\n",
       "        vertical-align: top;\n",
       "    }\n",
       "\n",
       "    .dataframe thead th {\n",
       "        text-align: right;\n",
       "    }\n",
       "</style>\n",
       "<table border=\"1\" class=\"dataframe\">\n",
       "  <thead>\n",
       "    <tr style=\"text-align: right;\">\n",
       "      <th></th>\n",
       "      <th>sumsquare_error</th>\n",
       "      <th>aic</th>\n",
       "      <th>bic</th>\n",
       "      <th>kl_div</th>\n",
       "      <th>ks_statistic</th>\n",
       "      <th>ks_pvalue</th>\n",
       "    </tr>\n",
       "  </thead>\n",
       "  <tbody>\n",
       "    <tr>\n",
       "      <th>semicircular</th>\n",
       "      <td>inf</td>\n",
       "      <td>inf</td>\n",
       "      <td>inf</td>\n",
       "      <td>inf</td>\n",
       "      <td>NaN</td>\n",
       "      <td>NaN</td>\n",
       "    </tr>\n",
       "    <tr>\n",
       "      <th>skewcauchy</th>\n",
       "      <td>inf</td>\n",
       "      <td>inf</td>\n",
       "      <td>inf</td>\n",
       "      <td>inf</td>\n",
       "      <td>NaN</td>\n",
       "      <td>NaN</td>\n",
       "    </tr>\n",
       "    <tr>\n",
       "      <th>skewnorm</th>\n",
       "      <td>inf</td>\n",
       "      <td>inf</td>\n",
       "      <td>inf</td>\n",
       "      <td>inf</td>\n",
       "      <td>NaN</td>\n",
       "      <td>NaN</td>\n",
       "    </tr>\n",
       "    <tr>\n",
       "      <th>studentized_range</th>\n",
       "      <td>inf</td>\n",
       "      <td>inf</td>\n",
       "      <td>inf</td>\n",
       "      <td>inf</td>\n",
       "      <td>NaN</td>\n",
       "      <td>NaN</td>\n",
       "    </tr>\n",
       "    <tr>\n",
       "      <th>t</th>\n",
       "      <td>inf</td>\n",
       "      <td>inf</td>\n",
       "      <td>inf</td>\n",
       "      <td>inf</td>\n",
       "      <td>NaN</td>\n",
       "      <td>NaN</td>\n",
       "    </tr>\n",
       "  </tbody>\n",
       "</table>\n",
       "</div>"
      ],
      "text/plain": [
       "                   sumsquare_error  aic  bic  kl_div  ks_statistic  ks_pvalue\n",
       "semicircular                   inf  inf  inf     inf           NaN        NaN\n",
       "skewcauchy                     inf  inf  inf     inf           NaN        NaN\n",
       "skewnorm                       inf  inf  inf     inf           NaN        NaN\n",
       "studentized_range              inf  inf  inf     inf           NaN        NaN\n",
       "t                              inf  inf  inf     inf           NaN        NaN"
      ]
     },
     "execution_count": 9,
     "metadata": {},
     "output_type": "execute_result"
    },
    {
     "data": {
      "image/png": "[encoded data removed]",
      "text/plain": [
       "<Figure size 640x480 with 1 Axes>"
      ]
     },
     "metadata": {},
     "output_type": "display_data"
    }
   ],
   "source": [
    "### >>> f = fitter.Fitter(data)\n",
    "\n",
    "### >>> # just a trick to use only 10 distributions instead of 80 to speed up the fitting\n",
    "### >>> f.distributions = f.distributions[0:10] + ['gamma']\n",
    "\n",
    "\n",
    "## Next 10 distributions\n",
    "f = Fitter(logtimepending)\n",
    "f.distributions = f.distributions[90:100]\n",
    "f.fit()\n",
    "#Generate the fitted distribution summary using .summary( ) method\n",
    "f.summary()"
   ]
  },
  {
   "cell_type": "code",
   "execution_count": 10,
   "metadata": {},
   "outputs": [
    {
     "name": "stderr",
     "output_type": "stream",
     "text": [
      "SKIPPED truncweibull_min distribution (taking more than 30 seconds)\n",
      "SKIPPED tukeylambda distribution (taking more than 30 seconds)\n",
      "SKIPPED truncpareto distribution (taking more than 30 seconds)\n",
      "SKIPPED vonmises_fisher distribution (taking more than 30 seconds)\n",
      "SKIPPED weibull_max distribution (taking more than 30 seconds)\n",
      "SKIPPED wald distribution (taking more than 30 seconds)\n",
      "SKIPPED vonmises_line distribution (taking more than 30 seconds)\n",
      "SKIPPED weibull_min distribution (taking more than 30 seconds)\n",
      "SKIPPED wrapcauchy distribution (taking more than 30 seconds)\n",
      "truncweibull_min was not fitted. no parameters available\n",
      "tukeylambda was not fitted. no parameters available\n",
      "truncpareto was not fitted. no parameters available\n"
     ]
    },
    {
     "data": {
      "text/html": [
       "<div>\n",
       "<style scoped>\n",
       "    .dataframe tbody tr th:only-of-type {\n",
       "        vertical-align: middle;\n",
       "    }\n",
       "\n",
       "    .dataframe tbody tr th {\n",
       "        vertical-align: top;\n",
       "    }\n",
       "\n",
       "    .dataframe thead th {\n",
       "        text-align: right;\n",
       "    }\n",
       "</style>\n",
       "<table border=\"1\" class=\"dataframe\">\n",
       "  <thead>\n",
       "    <tr style=\"text-align: right;\">\n",
       "      <th></th>\n",
       "      <th>sumsquare_error</th>\n",
       "      <th>aic</th>\n",
       "      <th>bic</th>\n",
       "      <th>kl_div</th>\n",
       "      <th>ks_statistic</th>\n",
       "      <th>ks_pvalue</th>\n",
       "    </tr>\n",
       "  </thead>\n",
       "  <tbody>\n",
       "    <tr>\n",
       "      <th>uniform</th>\n",
       "      <td>2.163697</td>\n",
       "      <td>635.117623</td>\n",
       "      <td>663.388738</td>\n",
       "      <td>inf</td>\n",
       "      <td>0.539694</td>\n",
       "      <td>0.0</td>\n",
       "    </tr>\n",
       "    <tr>\n",
       "      <th>vonmises</th>\n",
       "      <td>6.258851</td>\n",
       "      <td>682.005457</td>\n",
       "      <td>724.412129</td>\n",
       "      <td>inf</td>\n",
       "      <td>2.996860</td>\n",
       "      <td>0.0</td>\n",
       "    </tr>\n",
       "    <tr>\n",
       "      <th>truncweibull_min</th>\n",
       "      <td>inf</td>\n",
       "      <td>inf</td>\n",
       "      <td>inf</td>\n",
       "      <td>inf</td>\n",
       "      <td>NaN</td>\n",
       "      <td>NaN</td>\n",
       "    </tr>\n",
       "    <tr>\n",
       "      <th>tukeylambda</th>\n",
       "      <td>inf</td>\n",
       "      <td>inf</td>\n",
       "      <td>inf</td>\n",
       "      <td>inf</td>\n",
       "      <td>NaN</td>\n",
       "      <td>NaN</td>\n",
       "    </tr>\n",
       "    <tr>\n",
       "      <th>truncpareto</th>\n",
       "      <td>inf</td>\n",
       "      <td>inf</td>\n",
       "      <td>inf</td>\n",
       "      <td>inf</td>\n",
       "      <td>NaN</td>\n",
       "      <td>NaN</td>\n",
       "    </tr>\n",
       "  </tbody>\n",
       "</table>\n",
       "</div>"
      ],
      "text/plain": [
       "                  sumsquare_error         aic         bic  kl_div  \\\n",
       "uniform                  2.163697  635.117623  663.388738     inf   \n",
       "vonmises                 6.258851  682.005457  724.412129     inf   \n",
       "truncweibull_min              inf         inf         inf     inf   \n",
       "tukeylambda                   inf         inf         inf     inf   \n",
       "truncpareto                   inf         inf         inf     inf   \n",
       "\n",
       "                  ks_statistic  ks_pvalue  \n",
       "uniform               0.539694        0.0  \n",
       "vonmises              2.996860        0.0  \n",
       "truncweibull_min           NaN        NaN  \n",
       "tukeylambda                NaN        NaN  \n",
       "truncpareto                NaN        NaN  "
      ]
     },
     "execution_count": 10,
     "metadata": {},
     "output_type": "execute_result"
    },
    {
     "data": {
      "image/png": "[encoded data removed]",
      "text/plain": [
       "<Figure size 640x480 with 1 Axes>"
      ]
     },
     "metadata": {},
     "output_type": "display_data"
    }
   ],
   "source": [
    "### >>> f = fitter.Fitter(data)\n",
    "\n",
    "### >>> # just a trick to use only 10 distributions instead of 80 to speed up the fitting\n",
    "### >>> f.distributions = f.distributions[0:10] + ['gamma']\n",
    "\n",
    "\n",
    "## Next 10 distributions\n",
    "f = Fitter(logtimepending)\n",
    "f.distributions = f.distributions[100:111]\n",
    "f.fit()\n",
    "#Generate the fitted distribution summary using .summary( ) method\n",
    "f.summary()"
   ]
  },
  {
   "cell_type": "markdown",
   "metadata": {},
   "source": [
    "## There were 8 distributions that were successfully fitted. \n",
    "## Below: looking at 4 of these"
   ]
  },
  {
   "cell_type": "code",
   "execution_count": 21,
   "metadata": {},
   "outputs": [
    {
     "data": {
      "text/html": [
       "<div>\n",
       "<style scoped>\n",
       "    .dataframe tbody tr th:only-of-type {\n",
       "        vertical-align: middle;\n",
       "    }\n",
       "\n",
       "    .dataframe tbody tr th {\n",
       "        vertical-align: top;\n",
       "    }\n",
       "\n",
       "    .dataframe thead th {\n",
       "        text-align: right;\n",
       "    }\n",
       "</style>\n",
       "<table border=\"1\" class=\"dataframe\">\n",
       "  <thead>\n",
       "    <tr style=\"text-align: right;\">\n",
       "      <th></th>\n",
       "      <th>sumsquare_error</th>\n",
       "      <th>aic</th>\n",
       "      <th>bic</th>\n",
       "      <th>kl_div</th>\n",
       "      <th>ks_statistic</th>\n",
       "      <th>ks_pvalue</th>\n",
       "    </tr>\n",
       "  </thead>\n",
       "  <tbody>\n",
       "    <tr>\n",
       "      <th>laplace</th>\n",
       "      <td>0.329083</td>\n",
       "      <td>2377.485597</td>\n",
       "      <td>2405.756711</td>\n",
       "      <td>inf</td>\n",
       "      <td>0.122363</td>\n",
       "      <td>0.0</td>\n",
       "    </tr>\n",
       "    <tr>\n",
       "      <th>norm</th>\n",
       "      <td>0.500773</td>\n",
       "      <td>7602.281701</td>\n",
       "      <td>7630.552815</td>\n",
       "      <td>inf</td>\n",
       "      <td>0.181816</td>\n",
       "      <td>0.0</td>\n",
       "    </tr>\n",
       "    <tr>\n",
       "      <th>gumbel_r</th>\n",
       "      <td>0.650080</td>\n",
       "      <td>337916.337923</td>\n",
       "      <td>337944.609037</td>\n",
       "      <td>0.349108</td>\n",
       "      <td>0.209042</td>\n",
       "      <td>0.0</td>\n",
       "    </tr>\n",
       "    <tr>\n",
       "      <th>vonmises</th>\n",
       "      <td>6.258851</td>\n",
       "      <td>682.005457</td>\n",
       "      <td>724.412129</td>\n",
       "      <td>inf</td>\n",
       "      <td>2.996860</td>\n",
       "      <td>0.0</td>\n",
       "    </tr>\n",
       "  </tbody>\n",
       "</table>\n",
       "</div>"
      ],
      "text/plain": [
       "          sumsquare_error            aic            bic    kl_div  \\\n",
       "laplace          0.329083    2377.485597    2405.756711       inf   \n",
       "norm             0.500773    7602.281701    7630.552815       inf   \n",
       "gumbel_r         0.650080  337916.337923  337944.609037  0.349108   \n",
       "vonmises         6.258851     682.005457     724.412129       inf   \n",
       "\n",
       "          ks_statistic  ks_pvalue  \n",
       "laplace       0.122363        0.0  \n",
       "norm          0.181816        0.0  \n",
       "gumbel_r      0.209042        0.0  \n",
       "vonmises      2.996860        0.0  "
      ]
     },
     "execution_count": 21,
     "metadata": {},
     "output_type": "execute_result"
    },
    {
     "data": {
      "image/png": "[encoded data removed]",
      "text/plain": [
       "<Figure size 640x480 with 1 Axes>"
      ]
     },
     "metadata": {},
     "output_type": "display_data"
    }
   ],
   "source": [
    "f = Fitter(logtimepending, timeout = 120)\n",
    "f.distributions =   ['gumbel_r'] + ['laplace'] + ['norm'] + ['vonmises'] \n",
    "#f.distributions = ['expon'] + ['gumbel_l'] + ['rayleigh'] + ['uniform']\n",
    "f.fit()\n",
    "#Generate the fitted distribution summary using .summary( ) method\n",
    "f.summary()"
   ]
  },
  {
   "cell_type": "code",
   "execution_count": 22,
   "metadata": {},
   "outputs": [
    {
     "data": {
      "text/plain": [
       "{'laplace': {'loc': 9.04310445260027, 'scale': 0.522213255235929}}"
      ]
     },
     "execution_count": 22,
     "metadata": {},
     "output_type": "execute_result"
    }
   ],
   "source": [
    "f.get_best()"
   ]
  },
  {
   "cell_type": "code",
   "execution_count": 16,
   "metadata": {},
   "outputs": [
    {
     "data": {
      "text/html": [
       "<div>\n",
       "<style scoped>\n",
       "    .dataframe tbody tr th:only-of-type {\n",
       "        vertical-align: middle;\n",
       "    }\n",
       "\n",
       "    .dataframe tbody tr th {\n",
       "        vertical-align: top;\n",
       "    }\n",
       "\n",
       "    .dataframe thead th {\n",
       "        text-align: right;\n",
       "    }\n",
       "</style>\n",
       "<table border=\"1\" class=\"dataframe\">\n",
       "  <thead>\n",
       "    <tr style=\"text-align: right;\">\n",
       "      <th></th>\n",
       "      <th>sumsquare_error</th>\n",
       "      <th>aic</th>\n",
       "      <th>bic</th>\n",
       "      <th>kl_div</th>\n",
       "      <th>ks_statistic</th>\n",
       "      <th>ks_pvalue</th>\n",
       "    </tr>\n",
       "  </thead>\n",
       "  <tbody>\n",
       "    <tr>\n",
       "      <th>gumbel_l</th>\n",
       "      <td>1.398942</td>\n",
       "      <td>24264.843750</td>\n",
       "      <td>24293.114864</td>\n",
       "      <td>inf</td>\n",
       "      <td>0.291910</td>\n",
       "      <td>0.0</td>\n",
       "    </tr>\n",
       "    <tr>\n",
       "      <th>rayleigh</th>\n",
       "      <td>1.946808</td>\n",
       "      <td>764.834223</td>\n",
       "      <td>793.105338</td>\n",
       "      <td>inf</td>\n",
       "      <td>0.482958</td>\n",
       "      <td>0.0</td>\n",
       "    </tr>\n",
       "    <tr>\n",
       "      <th>uniform</th>\n",
       "      <td>2.163697</td>\n",
       "      <td>635.117623</td>\n",
       "      <td>663.388738</td>\n",
       "      <td>inf</td>\n",
       "      <td>0.539694</td>\n",
       "      <td>0.0</td>\n",
       "    </tr>\n",
       "    <tr>\n",
       "      <th>expon</th>\n",
       "      <td>2.230627</td>\n",
       "      <td>704.355920</td>\n",
       "      <td>732.627035</td>\n",
       "      <td>inf</td>\n",
       "      <td>0.551268</td>\n",
       "      <td>0.0</td>\n",
       "    </tr>\n",
       "  </tbody>\n",
       "</table>\n",
       "</div>"
      ],
      "text/plain": [
       "          sumsquare_error           aic           bic  kl_div  ks_statistic  \\\n",
       "gumbel_l         1.398942  24264.843750  24293.114864     inf      0.291910   \n",
       "rayleigh         1.946808    764.834223    793.105338     inf      0.482958   \n",
       "uniform          2.163697    635.117623    663.388738     inf      0.539694   \n",
       "expon            2.230627    704.355920    732.627035     inf      0.551268   \n",
       "\n",
       "          ks_pvalue  \n",
       "gumbel_l        0.0  \n",
       "rayleigh        0.0  \n",
       "uniform         0.0  \n",
       "expon           0.0  "
      ]
     },
     "execution_count": 16,
     "metadata": {},
     "output_type": "execute_result"
    },
    {
     "data": {
      "image/png": "[encoded data removed]",
      "text/plain": [
       "<Figure size 640x480 with 1 Axes>"
      ]
     },
     "metadata": {},
     "output_type": "display_data"
    }
   ],
   "source": [
    "f = Fitter(logtimepending, timeout = 120)\n",
    "#f.distributions =   ['gumbel_r'] + ['laplace'] + ['norm'] + ['vonmises'] \n",
    "f.distributions = ['expon'] + ['gumbel_l'] + ['rayleigh'] + ['uniform']\n",
    "f.fit()\n",
    "#Generate the fitted distribution summary using .summary( ) method\n",
    "f.summary()"
   ]
  },
  {
   "cell_type": "code",
   "execution_count": 20,
   "metadata": {},
   "outputs": [
    {
     "data": {
      "text/plain": [
       "{'gumbel_l': {'loc': 9.491465253316088, 'scale': 1.911576808755735}}"
      ]
     },
     "execution_count": 20,
     "metadata": {},
     "output_type": "execute_result"
    }
   ],
   "source": [
    "f.get_best()"
   ]
  },
  {
   "cell_type": "code",
   "execution_count": null,
   "metadata": {},
   "outputs": [],
   "source": []
  },
  {
   "cell_type": "markdown",
   "metadata": {},
   "source": [
    "## New code ends here"
   ]
  },
  {
   "cell_type": "markdown",
   "metadata": {},
   "source": [
    "## ~ END distribution analysis here ~ (more plots and summary stats below)"
   ]
  },
  {
   "cell_type": "markdown",
   "metadata": {},
   "source": [
    "## Timepending Plot and summary statistics"
   ]
  },
  {
   "cell_type": "code",
   "execution_count": null,
   "metadata": {},
   "outputs": [],
   "source": [
    "#del df10\n",
    "# x is the 99th percentile for timepending\n",
    "df10  = df3[df3['timepending']<x]"
   ]
  },
  {
   "cell_type": "markdown",
   "metadata": {},
   "source": [
    "### Timepending in seconds"
   ]
  },
  {
   "cell_type": "code",
   "execution_count": null,
   "metadata": {
    "scrolled": true
   },
   "outputs": [],
   "source": [
    "#Plot of timepending that does not include the top 1%\n",
    "plt.figure(figsize=(16,4))\n",
    "sns.histplot(df10['timepending_'], bins=100, kde=True, edgecolor = 'black')\n",
    "plt.title('Distribution of Time Pending\\nTwo Weeks of Data Aug 25 to Sep 7 2023 \\nUp to 99th percentile shown')\n",
    "plt.xlabel('Time pending in seconds')\n",
    "plt.show()"
   ]
  },
  {
   "cell_type": "code",
   "execution_count": null,
   "metadata": {
    "scrolled": true
   },
   "outputs": [],
   "source": [
    "#NOTE: df3 has all finalized rows from the trimmed two week data set \n",
    "#          omitting missing values and timepending=0 (appropriate for summary statistics), \n",
    "#     d10 excludes the top 1% of timepending values (for the histogram only)\n",
    "df3['timepending_'].describe()"
   ]
  },
  {
   "cell_type": "markdown",
   "metadata": {},
   "source": [
    "### Timepending in milliseconds"
   ]
  },
  {
   "cell_type": "code",
   "execution_count": null,
   "metadata": {},
   "outputs": [],
   "source": [
    "#Plot of timepending that does not include the top 1%\n",
    "plt.figure(figsize=(16,4))\n",
    "sns.histplot(df10['timepending'], bins=100, kde=True, edgecolor = 'black')\n",
    "plt.title('Distribution of Time Pending\\nTwo Weeks of Data Aug 25 to Sep 7 2023 \\nUp to 99th percentile shown')\n",
    "plt.xlabel('Time pending in milliseconds')\n",
    "plt.show()"
   ]
  },
  {
   "cell_type": "code",
   "execution_count": null,
   "metadata": {},
   "outputs": [],
   "source": [
    "#NOTE: df3 has all finalized rows from the trimmed two week data set \n",
    "#          omitting missing values and timepending=0 (appropriate for summary statistics), \n",
    "#     d10 excludes the top 1% of timepending values (for the histogram only)\n",
    "df3['timepending'].describe()"
   ]
  },
  {
   "cell_type": "code",
   "execution_count": null,
   "metadata": {},
   "outputs": [],
   "source": []
  }
 ],
 "metadata": {
  "kernelspec": {
   "display_name": "Python 3 (ipykernel)",
   "language": "python",
   "name": "python3"
  },
  "language_info": {
   "codemirror_mode": {
    "name": "ipython",
    "version": 3
   },
   "file_extension": ".py",
   "mimetype": "text/x-python",
   "name": "python",
   "nbconvert_exporter": "python",
   "pygments_lexer": "ipython3",
   "version": "3.11.5"
  }
 },
 "nbformat": 4,
 "nbformat_minor": 4
}
