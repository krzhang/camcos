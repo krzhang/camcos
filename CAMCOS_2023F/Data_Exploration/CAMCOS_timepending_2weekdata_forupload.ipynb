{
 "cells": [
  {
   "cell_type": "markdown",
   "metadata": {},
   "source": [
    "# Work on timepending variable, using two weeks of data\n",
    "two weeks: (08/25/23-09/07/23), code reference date: 11/11/23\n",
    "### Separately created master_finalized_txns_limited.csv \n",
    "### from master_finalized_txns.csv.gz (which Tara created)\n",
    "(status in (confirmed, failed))\n",
    "### Remove rows where timepending is missing, or timepending = 0\n",
    "### Generate summary statistics, histogram for timepending\n"
   ]
  },
  {
   "cell_type": "code",
   "execution_count": 1,
   "metadata": {},
   "outputs": [],
   "source": [
    "import pandas as pd\n",
    "import numpy as np\n",
    "import matplotlib.pyplot as plt\n",
    "\n",
    "import seaborn as sns\n",
    "import datetime\n",
    "import scipy\n",
    "\n",
    "import gzip"
   ]
  },
  {
   "cell_type": "code",
   "execution_count": 2,
   "metadata": {},
   "outputs": [
    {
     "data": {
      "text/plain": [
       "(10505807, 4)"
      ]
     },
     "execution_count": 2,
     "metadata": {},
     "output_type": "execute_result"
    }
   ],
   "source": [
    "from pathlib import Path\n",
    "\n",
    "# Data folder location\n",
    "#### ADD PATH HERE ####\n",
    "\n",
    "#read in TWO WEEK, trimmed and finalized, LIMITED mempool data set\n",
    "\n",
    "limited_df = data_folder/'master_finalized_txns_limited.csv'\n",
    "df = pd.read_csv(limited_df)\n",
    "\n",
    "\n",
    "df = df.loc[: , ['basefeepergas', 'maxpriorityfeepergas', 'maxfeepergas', 'timepending']]\n",
    "df.shape\n",
    "\n"
   ]
  },
  {
   "cell_type": "code",
   "execution_count": null,
   "metadata": {},
   "outputs": [],
   "source": [
    "#df.head()"
   ]
  },
  {
   "cell_type": "code",
   "execution_count": 23,
   "metadata": {},
   "outputs": [],
   "source": [
    "#del limited_df\n",
    "#del df3\n",
    "#del df2\n",
    "#del df9\n",
    "#del df10"
   ]
  },
  {
   "cell_type": "code",
   "execution_count": 4,
   "metadata": {},
   "outputs": [
    {
     "data": {
      "text/plain": [
       "count    1.020627e+07\n",
       "mean     3.474255e+05\n",
       "std      5.420721e+07\n",
       "min      0.000000e+00\n",
       "25%      5.146000e+03\n",
       "50%      8.441000e+03\n",
       "75%      1.132800e+04\n",
       "max      1.554235e+10\n",
       "Name: timepending, dtype: float64"
      ]
     },
     "execution_count": 4,
     "metadata": {},
     "output_type": "execute_result"
    }
   ],
   "source": [
    "df.timepending.describe()"
   ]
  },
  {
   "cell_type": "markdown",
   "metadata": {},
   "source": [
    "## Remove rows where timepending is missing, or where timepending = 0 \n",
    "### (only zero for private transactions that would not show up in mempool)"
   ]
  },
  {
   "cell_type": "code",
   "execution_count": 16,
   "metadata": {},
   "outputs": [],
   "source": [
    "del df2\n",
    "del df3"
   ]
  },
  {
   "cell_type": "code",
   "execution_count": 17,
   "metadata": {},
   "outputs": [
    {
     "data": {
      "text/plain": [
       "(10176150, 5)"
      ]
     },
     "execution_count": 17,
     "metadata": {},
     "output_type": "execute_result"
    }
   ],
   "source": [
    "#Remove rows where timepending is 0, or is Nan\n",
    "df2 = df.dropna( how = 'all', subset=['timepending'])\n",
    "df2.shape\n",
    "\n",
    "df3 = df2[df2.timepending != 0].copy()\n",
    "\n",
    "#convert to seconds (timepending is in milliseconds)\n",
    "df3['timepending_'] = df3['timepending']/1000\n",
    "\n",
    "df3.shape"
   ]
  },
  {
   "cell_type": "code",
   "execution_count": 18,
   "metadata": {},
   "outputs": [
    {
     "data": {
      "text/plain": [
       "252917.54999999888"
      ]
     },
     "execution_count": 18,
     "metadata": {},
     "output_type": "execute_result"
    }
   ],
   "source": [
    "#find 99th percentile for timepending\n",
    "#(NOTE: percentile function was not working before with timepending: rows with missing timepending had not been removed)\n",
    "#np.nanpercentile(df3['timepending'], 99)\n",
    "\n",
    "x = np.percentile(df3['timepending'], 99)\n",
    "x"
   ]
  },
  {
   "cell_type": "code",
   "execution_count": 19,
   "metadata": {},
   "outputs": [],
   "source": [
    "#del df10\n",
    "df10  = df3[df3['timepending']<x]"
   ]
  },
  {
   "cell_type": "markdown",
   "metadata": {},
   "source": [
    "## Timepending Plot and summary statistics"
   ]
  },
  {
   "cell_type": "markdown",
   "metadata": {},
   "source": [
    "### Timepending in seconds"
   ]
  },
  {
   "cell_type": "code",
   "execution_count": 20,
   "metadata": {
    "scrolled": true
   },
   "outputs": [
    {
     "data": {
      "image/png": "[encoded data removed]",
      "text/plain": [
       "<Figure size 1152x288 with 1 Axes>"
      ]
     },
     "metadata": {
      "needs_background": "light"
     },
     "output_type": "display_data"
    }
   ],
   "source": [
    "#Plot of timepending that does not include the top 1%\n",
    "plt.figure(figsize=(16,4))\n",
    "sns.histplot(df10['timepending_'], bins=100, kde=True, edgecolor = 'black')\n",
    "plt.title('Distribution of Time Pending\\nTwo Weeks of Data Aug 25 to Sep 7 2023 \\nUp to 99th percentile shown')\n",
    "plt.xlabel('Time pending in seconds')\n",
    "plt.show()"
   ]
  },
  {
   "cell_type": "code",
   "execution_count": 13,
   "metadata": {
    "scrolled": true
   },
   "outputs": [
    {
     "data": {
      "text/plain": [
       "count    1.017615e+07\n",
       "mean     3.484537e+05\n",
       "std      5.428736e+07\n",
       "min      1.000000e+00\n",
       "25%      5.176000e+03\n",
       "50%      8.460000e+03\n",
       "75%      1.133600e+04\n",
       "max      1.554235e+10\n",
       "Name: timepending, dtype: float64"
      ]
     },
     "execution_count": 13,
     "metadata": {},
     "output_type": "execute_result"
    }
   ],
   "source": [
    "#NOTE: df3 has all finalized rows from the trimmed two week data set \n",
    "#          omitting missing values and timepending=0 (appropriate for summary statistics), \n",
    "#     d10 excludes the top 1% of timepending values (for the histogram only)\n",
    "df3['timepending_'].describe()"
   ]
  },
  {
   "cell_type": "markdown",
   "metadata": {},
   "source": [
    "### Timepending in milliseconds"
   ]
  },
  {
   "cell_type": "code",
   "execution_count": 21,
   "metadata": {},
   "outputs": [
    {
     "data": {
      "image/png": "[encoded data removed]",
      "text/plain": [
       "<Figure size 1152x288 with 1 Axes>"
      ]
     },
     "metadata": {
      "needs_background": "light"
     },
     "output_type": "display_data"
    }
   ],
   "source": [
    "#Plot of timepending that does not include the top 1%\n",
    "plt.figure(figsize=(16,4))\n",
    "sns.histplot(df10['timepending'], bins=100, kde=True, edgecolor = 'black')\n",
    "plt.title('Distribution of Time Pending\\nTwo Weeks of Data Aug 25 to Sep 7 2023 \\nUp to 99th percentile shown')\n",
    "plt.xlabel('Time pending in milliseconds')\n",
    "plt.show()"
   ]
  },
  {
   "cell_type": "code",
   "execution_count": 22,
   "metadata": {},
   "outputs": [
    {
     "data": {
      "text/plain": [
       "count    1.017615e+07\n",
       "mean     3.484537e+05\n",
       "std      5.428736e+07\n",
       "min      1.000000e+00\n",
       "25%      5.176000e+03\n",
       "50%      8.460000e+03\n",
       "75%      1.133600e+04\n",
       "max      1.554235e+10\n",
       "Name: timepending, dtype: float64"
      ]
     },
     "execution_count": 22,
     "metadata": {},
     "output_type": "execute_result"
    }
   ],
   "source": [
    "#NOTE: df3 has all finalized rows from the trimmed two week data set \n",
    "#          omitting missing values and timepending=0 (appropriate for summary statistics), \n",
    "#     d10 excludes the top 1% of timepending values (for the histogram only)\n",
    "df3['timepending'].describe()"
   ]
  },
  {
   "cell_type": "code",
   "execution_count": null,
   "metadata": {},
   "outputs": [],
   "source": []
  }
 ],
 "metadata": {
  "kernelspec": {
   "display_name": "Python 3 (ipykernel)",
   "language": "python",
   "name": "python3"
  },
  "language_info": {
   "codemirror_mode": {
    "name": "ipython",
    "version": 3
   },
   "file_extension": ".py",
   "mimetype": "text/x-python",
   "name": "python",
   "nbconvert_exporter": "python",
   "pygments_lexer": "ipython3",
   "version": "3.11.5"
  }
 },
 "nbformat": 4,
 "nbformat_minor": 4
}
