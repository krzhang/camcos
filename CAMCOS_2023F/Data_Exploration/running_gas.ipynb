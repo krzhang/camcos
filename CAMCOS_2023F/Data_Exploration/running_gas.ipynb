{
 "cells": [
  {
   "cell_type": "markdown",
   "metadata": {},
   "source": [
    "# get a running total of gas availible in the mempool sample data"
   ]
  },
  {
   "cell_type": "code",
   "execution_count": 1,
   "metadata": {},
   "outputs": [],
   "source": [
    "import pandas as pd\n",
    "import numpy as np\n",
    "import matplotlib.pyplot as plt"
   ]
  },
  {
   "cell_type": "code",
   "execution_count": 2,
   "metadata": {},
   "outputs": [
    {
     "name": "stdout",
     "output_type": "stream",
     "text": [
      "Dataset shape:  (403212, 27)\n"
     ]
    },
    {
     "data": {
      "text/html": [
       "<div>\n",
       "<style scoped>\n",
       "    .dataframe tbody tr th:only-of-type {\n",
       "        vertical-align: middle;\n",
       "    }\n",
       "\n",
       "    .dataframe tbody tr th {\n",
       "        vertical-align: top;\n",
       "    }\n",
       "\n",
       "    .dataframe thead th {\n",
       "        text-align: right;\n",
       "    }\n",
       "</style>\n",
       "<table border=\"1\" class=\"dataframe\">\n",
       "  <thead>\n",
       "    <tr style=\"text-align: right;\">\n",
       "      <th></th>\n",
       "      <th>detecttime</th>\n",
       "      <th>hash</th>\n",
       "      <th>status</th>\n",
       "      <th>region</th>\n",
       "      <th>reorg</th>\n",
       "      <th>replace</th>\n",
       "      <th>curblocknumber</th>\n",
       "      <th>failurereason</th>\n",
       "      <th>blockspending</th>\n",
       "      <th>timepending</th>\n",
       "      <th>...</th>\n",
       "      <th>network</th>\n",
       "      <th>type</th>\n",
       "      <th>maxpriorityfeepergas</th>\n",
       "      <th>maxfeepergas</th>\n",
       "      <th>basefeepergas</th>\n",
       "      <th>dropreason</th>\n",
       "      <th>rejectionreason</th>\n",
       "      <th>stuck</th>\n",
       "      <th>gasused</th>\n",
       "      <th>detect_date</th>\n",
       "    </tr>\n",
       "  </thead>\n",
       "  <tbody>\n",
       "    <tr>\n",
       "      <th>0</th>\n",
       "      <td>2023-02-24T00:00:00.167Z</td>\n",
       "      <td>0x2b7cd2e8fd547f4ef784e6713a8c06926a0ff1ced45b...</td>\n",
       "      <td>pending</td>\n",
       "      <td>us-east-1</td>\n",
       "      <td>NaN</td>\n",
       "      <td>NaN</td>\n",
       "      <td>16694512</td>\n",
       "      <td>none</td>\n",
       "      <td>NaN</td>\n",
       "      <td>NaN</td>\n",
       "      <td>...</td>\n",
       "      <td>main</td>\n",
       "      <td>2</td>\n",
       "      <td>3.000000e+09</td>\n",
       "      <td>4.702304e+10</td>\n",
       "      <td>28122281784</td>\n",
       "      <td>NaN</td>\n",
       "      <td>NaN</td>\n",
       "      <td>False</td>\n",
       "      <td>-1.0</td>\n",
       "      <td>2023-02-24</td>\n",
       "    </tr>\n",
       "    <tr>\n",
       "      <th>1</th>\n",
       "      <td>2023-02-24T00:00:00.253Z</td>\n",
       "      <td>0x2b7cd2e8fd547f4ef784e6713a8c06926a0ff1ced45b...</td>\n",
       "      <td>pending</td>\n",
       "      <td>eu-central-1</td>\n",
       "      <td>NaN</td>\n",
       "      <td>NaN</td>\n",
       "      <td>16694512</td>\n",
       "      <td>none</td>\n",
       "      <td>NaN</td>\n",
       "      <td>NaN</td>\n",
       "      <td>...</td>\n",
       "      <td>main</td>\n",
       "      <td>2</td>\n",
       "      <td>3.000000e+09</td>\n",
       "      <td>4.702304e+10</td>\n",
       "      <td>28122281784</td>\n",
       "      <td>NaN</td>\n",
       "      <td>NaN</td>\n",
       "      <td>False</td>\n",
       "      <td>-1.0</td>\n",
       "      <td>2023-02-24</td>\n",
       "    </tr>\n",
       "    <tr>\n",
       "      <th>2</th>\n",
       "      <td>2023-02-24T00:00:00.280Z</td>\n",
       "      <td>0x2b7cd2e8fd547f4ef784e6713a8c06926a0ff1ced45b...</td>\n",
       "      <td>pending</td>\n",
       "      <td>ap-southeast-1</td>\n",
       "      <td>NaN</td>\n",
       "      <td>NaN</td>\n",
       "      <td>16694512</td>\n",
       "      <td>none</td>\n",
       "      <td>NaN</td>\n",
       "      <td>NaN</td>\n",
       "      <td>...</td>\n",
       "      <td>main</td>\n",
       "      <td>2</td>\n",
       "      <td>3.000000e+09</td>\n",
       "      <td>4.702304e+10</td>\n",
       "      <td>28122281784</td>\n",
       "      <td>NaN</td>\n",
       "      <td>NaN</td>\n",
       "      <td>False</td>\n",
       "      <td>-1.0</td>\n",
       "      <td>2023-02-24</td>\n",
       "    </tr>\n",
       "    <tr>\n",
       "      <th>3</th>\n",
       "      <td>2023-02-24T00:00:00.374Z</td>\n",
       "      <td>0x44bfc98df9a35e3cd4f144bba9e89afdb12122747dda...</td>\n",
       "      <td>pending</td>\n",
       "      <td>eu-central-1</td>\n",
       "      <td>NaN</td>\n",
       "      <td>NaN</td>\n",
       "      <td>16694512</td>\n",
       "      <td>none</td>\n",
       "      <td>NaN</td>\n",
       "      <td>NaN</td>\n",
       "      <td>...</td>\n",
       "      <td>main</td>\n",
       "      <td>2</td>\n",
       "      <td>1.000000e+09</td>\n",
       "      <td>4.604646e+10</td>\n",
       "      <td>28122281784</td>\n",
       "      <td>NaN</td>\n",
       "      <td>NaN</td>\n",
       "      <td>False</td>\n",
       "      <td>-1.0</td>\n",
       "      <td>2023-02-24</td>\n",
       "    </tr>\n",
       "    <tr>\n",
       "      <th>4</th>\n",
       "      <td>2023-02-24T00:00:00.383Z</td>\n",
       "      <td>0x44bfc98df9a35e3cd4f144bba9e89afdb12122747dda...</td>\n",
       "      <td>pending</td>\n",
       "      <td>us-east-1</td>\n",
       "      <td>NaN</td>\n",
       "      <td>NaN</td>\n",
       "      <td>16694512</td>\n",
       "      <td>none</td>\n",
       "      <td>NaN</td>\n",
       "      <td>NaN</td>\n",
       "      <td>...</td>\n",
       "      <td>main</td>\n",
       "      <td>2</td>\n",
       "      <td>1.000000e+09</td>\n",
       "      <td>4.604646e+10</td>\n",
       "      <td>28122281784</td>\n",
       "      <td>NaN</td>\n",
       "      <td>NaN</td>\n",
       "      <td>False</td>\n",
       "      <td>-1.0</td>\n",
       "      <td>2023-02-24</td>\n",
       "    </tr>\n",
       "  </tbody>\n",
       "</table>\n",
       "<p>5 rows × 27 columns</p>\n",
       "</div>"
      ],
      "text/plain": [
       "                 detecttime  \\\n",
       "0  2023-02-24T00:00:00.167Z   \n",
       "1  2023-02-24T00:00:00.253Z   \n",
       "2  2023-02-24T00:00:00.280Z   \n",
       "3  2023-02-24T00:00:00.374Z   \n",
       "4  2023-02-24T00:00:00.383Z   \n",
       "\n",
       "                                                hash   status          region  \\\n",
       "0  0x2b7cd2e8fd547f4ef784e6713a8c06926a0ff1ced45b...  pending       us-east-1   \n",
       "1  0x2b7cd2e8fd547f4ef784e6713a8c06926a0ff1ced45b...  pending    eu-central-1   \n",
       "2  0x2b7cd2e8fd547f4ef784e6713a8c06926a0ff1ced45b...  pending  ap-southeast-1   \n",
       "3  0x44bfc98df9a35e3cd4f144bba9e89afdb12122747dda...  pending    eu-central-1   \n",
       "4  0x44bfc98df9a35e3cd4f144bba9e89afdb12122747dda...  pending       us-east-1   \n",
       "\n",
       "   reorg replace  curblocknumber failurereason  blockspending  timepending  \\\n",
       "0    NaN     NaN        16694512          none            NaN          NaN   \n",
       "1    NaN     NaN        16694512          none            NaN          NaN   \n",
       "2    NaN     NaN        16694512          none            NaN          NaN   \n",
       "3    NaN     NaN        16694512          none            NaN          NaN   \n",
       "4    NaN     NaN        16694512          none            NaN          NaN   \n",
       "\n",
       "   ...  network  type  maxpriorityfeepergas  maxfeepergas basefeepergas  \\\n",
       "0  ...     main     2          3.000000e+09  4.702304e+10   28122281784   \n",
       "1  ...     main     2          3.000000e+09  4.702304e+10   28122281784   \n",
       "2  ...     main     2          3.000000e+09  4.702304e+10   28122281784   \n",
       "3  ...     main     2          1.000000e+09  4.604646e+10   28122281784   \n",
       "4  ...     main     2          1.000000e+09  4.604646e+10   28122281784   \n",
       "\n",
       "  dropreason rejectionreason  stuck  gasused  detect_date  \n",
       "0        NaN             NaN  False     -1.0   2023-02-24  \n",
       "1        NaN             NaN  False     -1.0   2023-02-24  \n",
       "2        NaN             NaN  False     -1.0   2023-02-24  \n",
       "3        NaN             NaN  False     -1.0   2023-02-24  \n",
       "4        NaN             NaN  False     -1.0   2023-02-24  \n",
       "\n",
       "[5 rows x 27 columns]"
      ]
     },
     "execution_count": 2,
     "metadata": {},
     "output_type": "execute_result"
    }
   ],
   "source": [
    "# read in sample.csv into a dataframe with \\t delimiter\n",
    "df = pd.read_csv('sample.csv', sep='\\t')\n",
    "print(\"Dataset shape: \", df.shape)\n",
    "df.head()"
   ]
  },
  {
   "cell_type": "code",
   "execution_count": 3,
   "metadata": {},
   "outputs": [
    {
     "name": "stdout",
     "output_type": "stream",
     "text": [
      "Unique regions:  ['us-east-1' 'eu-central-1' 'ap-southeast-1']\n"
     ]
    }
   ],
   "source": [
    "# get unique regions\n",
    "print(\"Unique regions: \", df['region'].unique())"
   ]
  },
  {
   "cell_type": "code",
   "execution_count": 4,
   "metadata": {},
   "outputs": [],
   "source": [
    "# keep only the rows where region == 'us-east-1'\n",
    "df_us = df[df['region'] == 'us-east-1']"
   ]
  },
  {
   "cell_type": "code",
   "execution_count": 5,
   "metadata": {},
   "outputs": [],
   "source": [
    "# sort df_us by detecttime\n",
    "df_us = df_us.sort_values(by=['detecttime'])\n",
    "df_us['avail_gas'] = 0"
   ]
  },
  {
   "cell_type": "code",
   "execution_count": 6,
   "metadata": {},
   "outputs": [],
   "source": [
    "total_gas = 0\n",
    "for index, row in df_us.iterrows():\n",
    "    if row['status'] == 'pending':\n",
    "        total_gas += row['gas']\n",
    "        df_us.at[index, 'avail_gas'] = total_gas\n",
    "    elif row['status'] == 'evicted':\n",
    "        total_gas -= row['gas']\n",
    "        df_us.at[index, 'avail_gas'] = total_gas\n",
    "    else:\n",
    "        df_us.at[index, 'avail_gas'] = total_gas"
   ]
  },
  {
   "cell_type": "code",
   "execution_count": 7,
   "metadata": {},
   "outputs": [
    {
     "name": "stdout",
     "output_type": "stream",
     "text": [
      "                  detecttime  avail_gas\n",
      "0   2023-02-24T00:00:00.167Z     500000\n",
      "4   2023-02-24T00:00:00.383Z    3300000\n",
      "5   2023-02-24T00:00:00.399Z    3361792\n",
      "6   2023-02-24T00:00:00.425Z    6161792\n",
      "7   2023-02-24T00:00:00.431Z    6182792\n",
      "8   2023-02-24T00:00:00.450Z    8982792\n",
      "12  2023-02-24T00:00:00.497Z   11782792\n",
      "14  2023-02-24T00:00:00.537Z   11823878\n",
      "16  2023-02-24T00:00:00.568Z   11940778\n",
      "18  2023-02-24T00:00:00.613Z   11989582\n"
     ]
    }
   ],
   "source": [
    "# the head of detecttime and avail_gas\n",
    "print(df_us[['detecttime', 'avail_gas']].head(10))"
   ]
  },
  {
   "cell_type": "code",
   "execution_count": null,
   "metadata": {},
   "outputs": [],
   "source": []
  }
 ],
 "metadata": {
  "kernelspec": {
   "display_name": "base",
   "language": "python",
   "name": "python3"
  },
  "language_info": {
   "codemirror_mode": {
    "name": "ipython",
    "version": 3
   },
   "file_extension": ".py",
   "mimetype": "text/x-python",
   "name": "python",
   "nbconvert_exporter": "python",
   "pygments_lexer": "ipython3",
   "version": "3.9.16"
  }
 },
 "nbformat": 4,
 "nbformat_minor": 2
}
