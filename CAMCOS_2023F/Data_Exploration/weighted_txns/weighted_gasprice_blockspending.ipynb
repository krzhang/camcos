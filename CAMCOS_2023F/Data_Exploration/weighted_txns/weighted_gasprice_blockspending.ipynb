{
 "cells": [
  {
   "cell_type": "code",
   "execution_count": 1,
   "metadata": {},
   "outputs": [],
   "source": [
    "import pandas as pd\n",
    "import numpy as np\n",
    "import pickle\n",
    "import seaborn as sns\n",
    "import matplotlib.pyplot as plt"
   ]
  },
  {
   "cell_type": "code",
   "execution_count": 2,
   "metadata": {},
   "outputs": [],
   "source": [
    "master_df = '/Volumes/Seagate/misc/master.csv.gz'\n",
    "df = pd.read_csv(master_df, compression='gzip', sep='\\t')"
   ]
  },
  {
   "cell_type": "code",
   "execution_count": 3,
   "metadata": {},
   "outputs": [],
   "source": [
    "df = df[(df['status'] == 'confirmed') | (df['status'] == 'failed')]\n",
    "df = df[df['timepending'] > 0]\n",
    "df = df.drop_duplicates(subset=['hash'], keep='first')"
   ]
  },
  {
   "cell_type": "code",
   "execution_count": 4,
   "metadata": {},
   "outputs": [],
   "source": [
    "# create a new column for actual tip\n",
    "# actual tip = min(maxpriorityfee, (maxfeefergas - basefeepergas))\n",
    "df['mfpglessbfpg']=df['maxfeepergas']-df['basefeepergas']\n",
    "df['actualtip']=df[['maxpriorityfeepergas','mfpglessbfpg']].min(axis=1)"
   ]
  },
  {
   "cell_type": "code",
   "execution_count": 5,
   "metadata": {},
   "outputs": [],
   "source": [
    "df['weighted_value']= df['actualtip'] * df['blockspending']"
   ]
  },
  {
   "cell_type": "code",
   "execution_count": 6,
   "metadata": {},
   "outputs": [
    {
     "data": {
      "text/html": [
       "<div>\n",
       "<style scoped>\n",
       "    .dataframe tbody tr th:only-of-type {\n",
       "        vertical-align: middle;\n",
       "    }\n",
       "\n",
       "    .dataframe tbody tr th {\n",
       "        vertical-align: top;\n",
       "    }\n",
       "\n",
       "    .dataframe thead th {\n",
       "        text-align: right;\n",
       "    }\n",
       "</style>\n",
       "<table border=\"1\" class=\"dataframe\">\n",
       "  <thead>\n",
       "    <tr style=\"text-align: right;\">\n",
       "      <th></th>\n",
       "      <th>date_added</th>\n",
       "      <th>address</th>\n",
       "      <th>name</th>\n",
       "    </tr>\n",
       "  </thead>\n",
       "  <tbody>\n",
       "    <tr>\n",
       "      <th>0</th>\n",
       "      <td>2020-09-10</td>\n",
       "      <td>0x8576acc5c05d6ce88f4e49bf65bdf0c62f91353c</td>\n",
       "      <td>ANDREYEV, Anton Nikolaeyvich</td>\n",
       "    </tr>\n",
       "    <tr>\n",
       "      <th>1</th>\n",
       "      <td>2020-09-10</td>\n",
       "      <td>0x901bb9583b24d97e995513c6778dc6888ab6870e</td>\n",
       "      <td>LIFSHITS, Artem Mikhaylovich</td>\n",
       "    </tr>\n",
       "    <tr>\n",
       "      <th>2</th>\n",
       "      <td>2020-09-10</td>\n",
       "      <td>0xa7e5d5a720f06526557c513402f2e6b5fa20b008</td>\n",
       "      <td>LIFSHITS, Artem Mikhaylovich</td>\n",
       "    </tr>\n",
       "    <tr>\n",
       "      <th>3</th>\n",
       "      <td>2020-09-16</td>\n",
       "      <td>0xd882cfc20f52f2599d84b8e8d58c7fb62cfe344b</td>\n",
       "      <td>KARASAVIDI, Dmitrii</td>\n",
       "    </tr>\n",
       "    <tr>\n",
       "      <th>4</th>\n",
       "      <td>2020-09-16</td>\n",
       "      <td>0x7f367cc41522ce07553e823bf3be79a889debe1b</td>\n",
       "      <td>POTEKHIN, Danil</td>\n",
       "    </tr>\n",
       "    <tr>\n",
       "      <th>...</th>\n",
       "      <td>...</td>\n",
       "      <td>...</td>\n",
       "      <td>...</td>\n",
       "    </tr>\n",
       "    <tr>\n",
       "      <th>142</th>\n",
       "      <td>2023-08-23</td>\n",
       "      <td>0x797d7ae72ebddcdea2a346c1834e04d1f8df102b</td>\n",
       "      <td>SEMENOV, Roman</td>\n",
       "    </tr>\n",
       "    <tr>\n",
       "      <th>143</th>\n",
       "      <td>2023-08-23</td>\n",
       "      <td>0x931546D9e66836AbF687d2bc64B30407bAc8C568</td>\n",
       "      <td>SEMENOV, Roman</td>\n",
       "    </tr>\n",
       "    <tr>\n",
       "      <th>144</th>\n",
       "      <td>2023-08-23</td>\n",
       "      <td>0x43fa21d92141BA9db43052492E0DeEE5aa5f0A93</td>\n",
       "      <td>SEMENOV, Roman</td>\n",
       "    </tr>\n",
       "    <tr>\n",
       "      <th>145</th>\n",
       "      <td>2023-08-23</td>\n",
       "      <td>0x6be0ae71e6c41f2f9d0d1a3b8d0f75e6f6a0b46e</td>\n",
       "      <td>SEMENOV, Roman</td>\n",
       "    </tr>\n",
       "    <tr>\n",
       "      <th>146</th>\n",
       "      <td>2023-09-26</td>\n",
       "      <td>0x9c2bc757b66f24d60f016b6237f8cdd414a879fa</td>\n",
       "      <td>JIMENEZ CASTRO, Mario Alberto</td>\n",
       "    </tr>\n",
       "  </tbody>\n",
       "</table>\n",
       "<p>147 rows × 3 columns</p>\n",
       "</div>"
      ],
      "text/plain": [
       "     date_added                                     address  \\\n",
       "0    2020-09-10  0x8576acc5c05d6ce88f4e49bf65bdf0c62f91353c   \n",
       "1    2020-09-10  0x901bb9583b24d97e995513c6778dc6888ab6870e   \n",
       "2    2020-09-10  0xa7e5d5a720f06526557c513402f2e6b5fa20b008   \n",
       "3    2020-09-16  0xd882cfc20f52f2599d84b8e8d58c7fb62cfe344b   \n",
       "4    2020-09-16  0x7f367cc41522ce07553e823bf3be79a889debe1b   \n",
       "..          ...                                         ...   \n",
       "142  2023-08-23  0x797d7ae72ebddcdea2a346c1834e04d1f8df102b   \n",
       "143  2023-08-23  0x931546D9e66836AbF687d2bc64B30407bAc8C568   \n",
       "144  2023-08-23  0x43fa21d92141BA9db43052492E0DeEE5aa5f0A93   \n",
       "145  2023-08-23  0x6be0ae71e6c41f2f9d0d1a3b8d0f75e6f6a0b46e   \n",
       "146  2023-09-26  0x9c2bc757b66f24d60f016b6237f8cdd414a879fa   \n",
       "\n",
       "                              name  \n",
       "0     ANDREYEV, Anton Nikolaeyvich  \n",
       "1     LIFSHITS, Artem Mikhaylovich  \n",
       "2     LIFSHITS, Artem Mikhaylovich  \n",
       "3              KARASAVIDI, Dmitrii  \n",
       "4                  POTEKHIN, Danil  \n",
       "..                             ...  \n",
       "142                 SEMENOV, Roman  \n",
       "143                 SEMENOV, Roman  \n",
       "144                 SEMENOV, Roman  \n",
       "145                 SEMENOV, Roman  \n",
       "146  JIMENEZ CASTRO, Mario Alberto  \n",
       "\n",
       "[147 rows x 3 columns]"
      ]
     },
     "execution_count": 6,
     "metadata": {},
     "output_type": "execute_result"
    }
   ],
   "source": [
    "# load in OFAC.csv\n",
    "ofac = '/Users/tara/Documents/SJSU/CAMCOS/camcos/CAMCOS_2023F/Data_Exploration/OFAC.csv'\n",
    "ofac_df = pd.read_csv(ofac)\n",
    "ofac_df"
   ]
  },
  {
   "cell_type": "code",
   "execution_count": 7,
   "metadata": {},
   "outputs": [],
   "source": [
    "# if the toaddress or fromaddress is in the ofac list, then df['ofac'] = 1, else df['ofac'] = 0\n",
    "df['ofac'] = np.where(df['toaddress'].isin(ofac_df['address']) | df['fromaddress'].isin(ofac_df['address']), 1, 0)"
   ]
  },
  {
   "cell_type": "code",
   "execution_count": 27,
   "metadata": {},
   "outputs": [
    {
     "data": {
      "image/png": "[encoded data removed]",
      "text/plain": [
       "<Figure size 640x480 with 1 Axes>"
      ]
     },
     "metadata": {},
     "output_type": "display_data"
    }
   ],
   "source": [
    "# plot a historgram of the weighted value, color by column df['ofac']\n",
    "# subset df['weighted_value] > 0 for log_scale calculation (otherwise we divide by 0)\n",
    "\n",
    "df2 = df[df['weighted_value'] > 0]\n",
    "sns.histplot(data=df2, x='weighted_value', hue='ofac', bins=100, log_scale=True)\n",
    "plt.show()\n"
   ]
  },
  {
   "cell_type": "code",
   "execution_count": 8,
   "metadata": {},
   "outputs": [
    {
     "data": {
      "image/png": "[encoded data removed]",
      "text/plain": [
       "<Figure size 1000x600 with 1 Axes>"
      ]
     },
     "metadata": {},
     "output_type": "display_data"
    }
   ],
   "source": [
    "# plot a historgram of the weighted value, color by column df['ofac']\n",
    "\n",
    "plt.figure(figsize=(10,6))\n",
    "\n",
    "sns.histplot(data=df, x='weighted_value', hue='ofac', bins=100) # , log_scale=True)\n",
    "\n",
    "plt.title('Weighted Value of Transactions')\n",
    "plt.xlabel('Weighted Value')\n",
    "plt.ylabel('Number of Transactions')\n",
    "\n",
    "plt.show()\n"
   ]
  },
  {
   "cell_type": "code",
   "execution_count": null,
   "metadata": {},
   "outputs": [],
   "source": []
  }
 ],
 "metadata": {
  "kernelspec": {
   "display_name": "camcos",
   "language": "python",
   "name": "python3"
  },
  "language_info": {
   "codemirror_mode": {
    "name": "ipython",
    "version": 3
   },
   "file_extension": ".py",
   "mimetype": "text/x-python",
   "name": "python",
   "nbconvert_exporter": "python",
   "pygments_lexer": "ipython3",
   "version": "3.11.5"
  }
 },
 "nbformat": 4,
 "nbformat_minor": 2
}
