{
 "cells": [
  {
   "cell_type": "markdown",
   "metadata": {},
   "source": [
    "# Process hourly files"
   ]
  },
  {
   "cell_type": "code",
   "execution_count": null,
   "metadata": {},
   "outputs": [],
   "source": [
    "import glob\n",
    "import pandas as pd\n",
    "import os"
   ]
  },
  {
   "cell_type": "code",
   "execution_count": null,
   "metadata": {},
   "outputs": [],
   "source": [
    "data_folders_path = '/Volumes/Seagate/misc/historical_data'\n",
    "destination_path = '/Volumes/Seagate/misc'\n",
    "\n",
    "data_folders = glob.glob(data_folders_path + \"/2023*\")\n",
    "data_folders.sort()\n",
    "print(data_folders)"
   ]
  },
  {
   "cell_type": "code",
   "execution_count": null,
   "metadata": {},
   "outputs": [],
   "source": [
    "cols_to_keep = ['detecttime', 'hash', 'status', 'curblocknumber', 'blockspending', 'timepending', 'gas', 'gasprice', 'toaddress', 'fromaddress', 'maxpriorityfeepergas', 'maxfeepergas','basefeepergas', 'gasused']\n",
    "\n",
    "first_file = True\n",
    "for folder in data_folders:\n",
    "\n",
    "    hourly_files = glob.glob(folder + '/*.csv.gz')\n",
    "    hourly_files.sort()\n",
    "    for hour in hourly_files:\n",
    "        print(hour)\n",
    "        \n",
    "        # Load the data\n",
    "        df = pd.read_csv(hour, compression='gzip', sep='\\t')\n",
    "        print(df['detecttime'].iloc[0])\n",
    "\n",
    "        # Filter for us-east-1 and type 2 txns\n",
    "        df = df[df['region'] == 'us-east-1']\n",
    "        df = df[df['type'] == 2]\n",
    "\n",
    "        # Keep only the columns we want\n",
    "        df = df[cols_to_keep]\n",
    "\n",
    "        # append the df to a master df\n",
    "        master_file = os.path.join(destination_path, 'master.csv.gz')\n",
    "        if first_file == True:\n",
    "            df.to_csv(master_file, compression='gzip', sep='\\t', mode='a', header=True, index=False)\n",
    "            first_file = False\n",
    "        else:\n",
    "            df.to_csv(master_file, compression='gzip', sep='\\t', mode='a', header=False, index=False)"
   ]
  },
  {
   "cell_type": "code",
   "execution_count": null,
   "metadata": {},
   "outputs": [],
   "source": [
    "# open the master file. Is the column detecttime monotonically increasing? If not there is a problem\n",
    "master_file = '/Volumes/Seagate/misc/master.csv.gz'\n",
    "\n",
    "df = pd.read_csv(master_file, compression='gzip', sep='\\t')\n",
    "df['detecttime'].is_monotonic_increasing"
   ]
  }
 ],
 "metadata": {
  "kernelspec": {
   "display_name": "camcos",
   "language": "python",
   "name": "python3"
  },
  "language_info": {
   "codemirror_mode": {
    "name": "ipython",
    "version": 3
   },
   "file_extension": ".py",
   "mimetype": "text/x-python",
   "name": "python",
   "nbconvert_exporter": "python",
   "pygments_lexer": "ipython3",
   "version": "3.11.5"
  }
 },
 "nbformat": 4,
 "nbformat_minor": 2
}
