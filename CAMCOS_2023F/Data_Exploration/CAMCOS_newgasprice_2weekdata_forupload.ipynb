{
 "cells": [
  {
   "cell_type": "markdown",
   "metadata": {},
   "source": [
    "# Work on new gas price variable, using two weeks of data\n",
    "two weeks: (08/25/23-09/07/23), code reference date: 11/11/23\n",
    "### Separately created master_finalized_txns_limited.csv \n",
    "### from master_finalized_txns.csv.gz (which Tara created)\n",
    "(status in (confirmed, failed))\n",
    "### Calculate newgasprice\n",
    "### Generate summary statistics, histogram for newgasprice\n"
   ]
  },
  {
   "cell_type": "code",
   "execution_count": 1,
   "metadata": {},
   "outputs": [],
   "source": [
    "import pandas as pd\n",
    "import numpy as np\n",
    "import matplotlib.pyplot as plt\n",
    "\n",
    "import seaborn as sns\n",
    "import datetime\n",
    "import scipy\n",
    "\n",
    "import gzip"
   ]
  },
  {
   "cell_type": "code",
   "execution_count": 2,
   "metadata": {},
   "outputs": [
    {
     "data": {
      "text/plain": [
       "(10505807, 4)"
      ]
     },
     "execution_count": 2,
     "metadata": {},
     "output_type": "execute_result"
    }
   ],
   "source": [
    "from pathlib import Path\n",
    "\n",
    "# Data folder location\n",
    "#### ADD PATH HERE ###\n",
    "\n",
    "#read in TWO WEEK, trimmed and finalized, LIMITED mempool data set\n",
    "\n",
    "limited_df = data_folder/'master_finalized_txns_limited.csv'\n",
    "df = pd.read_csv(limited_df)\n",
    "\n",
    "\n",
    "df = df.loc[: , ['basefeepergas', 'maxpriorityfeepergas', 'maxfeepergas', 'timepending']]\n",
    "df.shape\n",
    "\n"
   ]
  },
  {
   "cell_type": "code",
   "execution_count": null,
   "metadata": {},
   "outputs": [],
   "source": [
    "#df.head()"
   ]
  },
  {
   "cell_type": "code",
   "execution_count": 3,
   "metadata": {},
   "outputs": [],
   "source": [
    "del limited_df\n",
    "#del df3\n",
    "#del df9\n",
    "#del df10"
   ]
  },
  {
   "cell_type": "markdown",
   "metadata": {},
   "source": [
    "## Calculate newgasprice"
   ]
  },
  {
   "cell_type": "code",
   "execution_count": 4,
   "metadata": {},
   "outputs": [
    {
     "data": {
      "text/plain": [
       "(10505807, 6)"
      ]
     },
     "execution_count": 4,
     "metadata": {},
     "output_type": "execute_result"
    }
   ],
   "source": [
    "#Calculate gasprice variable\n",
    "#df[\"maxpriorityfeepergas\"].describe()\n",
    "#df[\"basefeepergas\"].describe()\n",
    "#df[\"maxfeepergas\"].describe()\n",
    "\n",
    "df['mybid'] = df['basefeepergas'] + df['maxpriorityfeepergas']\n",
    "\n",
    "df['newgasprice'] = df[['mybid','maxfeepergas']].values.min(axis=1)\n",
    "\n",
    "df.shape"
   ]
  },
  {
   "cell_type": "code",
   "execution_count": 5,
   "metadata": {},
   "outputs": [
    {
     "data": {
      "text/plain": [
       "count    1.050581e+07\n",
       "mean     2.105507e+10\n",
       "std      1.972518e+10\n",
       "min      8.020358e+09\n",
       "25%      1.254281e+10\n",
       "50%      1.640310e+10\n",
       "75%      2.439216e+10\n",
       "max      2.001814e+13\n",
       "Name: mybid, dtype: float64"
      ]
     },
     "execution_count": 5,
     "metadata": {},
     "output_type": "execute_result"
    }
   ],
   "source": [
    "df['mybid'].describe()"
   ]
  },
  {
   "cell_type": "code",
   "execution_count": 6,
   "metadata": {},
   "outputs": [
    {
     "data": {
      "text/plain": [
       "count    1.050581e+07\n",
       "mean     2.039117e+10\n",
       "std      1.880693e+10\n",
       "min      8.020358e+09\n",
       "25%      1.245359e+10\n",
       "50%      1.610151e+10\n",
       "75%      2.348827e+10\n",
       "max      2.000050e+13\n",
       "Name: newgasprice, dtype: float64"
      ]
     },
     "execution_count": 6,
     "metadata": {},
     "output_type": "execute_result"
    }
   ],
   "source": [
    "df['newgasprice'].describe()"
   ]
  },
  {
   "cell_type": "code",
   "execution_count": null,
   "metadata": {},
   "outputs": [],
   "source": [
    "#Visual check that new gas price is calculated correctly (print 20 rows)\n",
    "\n",
    "#df.iloc[1:20, :]\n"
   ]
  },
  {
   "cell_type": "code",
   "execution_count": null,
   "metadata": {},
   "outputs": [],
   "source": [
    "#some examples where the maxfeepergas determined the new gas price\n",
    "#df[df['maxfeepergas']==df['newgasprice']].iloc[1:10, : ]\n"
   ]
  },
  {
   "cell_type": "code",
   "execution_count": null,
   "metadata": {},
   "outputs": [],
   "source": [
    "#some examples where the base fee and tip determined the new gas price\n",
    "#df2[df2['maxfeepergas']!=df2['newgasprice']].iloc[1:10, :]\n",
    "#df2[df2['maxfeepergas']!=df2['newgasprice']].iloc[1:10, [21,19,27,20,28]]"
   ]
  },
  {
   "cell_type": "code",
   "execution_count": 7,
   "metadata": {},
   "outputs": [
    {
     "data": {
      "text/plain": [
       "count    1.050581e+07\n",
       "mean     2.039117e+10\n",
       "std      1.880693e+10\n",
       "min      8.020358e+09\n",
       "25%      1.245359e+10\n",
       "50%      1.610151e+10\n",
       "75%      2.348827e+10\n",
       "max      2.000050e+13\n",
       "Name: newgasprice, dtype: float64"
      ]
     },
     "execution_count": 7,
     "metadata": {},
     "output_type": "execute_result"
    }
   ],
   "source": [
    "df['newgasprice'].describe()"
   ]
  },
  {
   "cell_type": "code",
   "execution_count": 8,
   "metadata": {},
   "outputs": [
    {
     "data": {
      "text/plain": [
       "count    1.050581e+07\n",
       "mean     2.039117e+01\n",
       "std      1.880693e+01\n",
       "min      8.020358e+00\n",
       "25%      1.245359e+01\n",
       "50%      1.610151e+01\n",
       "75%      2.348827e+01\n",
       "max      2.000050e+04\n",
       "Name: newgasprice_, dtype: float64"
      ]
     },
     "execution_count": 8,
     "metadata": {},
     "output_type": "execute_result"
    }
   ],
   "source": [
    "#Convert newgasprice to gwei/gas\n",
    "#   basefeepergas, maxpriorityfeepergas, and maxfeepergas are \"denominated in wei\"\n",
    "#   according to updated blocknative schema\n",
    "#   We assume this means that the units for these variables, and newgasprice calculated from these variables\n",
    "#        is actually wei/gas, \n",
    "#        so to convert from wei/gas to gwei/gas, we divide by 10^9\n",
    "df['newgasprice_'] = df['newgasprice']/(10**9)\n",
    "df['newgasprice_'].describe()"
   ]
  },
  {
   "cell_type": "code",
   "execution_count": 9,
   "metadata": {},
   "outputs": [
    {
     "data": {
      "text/plain": [
       "69.803846911"
      ]
     },
     "execution_count": 9,
     "metadata": {},
     "output_type": "execute_result"
    }
   ],
   "source": [
    "#find 99th percentile for newgasprice_\n",
    "#(NOTE: percentile function was not working before with timepending: rows with missing timepending had not been removed)\n",
    "#np.nanpercentile(df3['timepending'], 99)\n",
    "\n",
    "x = np.percentile(df['newgasprice_'], 99)\n",
    "x"
   ]
  },
  {
   "cell_type": "code",
   "execution_count": null,
   "metadata": {},
   "outputs": [],
   "source": [
    "#some examples where newgasprice_ > 120\n",
    "#df[df['newgasprice_'] > 120].iloc[1:10, [21,19,27,20,28,29]]\n",
    "#df[df['newgasprice_'] > 120].iloc[1:10, :]"
   ]
  },
  {
   "cell_type": "code",
   "execution_count": 10,
   "metadata": {},
   "outputs": [],
   "source": [
    "#del df10\n",
    "df10  = df[df['newgasprice_']<x]\n",
    "#df10['newgasprice_'].describe()"
   ]
  },
  {
   "cell_type": "markdown",
   "metadata": {},
   "source": [
    "## Gas Price Plot and summary statistics"
   ]
  },
  {
   "cell_type": "code",
   "execution_count": 12,
   "metadata": {
    "scrolled": true
   },
   "outputs": [
    {
     "data": {
      "image/png": "[encoded data removed]",
      "text/plain": [
       "<Figure size 1152x288 with 1 Axes>"
      ]
     },
     "metadata": {
      "needs_background": "light"
     },
     "output_type": "display_data"
    }
   ],
   "source": [
    "#Plot of calculated gas price that does not include the top 1%\n",
    "plt.figure(figsize=(16,4))\n",
    "sns.histplot(df10['newgasprice_'], bins=100, kde=True, edgecolor = 'black')\n",
    "plt.title('Distribution of Calculated Gas Price\\nTwo Weeks of Data Aug 25 to Sep 7 2023 \\nUp to 99th percentile shown')\n",
    "plt.xlabel('Gas price in gwei/gas')\n",
    "plt.show()"
   ]
  },
  {
   "cell_type": "code",
   "execution_count": 13,
   "metadata": {
    "scrolled": true
   },
   "outputs": [
    {
     "data": {
      "text/plain": [
       "count    1.050581e+07\n",
       "mean     2.039117e+01\n",
       "std      1.880693e+01\n",
       "min      8.020358e+00\n",
       "25%      1.245359e+01\n",
       "50%      1.610151e+01\n",
       "75%      2.348827e+01\n",
       "max      2.000050e+04\n",
       "Name: newgasprice_, dtype: float64"
      ]
     },
     "execution_count": 13,
     "metadata": {},
     "output_type": "execute_result"
    }
   ],
   "source": [
    "#NOTE: df has all finalized rows from the trimmed two week data set (appropriate for summary statistics), \n",
    "#     d10 excludes the top 1% of newgasprice values (for the histogram only)\n",
    "df['newgasprice_'].describe()"
   ]
  },
  {
   "cell_type": "code",
   "execution_count": null,
   "metadata": {},
   "outputs": [],
   "source": []
  }
 ],
 "metadata": {
  "kernelspec": {
   "display_name": "Python 3 (ipykernel)",
   "language": "python",
   "name": "python3"
  },
  "language_info": {
   "codemirror_mode": {
    "name": "ipython",
    "version": 3
   },
   "file_extension": ".py",
   "mimetype": "text/x-python",
   "name": "python",
   "nbconvert_exporter": "python",
   "pygments_lexer": "ipython3",
   "version": "3.11.5"
  }
 },
 "nbformat": 4,
 "nbformat_minor": 4
}
